{
 "cells": [
  {
   "cell_type": "markdown",
   "metadata": {},
   "source": [
    "# Credit Card Fraud Detection\n",
    "Dealing with imbalanced datasets\n",
    "\n",
    "Detect analomoies which can indicate possibly fradulant charges in credit card transaction data. \n",
    "\n",
    "https://www.kaggle.com/mlg-ulb/creditcardfraud/version/3"
   ]
  },
  {
   "cell_type": "markdown",
   "metadata": {},
   "source": [
    "### Load packages"
   ]
  },
  {
   "cell_type": "code",
   "execution_count": 56,
   "metadata": {},
   "outputs": [
    {
     "data": {
      "text/html": [
       "        <script type=\"text/javascript\">\n",
       "        window.PlotlyConfig = {MathJaxConfig: 'local'};\n",
       "        if (window.MathJax) {MathJax.Hub.Config({SVG: {font: \"STIX-Web\"}});}\n",
       "        if (typeof require !== 'undefined') {\n",
       "        require.undef(\"plotly\");\n",
       "        requirejs.config({\n",
       "            paths: {\n",
       "                'plotly': ['https://cdn.plot.ly/plotly-latest.min']\n",
       "            }\n",
       "        });\n",
       "        require(['plotly'], function(Plotly) {\n",
       "            window._Plotly = Plotly;\n",
       "        });\n",
       "        }\n",
       "        </script>\n",
       "        "
      ]
     },
     "metadata": {},
     "output_type": "display_data"
    }
   ],
   "source": [
    "import pandas as pd \n",
    "import numpy as np\n",
    "import matplotlib\n",
    "import matplotlib.pyplot as plt\n",
    "import seaborn as sns\n",
    "%matplotlib inline \n",
    "import plotly.graph_objs as go\n",
    "import plotly.figure_factory as ff\n",
    "from plotly import tools\n",
    "from plotly.offline import download_plotlyjs, init_notebook_mode, plot, iplot\n",
    "init_notebook_mode(connected=True)\n",
    "sns.set()\n",
    "\n",
    "import gc\n",
    "from datetime import datetime \n",
    "from sklearn.model_selection import train_test_split\n",
    "from sklearn.model_selection import KFold\n",
    "from sklearn.metrics import roc_auc_score, confusion_matrix\n",
    "from sklearn.ensemble import RandomForestClassifier\n",
    "from sklearn.ensemble import AdaBoostClassifier\n",
    "from catboost import CatBoostClassifier\n",
    "from sklearn import svm\n",
    "import lightgbm as lgb\n",
    "from lightgbm import LGBMClassifier\n",
    "import xgboost as xgb\n",
    "\n",
    "import time\n",
    "pd.set_option('display.max_columns', 32)\n",
    "import os\n",
    "import warnings\n",
    "warnings.filterwarnings(\"default\", category=DeprecationWarning)"
   ]
  },
  {
   "cell_type": "markdown",
   "metadata": {},
   "source": [
    "### Read data"
   ]
  },
  {
   "cell_type": "code",
   "execution_count": 57,
   "metadata": {},
   "outputs": [],
   "source": [
    "df = pd.read_csv(\"creditcard.csv\")\n",
    "df_copy = df.copy()"
   ]
  },
  {
   "cell_type": "markdown",
   "metadata": {},
   "source": [
    "### EDA"
   ]
  },
  {
   "cell_type": "code",
   "execution_count": 58,
   "metadata": {},
   "outputs": [
    {
     "name": "stdout",
     "output_type": "stream",
     "text": [
      "Credit Card Fraud Detection data -  rows: 284807  columns: 31\n"
     ]
    }
   ],
   "source": [
    "print(\"Credit Card Fraud Detection data -  rows:\",df.shape[0],\" columns:\", df.shape[1])"
   ]
  },
  {
   "cell_type": "code",
   "execution_count": 59,
   "metadata": {},
   "outputs": [
    {
     "name": "stdout",
     "output_type": "stream",
     "text": [
      "<class 'pandas.core.frame.DataFrame'>\n",
      "RangeIndex: 284807 entries, 0 to 284806\n",
      "Data columns (total 31 columns):\n",
      " #   Column  Non-Null Count   Dtype  \n",
      "---  ------  --------------   -----  \n",
      " 0   Time    284807 non-null  float64\n",
      " 1   V1      284807 non-null  float64\n",
      " 2   V2      284807 non-null  float64\n",
      " 3   V3      284807 non-null  float64\n",
      " 4   V4      284807 non-null  float64\n",
      " 5   V5      284807 non-null  float64\n",
      " 6   V6      284807 non-null  float64\n",
      " 7   V7      284807 non-null  float64\n",
      " 8   V8      284807 non-null  float64\n",
      " 9   V9      284807 non-null  float64\n",
      " 10  V10     284807 non-null  float64\n",
      " 11  V11     284807 non-null  float64\n",
      " 12  V12     284807 non-null  float64\n",
      " 13  V13     284807 non-null  float64\n",
      " 14  V14     284807 non-null  float64\n",
      " 15  V15     284807 non-null  float64\n",
      " 16  V16     284807 non-null  float64\n",
      " 17  V17     284807 non-null  float64\n",
      " 18  V18     284807 non-null  float64\n",
      " 19  V19     284807 non-null  float64\n",
      " 20  V20     284807 non-null  float64\n",
      " 21  V21     284807 non-null  float64\n",
      " 22  V22     284807 non-null  float64\n",
      " 23  V23     284807 non-null  float64\n",
      " 24  V24     284807 non-null  float64\n",
      " 25  V25     284807 non-null  float64\n",
      " 26  V26     284807 non-null  float64\n",
      " 27  V27     284807 non-null  float64\n",
      " 28  V28     284807 non-null  float64\n",
      " 29  Amount  284807 non-null  float64\n",
      " 30  Class   284807 non-null  int64  \n",
      "dtypes: float64(30), int64(1)\n",
      "memory usage: 67.4 MB\n"
     ]
    }
   ],
   "source": [
    "df.info()"
   ]
  },
  {
   "cell_type": "code",
   "execution_count": 60,
   "metadata": {},
   "outputs": [
    {
     "data": {
      "text/html": [
       "<div>\n",
       "<style scoped>\n",
       "    .dataframe tbody tr th:only-of-type {\n",
       "        vertical-align: middle;\n",
       "    }\n",
       "\n",
       "    .dataframe tbody tr th {\n",
       "        vertical-align: top;\n",
       "    }\n",
       "\n",
       "    .dataframe thead th {\n",
       "        text-align: right;\n",
       "    }\n",
       "</style>\n",
       "<table border=\"1\" class=\"dataframe\">\n",
       "  <thead>\n",
       "    <tr style=\"text-align: right;\">\n",
       "      <th></th>\n",
       "      <th>Time</th>\n",
       "      <th>V1</th>\n",
       "      <th>V2</th>\n",
       "      <th>V3</th>\n",
       "      <th>V4</th>\n",
       "      <th>V5</th>\n",
       "      <th>V6</th>\n",
       "      <th>V7</th>\n",
       "      <th>V8</th>\n",
       "      <th>V9</th>\n",
       "      <th>V10</th>\n",
       "      <th>V11</th>\n",
       "      <th>V12</th>\n",
       "      <th>V13</th>\n",
       "      <th>V14</th>\n",
       "      <th>V15</th>\n",
       "      <th>V16</th>\n",
       "      <th>V17</th>\n",
       "      <th>V18</th>\n",
       "      <th>V19</th>\n",
       "      <th>V20</th>\n",
       "      <th>V21</th>\n",
       "      <th>V22</th>\n",
       "      <th>V23</th>\n",
       "      <th>V24</th>\n",
       "      <th>V25</th>\n",
       "      <th>V26</th>\n",
       "      <th>V27</th>\n",
       "      <th>V28</th>\n",
       "      <th>Amount</th>\n",
       "      <th>Class</th>\n",
       "    </tr>\n",
       "  </thead>\n",
       "  <tbody>\n",
       "    <tr>\n",
       "      <th>0</th>\n",
       "      <td>0.0</td>\n",
       "      <td>-1.359807</td>\n",
       "      <td>-0.072781</td>\n",
       "      <td>2.536347</td>\n",
       "      <td>1.378155</td>\n",
       "      <td>-0.338321</td>\n",
       "      <td>0.462388</td>\n",
       "      <td>0.239599</td>\n",
       "      <td>0.098698</td>\n",
       "      <td>0.363787</td>\n",
       "      <td>0.090794</td>\n",
       "      <td>-0.551600</td>\n",
       "      <td>-0.617801</td>\n",
       "      <td>-0.991390</td>\n",
       "      <td>-0.311169</td>\n",
       "      <td>1.468177</td>\n",
       "      <td>-0.470401</td>\n",
       "      <td>0.207971</td>\n",
       "      <td>0.025791</td>\n",
       "      <td>0.403993</td>\n",
       "      <td>0.251412</td>\n",
       "      <td>-0.018307</td>\n",
       "      <td>0.277838</td>\n",
       "      <td>-0.110474</td>\n",
       "      <td>0.066928</td>\n",
       "      <td>0.128539</td>\n",
       "      <td>-0.189115</td>\n",
       "      <td>0.133558</td>\n",
       "      <td>-0.021053</td>\n",
       "      <td>149.62</td>\n",
       "      <td>0</td>\n",
       "    </tr>\n",
       "    <tr>\n",
       "      <th>1</th>\n",
       "      <td>0.0</td>\n",
       "      <td>1.191857</td>\n",
       "      <td>0.266151</td>\n",
       "      <td>0.166480</td>\n",
       "      <td>0.448154</td>\n",
       "      <td>0.060018</td>\n",
       "      <td>-0.082361</td>\n",
       "      <td>-0.078803</td>\n",
       "      <td>0.085102</td>\n",
       "      <td>-0.255425</td>\n",
       "      <td>-0.166974</td>\n",
       "      <td>1.612727</td>\n",
       "      <td>1.065235</td>\n",
       "      <td>0.489095</td>\n",
       "      <td>-0.143772</td>\n",
       "      <td>0.635558</td>\n",
       "      <td>0.463917</td>\n",
       "      <td>-0.114805</td>\n",
       "      <td>-0.183361</td>\n",
       "      <td>-0.145783</td>\n",
       "      <td>-0.069083</td>\n",
       "      <td>-0.225775</td>\n",
       "      <td>-0.638672</td>\n",
       "      <td>0.101288</td>\n",
       "      <td>-0.339846</td>\n",
       "      <td>0.167170</td>\n",
       "      <td>0.125895</td>\n",
       "      <td>-0.008983</td>\n",
       "      <td>0.014724</td>\n",
       "      <td>2.69</td>\n",
       "      <td>0</td>\n",
       "    </tr>\n",
       "    <tr>\n",
       "      <th>2</th>\n",
       "      <td>1.0</td>\n",
       "      <td>-1.358354</td>\n",
       "      <td>-1.340163</td>\n",
       "      <td>1.773209</td>\n",
       "      <td>0.379780</td>\n",
       "      <td>-0.503198</td>\n",
       "      <td>1.800499</td>\n",
       "      <td>0.791461</td>\n",
       "      <td>0.247676</td>\n",
       "      <td>-1.514654</td>\n",
       "      <td>0.207643</td>\n",
       "      <td>0.624501</td>\n",
       "      <td>0.066084</td>\n",
       "      <td>0.717293</td>\n",
       "      <td>-0.165946</td>\n",
       "      <td>2.345865</td>\n",
       "      <td>-2.890083</td>\n",
       "      <td>1.109969</td>\n",
       "      <td>-0.121359</td>\n",
       "      <td>-2.261857</td>\n",
       "      <td>0.524980</td>\n",
       "      <td>0.247998</td>\n",
       "      <td>0.771679</td>\n",
       "      <td>0.909412</td>\n",
       "      <td>-0.689281</td>\n",
       "      <td>-0.327642</td>\n",
       "      <td>-0.139097</td>\n",
       "      <td>-0.055353</td>\n",
       "      <td>-0.059752</td>\n",
       "      <td>378.66</td>\n",
       "      <td>0</td>\n",
       "    </tr>\n",
       "    <tr>\n",
       "      <th>3</th>\n",
       "      <td>1.0</td>\n",
       "      <td>-0.966272</td>\n",
       "      <td>-0.185226</td>\n",
       "      <td>1.792993</td>\n",
       "      <td>-0.863291</td>\n",
       "      <td>-0.010309</td>\n",
       "      <td>1.247203</td>\n",
       "      <td>0.237609</td>\n",
       "      <td>0.377436</td>\n",
       "      <td>-1.387024</td>\n",
       "      <td>-0.054952</td>\n",
       "      <td>-0.226487</td>\n",
       "      <td>0.178228</td>\n",
       "      <td>0.507757</td>\n",
       "      <td>-0.287924</td>\n",
       "      <td>-0.631418</td>\n",
       "      <td>-1.059647</td>\n",
       "      <td>-0.684093</td>\n",
       "      <td>1.965775</td>\n",
       "      <td>-1.232622</td>\n",
       "      <td>-0.208038</td>\n",
       "      <td>-0.108300</td>\n",
       "      <td>0.005274</td>\n",
       "      <td>-0.190321</td>\n",
       "      <td>-1.175575</td>\n",
       "      <td>0.647376</td>\n",
       "      <td>-0.221929</td>\n",
       "      <td>0.062723</td>\n",
       "      <td>0.061458</td>\n",
       "      <td>123.50</td>\n",
       "      <td>0</td>\n",
       "    </tr>\n",
       "    <tr>\n",
       "      <th>4</th>\n",
       "      <td>2.0</td>\n",
       "      <td>-1.158233</td>\n",
       "      <td>0.877737</td>\n",
       "      <td>1.548718</td>\n",
       "      <td>0.403034</td>\n",
       "      <td>-0.407193</td>\n",
       "      <td>0.095921</td>\n",
       "      <td>0.592941</td>\n",
       "      <td>-0.270533</td>\n",
       "      <td>0.817739</td>\n",
       "      <td>0.753074</td>\n",
       "      <td>-0.822843</td>\n",
       "      <td>0.538196</td>\n",
       "      <td>1.345852</td>\n",
       "      <td>-1.119670</td>\n",
       "      <td>0.175121</td>\n",
       "      <td>-0.451449</td>\n",
       "      <td>-0.237033</td>\n",
       "      <td>-0.038195</td>\n",
       "      <td>0.803487</td>\n",
       "      <td>0.408542</td>\n",
       "      <td>-0.009431</td>\n",
       "      <td>0.798278</td>\n",
       "      <td>-0.137458</td>\n",
       "      <td>0.141267</td>\n",
       "      <td>-0.206010</td>\n",
       "      <td>0.502292</td>\n",
       "      <td>0.219422</td>\n",
       "      <td>0.215153</td>\n",
       "      <td>69.99</td>\n",
       "      <td>0</td>\n",
       "    </tr>\n",
       "  </tbody>\n",
       "</table>\n",
       "</div>"
      ],
      "text/plain": [
       "   Time        V1        V2        V3        V4        V5        V6        V7  \\\n",
       "0   0.0 -1.359807 -0.072781  2.536347  1.378155 -0.338321  0.462388  0.239599   \n",
       "1   0.0  1.191857  0.266151  0.166480  0.448154  0.060018 -0.082361 -0.078803   \n",
       "2   1.0 -1.358354 -1.340163  1.773209  0.379780 -0.503198  1.800499  0.791461   \n",
       "3   1.0 -0.966272 -0.185226  1.792993 -0.863291 -0.010309  1.247203  0.237609   \n",
       "4   2.0 -1.158233  0.877737  1.548718  0.403034 -0.407193  0.095921  0.592941   \n",
       "\n",
       "         V8        V9       V10       V11       V12       V13       V14  \\\n",
       "0  0.098698  0.363787  0.090794 -0.551600 -0.617801 -0.991390 -0.311169   \n",
       "1  0.085102 -0.255425 -0.166974  1.612727  1.065235  0.489095 -0.143772   \n",
       "2  0.247676 -1.514654  0.207643  0.624501  0.066084  0.717293 -0.165946   \n",
       "3  0.377436 -1.387024 -0.054952 -0.226487  0.178228  0.507757 -0.287924   \n",
       "4 -0.270533  0.817739  0.753074 -0.822843  0.538196  1.345852 -1.119670   \n",
       "\n",
       "        V15       V16       V17       V18       V19       V20       V21  \\\n",
       "0  1.468177 -0.470401  0.207971  0.025791  0.403993  0.251412 -0.018307   \n",
       "1  0.635558  0.463917 -0.114805 -0.183361 -0.145783 -0.069083 -0.225775   \n",
       "2  2.345865 -2.890083  1.109969 -0.121359 -2.261857  0.524980  0.247998   \n",
       "3 -0.631418 -1.059647 -0.684093  1.965775 -1.232622 -0.208038 -0.108300   \n",
       "4  0.175121 -0.451449 -0.237033 -0.038195  0.803487  0.408542 -0.009431   \n",
       "\n",
       "        V22       V23       V24       V25       V26       V27       V28  \\\n",
       "0  0.277838 -0.110474  0.066928  0.128539 -0.189115  0.133558 -0.021053   \n",
       "1 -0.638672  0.101288 -0.339846  0.167170  0.125895 -0.008983  0.014724   \n",
       "2  0.771679  0.909412 -0.689281 -0.327642 -0.139097 -0.055353 -0.059752   \n",
       "3  0.005274 -0.190321 -1.175575  0.647376 -0.221929  0.062723  0.061458   \n",
       "4  0.798278 -0.137458  0.141267 -0.206010  0.502292  0.219422  0.215153   \n",
       "\n",
       "   Amount  Class  \n",
       "0  149.62      0  \n",
       "1    2.69      0  \n",
       "2  378.66      0  \n",
       "3  123.50      0  \n",
       "4   69.99      0  "
      ]
     },
     "execution_count": 60,
     "metadata": {},
     "output_type": "execute_result"
    }
   ],
   "source": [
    "df.head()\n",
    "# It contains only numerical input variables which are the result of a PCA transformation. "
   ]
  },
  {
   "cell_type": "code",
   "execution_count": 61,
   "metadata": {},
   "outputs": [
    {
     "data": {
      "text/html": [
       "<div>\n",
       "<style scoped>\n",
       "    .dataframe tbody tr th:only-of-type {\n",
       "        vertical-align: middle;\n",
       "    }\n",
       "\n",
       "    .dataframe tbody tr th {\n",
       "        vertical-align: top;\n",
       "    }\n",
       "\n",
       "    .dataframe thead th {\n",
       "        text-align: right;\n",
       "    }\n",
       "</style>\n",
       "<table border=\"1\" class=\"dataframe\">\n",
       "  <thead>\n",
       "    <tr style=\"text-align: right;\">\n",
       "      <th></th>\n",
       "      <th>count</th>\n",
       "      <th>mean</th>\n",
       "      <th>std</th>\n",
       "      <th>min</th>\n",
       "      <th>25%</th>\n",
       "      <th>50%</th>\n",
       "      <th>75%</th>\n",
       "      <th>max</th>\n",
       "    </tr>\n",
       "  </thead>\n",
       "  <tbody>\n",
       "    <tr>\n",
       "      <th>Time</th>\n",
       "      <td>284807.0</td>\n",
       "      <td>9.481386e+04</td>\n",
       "      <td>47488.145955</td>\n",
       "      <td>0.000000</td>\n",
       "      <td>54201.500000</td>\n",
       "      <td>84692.000000</td>\n",
       "      <td>139320.500000</td>\n",
       "      <td>172792.000000</td>\n",
       "    </tr>\n",
       "    <tr>\n",
       "      <th>V1</th>\n",
       "      <td>284807.0</td>\n",
       "      <td>3.919560e-15</td>\n",
       "      <td>1.958696</td>\n",
       "      <td>-56.407510</td>\n",
       "      <td>-0.920373</td>\n",
       "      <td>0.018109</td>\n",
       "      <td>1.315642</td>\n",
       "      <td>2.454930</td>\n",
       "    </tr>\n",
       "    <tr>\n",
       "      <th>V2</th>\n",
       "      <td>284807.0</td>\n",
       "      <td>5.688174e-16</td>\n",
       "      <td>1.651309</td>\n",
       "      <td>-72.715728</td>\n",
       "      <td>-0.598550</td>\n",
       "      <td>0.065486</td>\n",
       "      <td>0.803724</td>\n",
       "      <td>22.057729</td>\n",
       "    </tr>\n",
       "    <tr>\n",
       "      <th>V3</th>\n",
       "      <td>284807.0</td>\n",
       "      <td>-8.769071e-15</td>\n",
       "      <td>1.516255</td>\n",
       "      <td>-48.325589</td>\n",
       "      <td>-0.890365</td>\n",
       "      <td>0.179846</td>\n",
       "      <td>1.027196</td>\n",
       "      <td>9.382558</td>\n",
       "    </tr>\n",
       "    <tr>\n",
       "      <th>V4</th>\n",
       "      <td>284807.0</td>\n",
       "      <td>2.782312e-15</td>\n",
       "      <td>1.415869</td>\n",
       "      <td>-5.683171</td>\n",
       "      <td>-0.848640</td>\n",
       "      <td>-0.019847</td>\n",
       "      <td>0.743341</td>\n",
       "      <td>16.875344</td>\n",
       "    </tr>\n",
       "    <tr>\n",
       "      <th>V5</th>\n",
       "      <td>284807.0</td>\n",
       "      <td>-1.552563e-15</td>\n",
       "      <td>1.380247</td>\n",
       "      <td>-113.743307</td>\n",
       "      <td>-0.691597</td>\n",
       "      <td>-0.054336</td>\n",
       "      <td>0.611926</td>\n",
       "      <td>34.801666</td>\n",
       "    </tr>\n",
       "    <tr>\n",
       "      <th>V6</th>\n",
       "      <td>284807.0</td>\n",
       "      <td>2.010663e-15</td>\n",
       "      <td>1.332271</td>\n",
       "      <td>-26.160506</td>\n",
       "      <td>-0.768296</td>\n",
       "      <td>-0.274187</td>\n",
       "      <td>0.398565</td>\n",
       "      <td>73.301626</td>\n",
       "    </tr>\n",
       "    <tr>\n",
       "      <th>V7</th>\n",
       "      <td>284807.0</td>\n",
       "      <td>-1.694249e-15</td>\n",
       "      <td>1.237094</td>\n",
       "      <td>-43.557242</td>\n",
       "      <td>-0.554076</td>\n",
       "      <td>0.040103</td>\n",
       "      <td>0.570436</td>\n",
       "      <td>120.589494</td>\n",
       "    </tr>\n",
       "    <tr>\n",
       "      <th>V8</th>\n",
       "      <td>284807.0</td>\n",
       "      <td>-1.927028e-16</td>\n",
       "      <td>1.194353</td>\n",
       "      <td>-73.216718</td>\n",
       "      <td>-0.208630</td>\n",
       "      <td>0.022358</td>\n",
       "      <td>0.327346</td>\n",
       "      <td>20.007208</td>\n",
       "    </tr>\n",
       "    <tr>\n",
       "      <th>V9</th>\n",
       "      <td>284807.0</td>\n",
       "      <td>-3.137024e-15</td>\n",
       "      <td>1.098632</td>\n",
       "      <td>-13.434066</td>\n",
       "      <td>-0.643098</td>\n",
       "      <td>-0.051429</td>\n",
       "      <td>0.597139</td>\n",
       "      <td>15.594995</td>\n",
       "    </tr>\n",
       "    <tr>\n",
       "      <th>V10</th>\n",
       "      <td>284807.0</td>\n",
       "      <td>1.768627e-15</td>\n",
       "      <td>1.088850</td>\n",
       "      <td>-24.588262</td>\n",
       "      <td>-0.535426</td>\n",
       "      <td>-0.092917</td>\n",
       "      <td>0.453923</td>\n",
       "      <td>23.745136</td>\n",
       "    </tr>\n",
       "    <tr>\n",
       "      <th>V11</th>\n",
       "      <td>284807.0</td>\n",
       "      <td>9.170318e-16</td>\n",
       "      <td>1.020713</td>\n",
       "      <td>-4.797473</td>\n",
       "      <td>-0.762494</td>\n",
       "      <td>-0.032757</td>\n",
       "      <td>0.739593</td>\n",
       "      <td>12.018913</td>\n",
       "    </tr>\n",
       "    <tr>\n",
       "      <th>V12</th>\n",
       "      <td>284807.0</td>\n",
       "      <td>-1.810658e-15</td>\n",
       "      <td>0.999201</td>\n",
       "      <td>-18.683715</td>\n",
       "      <td>-0.405571</td>\n",
       "      <td>0.140033</td>\n",
       "      <td>0.618238</td>\n",
       "      <td>7.848392</td>\n",
       "    </tr>\n",
       "    <tr>\n",
       "      <th>V13</th>\n",
       "      <td>284807.0</td>\n",
       "      <td>1.693438e-15</td>\n",
       "      <td>0.995274</td>\n",
       "      <td>-5.791881</td>\n",
       "      <td>-0.648539</td>\n",
       "      <td>-0.013568</td>\n",
       "      <td>0.662505</td>\n",
       "      <td>7.126883</td>\n",
       "    </tr>\n",
       "    <tr>\n",
       "      <th>V14</th>\n",
       "      <td>284807.0</td>\n",
       "      <td>1.479045e-15</td>\n",
       "      <td>0.958596</td>\n",
       "      <td>-19.214325</td>\n",
       "      <td>-0.425574</td>\n",
       "      <td>0.050601</td>\n",
       "      <td>0.493150</td>\n",
       "      <td>10.526766</td>\n",
       "    </tr>\n",
       "    <tr>\n",
       "      <th>V15</th>\n",
       "      <td>284807.0</td>\n",
       "      <td>3.482336e-15</td>\n",
       "      <td>0.915316</td>\n",
       "      <td>-4.498945</td>\n",
       "      <td>-0.582884</td>\n",
       "      <td>0.048072</td>\n",
       "      <td>0.648821</td>\n",
       "      <td>8.877742</td>\n",
       "    </tr>\n",
       "    <tr>\n",
       "      <th>V16</th>\n",
       "      <td>284807.0</td>\n",
       "      <td>1.392007e-15</td>\n",
       "      <td>0.876253</td>\n",
       "      <td>-14.129855</td>\n",
       "      <td>-0.468037</td>\n",
       "      <td>0.066413</td>\n",
       "      <td>0.523296</td>\n",
       "      <td>17.315112</td>\n",
       "    </tr>\n",
       "    <tr>\n",
       "      <th>V17</th>\n",
       "      <td>284807.0</td>\n",
       "      <td>-7.528491e-16</td>\n",
       "      <td>0.849337</td>\n",
       "      <td>-25.162799</td>\n",
       "      <td>-0.483748</td>\n",
       "      <td>-0.065676</td>\n",
       "      <td>0.399675</td>\n",
       "      <td>9.253526</td>\n",
       "    </tr>\n",
       "    <tr>\n",
       "      <th>V18</th>\n",
       "      <td>284807.0</td>\n",
       "      <td>4.328772e-16</td>\n",
       "      <td>0.838176</td>\n",
       "      <td>-9.498746</td>\n",
       "      <td>-0.498850</td>\n",
       "      <td>-0.003636</td>\n",
       "      <td>0.500807</td>\n",
       "      <td>5.041069</td>\n",
       "    </tr>\n",
       "    <tr>\n",
       "      <th>V19</th>\n",
       "      <td>284807.0</td>\n",
       "      <td>9.049732e-16</td>\n",
       "      <td>0.814041</td>\n",
       "      <td>-7.213527</td>\n",
       "      <td>-0.456299</td>\n",
       "      <td>0.003735</td>\n",
       "      <td>0.458949</td>\n",
       "      <td>5.591971</td>\n",
       "    </tr>\n",
       "    <tr>\n",
       "      <th>V20</th>\n",
       "      <td>284807.0</td>\n",
       "      <td>5.085503e-16</td>\n",
       "      <td>0.770925</td>\n",
       "      <td>-54.497720</td>\n",
       "      <td>-0.211721</td>\n",
       "      <td>-0.062481</td>\n",
       "      <td>0.133041</td>\n",
       "      <td>39.420904</td>\n",
       "    </tr>\n",
       "    <tr>\n",
       "      <th>V21</th>\n",
       "      <td>284807.0</td>\n",
       "      <td>1.537294e-16</td>\n",
       "      <td>0.734524</td>\n",
       "      <td>-34.830382</td>\n",
       "      <td>-0.228395</td>\n",
       "      <td>-0.029450</td>\n",
       "      <td>0.186377</td>\n",
       "      <td>27.202839</td>\n",
       "    </tr>\n",
       "    <tr>\n",
       "      <th>V22</th>\n",
       "      <td>284807.0</td>\n",
       "      <td>7.959909e-16</td>\n",
       "      <td>0.725702</td>\n",
       "      <td>-10.933144</td>\n",
       "      <td>-0.542350</td>\n",
       "      <td>0.006782</td>\n",
       "      <td>0.528554</td>\n",
       "      <td>10.503090</td>\n",
       "    </tr>\n",
       "    <tr>\n",
       "      <th>V23</th>\n",
       "      <td>284807.0</td>\n",
       "      <td>5.367590e-16</td>\n",
       "      <td>0.624460</td>\n",
       "      <td>-44.807735</td>\n",
       "      <td>-0.161846</td>\n",
       "      <td>-0.011193</td>\n",
       "      <td>0.147642</td>\n",
       "      <td>22.528412</td>\n",
       "    </tr>\n",
       "    <tr>\n",
       "      <th>V24</th>\n",
       "      <td>284807.0</td>\n",
       "      <td>4.458112e-15</td>\n",
       "      <td>0.605647</td>\n",
       "      <td>-2.836627</td>\n",
       "      <td>-0.354586</td>\n",
       "      <td>0.040976</td>\n",
       "      <td>0.439527</td>\n",
       "      <td>4.584549</td>\n",
       "    </tr>\n",
       "    <tr>\n",
       "      <th>V25</th>\n",
       "      <td>284807.0</td>\n",
       "      <td>1.453003e-15</td>\n",
       "      <td>0.521278</td>\n",
       "      <td>-10.295397</td>\n",
       "      <td>-0.317145</td>\n",
       "      <td>0.016594</td>\n",
       "      <td>0.350716</td>\n",
       "      <td>7.519589</td>\n",
       "    </tr>\n",
       "    <tr>\n",
       "      <th>V26</th>\n",
       "      <td>284807.0</td>\n",
       "      <td>1.699104e-15</td>\n",
       "      <td>0.482227</td>\n",
       "      <td>-2.604551</td>\n",
       "      <td>-0.326984</td>\n",
       "      <td>-0.052139</td>\n",
       "      <td>0.240952</td>\n",
       "      <td>3.517346</td>\n",
       "    </tr>\n",
       "    <tr>\n",
       "      <th>V27</th>\n",
       "      <td>284807.0</td>\n",
       "      <td>-3.660161e-16</td>\n",
       "      <td>0.403632</td>\n",
       "      <td>-22.565679</td>\n",
       "      <td>-0.070840</td>\n",
       "      <td>0.001342</td>\n",
       "      <td>0.091045</td>\n",
       "      <td>31.612198</td>\n",
       "    </tr>\n",
       "    <tr>\n",
       "      <th>V28</th>\n",
       "      <td>284807.0</td>\n",
       "      <td>-1.206049e-16</td>\n",
       "      <td>0.330083</td>\n",
       "      <td>-15.430084</td>\n",
       "      <td>-0.052960</td>\n",
       "      <td>0.011244</td>\n",
       "      <td>0.078280</td>\n",
       "      <td>33.847808</td>\n",
       "    </tr>\n",
       "    <tr>\n",
       "      <th>Amount</th>\n",
       "      <td>284807.0</td>\n",
       "      <td>8.834962e+01</td>\n",
       "      <td>250.120109</td>\n",
       "      <td>0.000000</td>\n",
       "      <td>5.600000</td>\n",
       "      <td>22.000000</td>\n",
       "      <td>77.165000</td>\n",
       "      <td>25691.160000</td>\n",
       "    </tr>\n",
       "    <tr>\n",
       "      <th>Class</th>\n",
       "      <td>284807.0</td>\n",
       "      <td>1.727486e-03</td>\n",
       "      <td>0.041527</td>\n",
       "      <td>0.000000</td>\n",
       "      <td>0.000000</td>\n",
       "      <td>0.000000</td>\n",
       "      <td>0.000000</td>\n",
       "      <td>1.000000</td>\n",
       "    </tr>\n",
       "  </tbody>\n",
       "</table>\n",
       "</div>"
      ],
      "text/plain": [
       "           count          mean           std         min           25%  \\\n",
       "Time    284807.0  9.481386e+04  47488.145955    0.000000  54201.500000   \n",
       "V1      284807.0  3.919560e-15      1.958696  -56.407510     -0.920373   \n",
       "V2      284807.0  5.688174e-16      1.651309  -72.715728     -0.598550   \n",
       "V3      284807.0 -8.769071e-15      1.516255  -48.325589     -0.890365   \n",
       "V4      284807.0  2.782312e-15      1.415869   -5.683171     -0.848640   \n",
       "V5      284807.0 -1.552563e-15      1.380247 -113.743307     -0.691597   \n",
       "V6      284807.0  2.010663e-15      1.332271  -26.160506     -0.768296   \n",
       "V7      284807.0 -1.694249e-15      1.237094  -43.557242     -0.554076   \n",
       "V8      284807.0 -1.927028e-16      1.194353  -73.216718     -0.208630   \n",
       "V9      284807.0 -3.137024e-15      1.098632  -13.434066     -0.643098   \n",
       "V10     284807.0  1.768627e-15      1.088850  -24.588262     -0.535426   \n",
       "V11     284807.0  9.170318e-16      1.020713   -4.797473     -0.762494   \n",
       "V12     284807.0 -1.810658e-15      0.999201  -18.683715     -0.405571   \n",
       "V13     284807.0  1.693438e-15      0.995274   -5.791881     -0.648539   \n",
       "V14     284807.0  1.479045e-15      0.958596  -19.214325     -0.425574   \n",
       "V15     284807.0  3.482336e-15      0.915316   -4.498945     -0.582884   \n",
       "V16     284807.0  1.392007e-15      0.876253  -14.129855     -0.468037   \n",
       "V17     284807.0 -7.528491e-16      0.849337  -25.162799     -0.483748   \n",
       "V18     284807.0  4.328772e-16      0.838176   -9.498746     -0.498850   \n",
       "V19     284807.0  9.049732e-16      0.814041   -7.213527     -0.456299   \n",
       "V20     284807.0  5.085503e-16      0.770925  -54.497720     -0.211721   \n",
       "V21     284807.0  1.537294e-16      0.734524  -34.830382     -0.228395   \n",
       "V22     284807.0  7.959909e-16      0.725702  -10.933144     -0.542350   \n",
       "V23     284807.0  5.367590e-16      0.624460  -44.807735     -0.161846   \n",
       "V24     284807.0  4.458112e-15      0.605647   -2.836627     -0.354586   \n",
       "V25     284807.0  1.453003e-15      0.521278  -10.295397     -0.317145   \n",
       "V26     284807.0  1.699104e-15      0.482227   -2.604551     -0.326984   \n",
       "V27     284807.0 -3.660161e-16      0.403632  -22.565679     -0.070840   \n",
       "V28     284807.0 -1.206049e-16      0.330083  -15.430084     -0.052960   \n",
       "Amount  284807.0  8.834962e+01    250.120109    0.000000      5.600000   \n",
       "Class   284807.0  1.727486e-03      0.041527    0.000000      0.000000   \n",
       "\n",
       "                 50%            75%            max  \n",
       "Time    84692.000000  139320.500000  172792.000000  \n",
       "V1          0.018109       1.315642       2.454930  \n",
       "V2          0.065486       0.803724      22.057729  \n",
       "V3          0.179846       1.027196       9.382558  \n",
       "V4         -0.019847       0.743341      16.875344  \n",
       "V5         -0.054336       0.611926      34.801666  \n",
       "V6         -0.274187       0.398565      73.301626  \n",
       "V7          0.040103       0.570436     120.589494  \n",
       "V8          0.022358       0.327346      20.007208  \n",
       "V9         -0.051429       0.597139      15.594995  \n",
       "V10        -0.092917       0.453923      23.745136  \n",
       "V11        -0.032757       0.739593      12.018913  \n",
       "V12         0.140033       0.618238       7.848392  \n",
       "V13        -0.013568       0.662505       7.126883  \n",
       "V14         0.050601       0.493150      10.526766  \n",
       "V15         0.048072       0.648821       8.877742  \n",
       "V16         0.066413       0.523296      17.315112  \n",
       "V17        -0.065676       0.399675       9.253526  \n",
       "V18        -0.003636       0.500807       5.041069  \n",
       "V19         0.003735       0.458949       5.591971  \n",
       "V20        -0.062481       0.133041      39.420904  \n",
       "V21        -0.029450       0.186377      27.202839  \n",
       "V22         0.006782       0.528554      10.503090  \n",
       "V23        -0.011193       0.147642      22.528412  \n",
       "V24         0.040976       0.439527       4.584549  \n",
       "V25         0.016594       0.350716       7.519589  \n",
       "V26        -0.052139       0.240952       3.517346  \n",
       "V27         0.001342       0.091045      31.612198  \n",
       "V28         0.011244       0.078280      33.847808  \n",
       "Amount     22.000000      77.165000   25691.160000  \n",
       "Class       0.000000       0.000000       1.000000  "
      ]
     },
     "execution_count": 61,
     "metadata": {},
     "output_type": "execute_result"
    }
   ],
   "source": [
    "df.describe().T"
   ]
  },
  {
   "cell_type": "code",
   "execution_count": 62,
   "metadata": {},
   "outputs": [
    {
     "data": {
      "text/plain": [
       "0    0.998273\n",
       "1    0.001727\n",
       "Name: Class, dtype: float64"
      ]
     },
     "execution_count": 62,
     "metadata": {},
     "output_type": "execute_result"
    }
   ],
   "source": [
    "df.Class.value_counts()/len(df) \n",
    "# The dataset is highly unbalanced, the positive class (frauds) account for 0.172% of all transactions"
   ]
  },
  {
   "cell_type": "code",
   "execution_count": 63,
   "metadata": {},
   "outputs": [
    {
     "data": {
      "image/png": "[encoded data removed]",
      "text/plain": [
       "<Figure size 864x576 with 1 Axes>"
      ]
     },
     "metadata": {},
     "output_type": "display_data"
    }
   ],
   "source": [
    "# Box plot of Amounts by class\n",
    "plt.figure(figsize=(12,8))\n",
    "sns.boxplot(x=\"Class\", y=\"Amount\", hue=\"Class\",data=df, showfliers=False)\n",
    "plt.show();"
   ]
  },
  {
   "cell_type": "code",
   "execution_count": 64,
   "metadata": {},
   "outputs": [
    {
     "name": "stdout",
     "output_type": "stream",
     "text": [
      "**********  Stats of real transaction amounts  **********\n",
      "count    284315.000000\n",
      "mean         88.291022\n",
      "std         250.105092\n",
      "min           0.000000\n",
      "25%           5.650000\n",
      "50%          22.000000\n",
      "75%          77.050000\n",
      "max       25691.160000\n",
      "Name: Amount, dtype: float64\n",
      "**********  Stats of fraudulent transaction amounts  **********\n",
      "count     492.000000\n",
      "mean      122.211321\n",
      "std       256.683288\n",
      "min         0.000000\n",
      "25%         1.000000\n",
      "50%         9.250000\n",
      "75%       105.890000\n",
      "max      2125.870000\n",
      "Name: Amount, dtype: float64\n"
     ]
    }
   ],
   "source": [
    "# Stats of transaction amounts by class\n",
    "tmp = df[['Amount','Class']].copy()\n",
    "class_0 = tmp.loc[tmp['Class'] == 0]['Amount']\n",
    "class_1 = tmp.loc[tmp['Class'] == 1]['Amount']\n",
    "print(\"**********  Stats of real transaction amounts  **********\")\n",
    "print(class_0.describe())\n",
    "print(\"**********  Stats of fraudulent transaction amounts  **********\")\n",
    "print(class_1.describe())"
   ]
  },
  {
   "cell_type": "code",
   "execution_count": 65,
   "metadata": {},
   "outputs": [
    {
     "data": {
      "application/vnd.plotly.v1+json": {
       "config": {
        "linkText": "Export to plot.ly",
        "plotlyServerURL": "https://plot.ly",
        "showLink": false
       },
       "data": [
        {
         "legendgroup": "Genuine",
         "marker": {
          "color": "rgb(31, 119, 180)"
         },
         "mode": "lines",
         "name": "Genuine",
         "showlegend": true,
         "type": "scatter",
         "x": [
          0,
          345.584,
          691.168,
          1036.752,
          1382.336,
          1727.92,
          2073.504,
          2419.088,
          2764.672,
          3110.256,
          3455.84,
          3801.424,
          4147.008,
          4492.592,
          4838.176,
          5183.76,
          5529.344,
          5874.928,
          6220.512,
          6566.096,
          6911.68,
          7257.264,
          7602.848,
          7948.432,
          8294.016,
          8639.6,
          8985.184,
          9330.768,
          9676.352,
          10021.936,
          10367.52,
          10713.104,
          11058.688,
          11404.272,
          11749.856,
          12095.44,
          12441.024,
          12786.608,
          13132.192,
          13477.776,
          13823.36,
          14168.944,
          14514.528,
          14860.112,
          15205.696,
          15551.28,
          15896.864,
          16242.448,
          16588.032,
          16933.616,
          17279.2,
          17624.784,
          17970.368,
          18315.952,
          18661.536,
          19007.12,
          19352.704,
          19698.288,
          20043.872,
          20389.456,
          20735.04,
          21080.624,
          21426.208,
          21771.792,
          22117.376,
          22462.96,
          22808.544,
          23154.128,
          23499.712,
          23845.296,
          24190.88,
          24536.464,
          24882.048,
          25227.632,
          25573.216,
          25918.8,
          26264.384,
          26609.968,
          26955.552,
          27301.136,
          27646.72,
          27992.304,
          28337.888,
          28683.472,
          29029.056,
          29374.64,
          29720.224,
          30065.808,
          30411.392,
          30756.976,
          31102.56,
          31448.144,
          31793.728,
          32139.312,
          32484.896,
          32830.48,
          33176.064,
          33521.648,
          33867.232,
          34212.816,
          34558.4,
          34903.984,
          35249.568,
          35595.152,
          35940.736,
          36286.32,
          36631.904,
          36977.488,
          37323.072,
          37668.656,
          38014.24,
          38359.824,
          38705.408,
          39050.992,
          39396.576,
          39742.16,
          40087.744,
          40433.328,
          40778.912,
          41124.496,
          41470.08,
          41815.664,
          42161.248,
          42506.832,
          42852.416,
          43198,
          43543.584,
          43889.168,
          44234.752,
          44580.336,
          44925.92,
          45271.504,
          45617.088,
          45962.672,
          46308.256,
          46653.84,
          46999.424,
          47345.008,
          47690.592,
          48036.176,
          48381.76,
          48727.344,
          49072.928,
          49418.512,
          49764.096,
          50109.68,
          50455.264,
          50800.848,
          51146.432,
          51492.016,
          51837.6,
          52183.184,
          52528.768,
          52874.352,
          53219.936,
          53565.52,
          53911.104,
          54256.688,
          54602.272,
          54947.856,
          55293.44,
          55639.024,
          55984.608,
          56330.192,
          56675.776,
          57021.36,
          57366.944,
          57712.528,
          58058.112,
          58403.696,
          58749.28,
          59094.864,
          59440.448,
          59786.032,
          60131.616,
          60477.2,
          60822.784,
          61168.368,
          61513.952,
          61859.536,
          62205.12,
          62550.704,
          62896.288,
          63241.872,
          63587.456,
          63933.04,
          64278.624,
          64624.208,
          64969.792,
          65315.376,
          65660.96,
          66006.544,
          66352.128,
          66697.712,
          67043.296,
          67388.88,
          67734.464,
          68080.048,
          68425.632,
          68771.216,
          69116.8,
          69462.384,
          69807.968,
          70153.552,
          70499.136,
          70844.72,
          71190.304,
          71535.888,
          71881.472,
          72227.056,
          72572.64,
          72918.224,
          73263.808,
          73609.392,
          73954.976,
          74300.56,
          74646.144,
          74991.728,
          75337.312,
          75682.896,
          76028.48,
          76374.064,
          76719.648,
          77065.232,
          77410.816,
          77756.4,
          78101.984,
          78447.568,
          78793.152,
          79138.736,
          79484.32,
          79829.904,
          80175.488,
          80521.072,
          80866.656,
          81212.24,
          81557.824,
          81903.408,
          82248.992,
          82594.576,
          82940.16,
          83285.744,
          83631.328,
          83976.912,
          84322.496,
          84668.08,
          85013.664,
          85359.248,
          85704.832,
          86050.416,
          86396,
          86741.584,
          87087.168,
          87432.752,
          87778.336,
          88123.92,
          88469.504,
          88815.088,
          89160.672,
          89506.256,
          89851.84,
          90197.424,
          90543.008,
          90888.592,
          91234.176,
          91579.76,
          91925.344,
          92270.928,
          92616.512,
          92962.096,
          93307.68,
          93653.264,
          93998.848,
          94344.432,
          94690.016,
          95035.6,
          95381.184,
          95726.768,
          96072.352,
          96417.936,
          96763.52,
          97109.104,
          97454.688,
          97800.272,
          98145.856,
          98491.44,
          98837.024,
          99182.608,
          99528.192,
          99873.776,
          100219.36,
          100564.944,
          100910.528,
          101256.112,
          101601.696,
          101947.28,
          102292.864,
          102638.448,
          102984.032,
          103329.616,
          103675.2,
          104020.784,
          104366.368,
          104711.952,
          105057.536,
          105403.12,
          105748.704,
          106094.288,
          106439.872,
          106785.456,
          107131.04,
          107476.624,
          107822.208,
          108167.792,
          108513.376,
          108858.96,
          109204.544,
          109550.128,
          109895.712,
          110241.296,
          110586.88,
          110932.464,
          111278.048,
          111623.632,
          111969.216,
          112314.8,
          112660.384,
          113005.968,
          113351.552,
          113697.136,
          114042.72,
          114388.304,
          114733.888,
          115079.472,
          115425.056,
          115770.64,
          116116.224,
          116461.808,
          116807.392,
          117152.976,
          117498.56,
          117844.144,
          118189.728,
          118535.312,
          118880.896,
          119226.48,
          119572.064,
          119917.648,
          120263.232,
          120608.816,
          120954.4,
          121299.984,
          121645.568,
          121991.152,
          122336.736,
          122682.32,
          123027.904,
          123373.488,
          123719.072,
          124064.656,
          124410.24,
          124755.824,
          125101.408,
          125446.992,
          125792.576,
          126138.16,
          126483.744,
          126829.328,
          127174.912,
          127520.496,
          127866.08,
          128211.664,
          128557.248,
          128902.832,
          129248.416,
          129594,
          129939.584,
          130285.168,
          130630.752,
          130976.336,
          131321.92,
          131667.504,
          132013.088,
          132358.672,
          132704.256,
          133049.84,
          133395.424,
          133741.008,
          134086.592,
          134432.176,
          134777.76,
          135123.344,
          135468.928,
          135814.512,
          136160.096,
          136505.68,
          136851.264,
          137196.848,
          137542.432,
          137888.016,
          138233.6,
          138579.184,
          138924.768,
          139270.352,
          139615.936,
          139961.52,
          140307.104,
          140652.688,
          140998.272,
          141343.856,
          141689.44,
          142035.024,
          142380.608,
          142726.192,
          143071.776,
          143417.36,
          143762.944,
          144108.528,
          144454.112,
          144799.696,
          145145.28,
          145490.864,
          145836.448,
          146182.032,
          146527.616,
          146873.2,
          147218.784,
          147564.368,
          147909.952,
          148255.536,
          148601.12,
          148946.704,
          149292.288,
          149637.872,
          149983.456,
          150329.04,
          150674.624,
          151020.208,
          151365.792,
          151711.376,
          152056.96,
          152402.544,
          152748.128,
          153093.712,
          153439.296,
          153784.88,
          154130.464,
          154476.048,
          154821.632,
          155167.216,
          155512.8,
          155858.384,
          156203.968,
          156549.552,
          156895.136,
          157240.72,
          157586.304,
          157931.888,
          158277.472,
          158623.056,
          158968.64,
          159314.224,
          159659.808,
          160005.392,
          160350.976,
          160696.56,
          161042.144,
          161387.728,
          161733.312,
          162078.896,
          162424.48,
          162770.064,
          163115.648,
          163461.232,
          163806.816,
          164152.4,
          164497.984,
          164843.568,
          165189.152,
          165534.736,
          165880.32,
          166225.904,
          166571.488,
          166917.072,
          167262.656,
          167608.24,
          167953.824,
          168299.408,
          168644.992,
          168990.576,
          169336.16,
          169681.744,
          170027.328,
          170372.912,
          170718.496,
          171064.08,
          171409.664,
          171755.248,
          172100.832,
          172446.416
         ],
         "xaxis": "x",
         "y": [
          1.6973474560862625e-06,
          1.7892406860838524e-06,
          1.8751066622895494e-06,
          1.9539240211317084e-06,
          2.02481478748431e-06,
          2.087070000172911e-06,
          2.1401693523159294e-06,
          2.1837939471418144e-06,
          2.2178316034667475e-06,
          2.2423745117614634e-06,
          2.257709419619588e-06,
          2.264300891818994e-06,
          2.26276852340525e-06,
          2.253859265166439e-06,
          2.2384162340776495e-06,
          2.21734551598041e-06,
          2.1915825183282734e-06,
          2.1620593970212843e-06,
          2.1296749680388296e-06,
          2.0952683311935607e-06,
          2.0595971930319196e-06,
          2.023321594572056e-06,
          1.9869934446535072e-06,
          1.951051949066699e-06,
          1.9158247265703086e-06,
          1.8815341310019926e-06,
          1.848308067129339e-06,
          1.8161944068401386e-06,
          1.7851779885079816e-06,
          1.7551991191213949e-06,
          1.7261724957826222e-06,
          1.6980055169884527e-06,
          1.6706150584079202e-06,
          1.6439419340972736e-06,
          1.617962442003826e-06,
          1.5926965909611318e-06,
          1.5682128135696683e-06,
          1.544629174059016e-06,
          1.5221112719307155e-06,
          1.5008672116659746e-06,
          1.48114014848376e-06,
          1.463199024397815e-06,
          1.4473281740525027e-06,
          1.433816504534442e-06,
          1.4229469381476586e-06,
          1.414986754542989e-06,
          1.4101793829092355e-06,
          1.4087380819814244e-06,
          1.410841812435417e-06,
          1.4166334607268717e-06,
          1.426220423996238e-06,
          1.439677420778031e-06,
          1.4570512600449124e-06,
          1.478367188917492e-06,
          1.503636353303646e-06,
          1.532863850340675e-06,
          1.5660568294638417e-06,
          1.6032321108016586e-06,
          1.6444228338375712e-06,
          1.6896837222362078e-06,
          1.7390946469102094e-06,
          1.7927622818094415e-06,
          1.8508197675565914e-06,
          1.9134244185216923e-06,
          1.9807536210244885e-06,
          2.052999166716872e-06,
          2.1303603398728393e-06,
          2.213036126211221e-06,
          2.301216932079258e-06,
          2.395076196709517e-06,
          2.494762249423668e-06,
          2.6003907126325713e-06,
          2.712037686308704e-06,
          2.829733877231266e-06,
          2.953459763918414e-06,
          3.0831418225125198e-06,
          3.2186497856325977e-06,
          3.3597948693887245e-06,
          3.506328885405161e-06,
          3.657944154693266e-06,
          3.814274156307338e-06,
          3.974894871817851e-06,
          4.139326821282088e-06,
          4.307037821357698e-06,
          4.477446525210389e-06,
          4.6499268212934376e-06,
          4.823813169618672e-06,
          4.998406937320888e-06,
          5.172983759821e-06,
          5.346801901645625e-06,
          5.519111525987053e-06,
          5.689164710128996e-06,
          5.856225971804481e-06,
          6.019583006720738e-06,
          6.178557286897196e-06,
          6.332514139091254e-06,
          6.4808719167415175e-06,
          6.623109899730124e-06,
          6.758774603685584e-06,
          6.88748425198415e-06,
          7.0089312543934926e-06,
          7.122882640062262e-06,
          7.2291785017877025e-06,
          7.327728615222163e-06,
          7.418507493160886e-06,
          7.5015482143997435e-06,
          7.5769354233673155e-06,
          7.644797927106253e-06,
          7.705301318490688e-06,
          7.75864102915076e-06,
          7.805036164695591e-06,
          7.84472440242119e-06,
          7.877958143024662e-06,
          7.905002009089141e-06,
          7.926131680881422e-06,
          7.941633960960514e-06,
          7.951807869480464e-06,
          7.956966497383942e-06,
          7.957439289377042e-06,
          7.953574395833074e-06,
          7.945740724360044e-06,
          7.934329337960165e-06,
          7.919753886307513e-06,
          7.902449817071933e-06,
          7.882872191586981e-06,
          7.861492018652476e-06,
          7.838791116317863e-06,
          7.81525560817615e-06,
          7.79136825206977e-06,
          7.76759987960622e-06,
          7.74440028967202e-06,
          7.722188984437913e-06,
          7.701346159669777e-06,
          7.6822043614373e-06,
          7.66504119895186e-06,
          7.650073460068543e-06,
          7.63745291497132e-06,
          7.627264018690251e-06,
          7.619523638962204e-06,
          7.61418284739371e-06,
          7.6111307236867375e-06,
          7.6102000392219856e-06,
          7.611174611301134e-06,
          7.613798055773855e-06,
          7.617783615694085e-06,
          7.622824708288294e-06,
          7.628605812331322e-06,
          7.634813312831896e-06,
          7.641145929062418e-06,
          7.647324374416423e-06,
          7.653099931107249e-06,
          7.658261667942255e-06,
          7.662642083794295e-06,
          7.66612102126682e-06,
          7.668627762522526e-06,
          7.670141290160721e-06,
          7.670688767914656e-06,
          7.670342366007512e-06,
          7.66921462120061e-06,
          7.667452578693216e-06,
          7.665231008940164e-06,
          7.662745024281448e-06,
          7.660202435731148e-06,
          7.657816187892731e-06,
          7.655797189369246e-06,
          7.654347818074227e-06,
          7.653656327679867e-06,
          7.653892316465873e-06,
          7.655203347519692e-06,
          7.65771273480394e-06,
          7.661518438616632e-06,
          7.666692951868892e-06,
          7.673284010222965e-06,
          7.681315928222695e-06,
          7.690791352390222e-06,
          7.701693231398905e-06,
          7.713986831544124e-06,
          7.727621669694493e-06,
          7.742533291007433e-06,
          7.758644879036353e-06,
          7.775868744871325e-06,
          7.794107793011708e-06,
          7.81325709872021e-06,
          7.833205749804812e-06,
          7.853839101993525e-06,
          7.875041570289566e-06,
          7.896700030201781e-06,
          7.918707836091386e-06,
          7.940969384639724e-06,
          7.96340506676621e-06,
          7.985956369289425e-06,
          8.00859081649447e-06,
          8.031306389214011e-06,
          8.054135031363672e-06,
          8.077144855419447e-06,
          8.100440690962982e-06,
          8.124162683360498e-06,
          8.148482739462218e-06,
          8.173598728158165e-06,
          8.199726468139169e-06,
          8.227089664610624e-06,
          8.25590808198686e-06,
          8.28638435222757e-06,
          8.318689911131519e-06,
          8.352950622010653e-06,
          8.38923268428928e-06,
          8.427529432517306e-06,
          8.467749609998035e-06,
          8.509707653467948e-06,
          8.553116455128512e-06,
          8.597582980706166e-06,
          8.642607022227219e-06,
          8.687583256706685e-06,
          8.731806671224798e-06,
          8.774481304367378e-06,
          8.814732146393727e-06,
          8.851619937765453e-06,
          8.884158509418409e-06,
          8.911334219900079e-06,
          8.93212696595953e-06,
          8.945532176540028e-06,
          8.950583148096198e-06,
          8.946373044910865e-06,
          8.932075875017815e-06,
          8.906965763681001e-06,
          8.870433884729299e-06,
          8.822002476834194e-06,
          8.761335466861043e-06,
          8.688245343573517e-06,
          8.60269606795518e-06,
          8.504801964908319e-06,
          8.394822707027603e-06,
          8.27315466523841e-06,
          8.140319053533608e-06,
          7.996947426325236e-06,
          7.843765188648271e-06,
          7.681573845069891e-06,
          7.511232738581458e-06,
          7.3336410147174135e-06,
          7.149720490327964e-06,
          6.960400015284351e-06,
          6.76660179574214e-06,
          6.569230008025214e-06,
          6.36916188234495e-06,
          6.16724128529688e-06,
          5.964274688715342e-06,
          5.761029288153199e-06,
          5.558232933420997e-06,
          5.356575460667354e-06,
          5.15671097265771e-06,
          4.959260601369082e-06,
          4.764815303057906e-06,
          4.573938277349221e-06,
          4.387166664291066e-06,
          4.205012251684114e-06,
          4.027961014003795e-06,
          3.856471398599811e-06,
          3.6909713696185294e-06,
          3.5318543107641182e-06,
          3.379473970704143e-06,
          3.234138706364411e-06,
          3.0961053368943382e-06,
          2.9655729626550754e-06,
          2.8426771276872563e-06,
          2.7274847098052654e-06,
          2.6199899093580027e-06,
          2.5201116760152443e-06,
          2.427692863569988e-06,
          2.342501337296571e-06,
          2.2642331792467848e-06,
          2.1925180471488966e-06,
          2.1269266461766625e-06,
          2.0669801742747234e-06,
          2.012161505894392e-06,
          1.9619277910246253e-06,
          1.9157240712836386e-06,
          1.8729974570884757e-06,
          1.8332113732541473e-06,
          1.7958593673803114e-06,
          1.7604779872841774e-06,
          1.7266582702357455e-06,
          1.694055445992881e-06,
          1.6623965343017232e-06,
          1.631485611053777e-06,
          1.6012066201757901e-06,
          1.5715237145408006e-06,
          1.542479212608412e-06,
          1.5141893523612142e-06,
          1.4868381053924663e-06,
          1.4606693777951694e-06,
          1.435977968199224e-06,
          1.4130996757282453e-06,
          1.3924009520550413e-06,
          1.374268473694461e-06,
          1.3590989758663339e-06,
          1.347289641216179e-06,
          1.3392292794638812e-06,
          1.3352904719534254e-06,
          1.335822792319614e-06,
          1.3411471549520408e-06,
          1.3515512899464527e-06,
          1.367286299390529e-06,
          1.3885642169033648e-06,
          1.4155564712148167e-06,
          1.448393145216722e-06,
          1.4871629234742207e-06,
          1.5319136320144049e-06,
          1.5826532920302944e-06,
          1.6393516311860304e-06,
          1.7019420194298087e-06,
          1.7703238174882003e-06,
          1.8443651425656794e-06,
          1.9239060646458663e-06,
          2.0087622462565678e-06,
          2.09872902751974e-06,
          2.1935859366462225e-06,
          2.2931015747104422e-06,
          2.3970387845925383e-06,
          2.505159970443064e-06,
          2.6172323897751387e-06,
          2.7330331997488785e-06,
          2.8523540070368334e-06,
          2.9750046513344738e-06,
          3.100815950010067e-06,
          3.229641148489752e-06,
          3.361355859316623e-06,
          3.4958563323565694e-06,
          3.63305597752494e-06,
          3.772880156059902e-06,
          3.915259361504738e-06,
          4.060121020560461e-06,
          4.2073802492878264e-06,
          4.356929993860715e-06,
          4.508631059529609e-06,
          4.662302579861578e-06,
          4.8177134953873244e-06,
          4.974575593216111e-06,
          5.13253860606498e-06,
          5.291187782149928e-06,
          5.4500442207276015e-06,
          5.608568128320151e-06,
          5.766164996283534e-06,
          5.922194541198661e-06,
          6.0759820959883256e-06,
          6.226832001934227e-06,
          6.374042439170286e-06,
          6.516921053371186e-06,
          6.654800694582379e-06,
          6.787054583110184e-06,
          6.9131102568893785e-06,
          7.0324617316912485e-06,
          7.144679414248148e-06,
          7.249417441024099e-06,
          7.346418262603639e-06,
          7.435514445358394e-06,
          7.516627808025404e-06,
          7.589766141684876e-06,
          7.655017869382307e-06,
          7.712545080305863e-06,
          7.762575419365506e-06,
          7.8053933251123e-06,
          7.841331088566704e-06,
          7.870760156337701e-06,
          7.894083028920381e-06,
          7.911726016106726e-06,
          7.924133013619312e-06,
          7.931760366075837e-06,
          7.935072788426302e-06,
          7.934540237283305e-06,
          7.930635559896704e-06,
          7.923832705051495e-06,
          7.914605258270883e-06,
          7.903425063041958e-06,
          7.890760708467008e-06,
          7.877075698646473e-06,
          7.862826166203134e-06,
          7.848458047159103e-06,
          7.834403692291265e-06,
          7.821077946805538e-06,
          7.808873781946289e-06,
          7.798157606036477e-06,
          7.789264416364605e-06,
          7.782492976152238e-06,
          7.778101212259762e-06,
          7.776302029754439e-06,
          7.77725972996335e-06,
          7.781087200522931e-06,
          7.787844020760793e-06,
          7.797535595084729e-06,
          7.810113392412083e-06,
          7.825476332419113e-06,
          7.843473320743669e-06,
          7.8639068963338e-06,
          7.886537915928918e-06,
          7.911091164213358e-06,
          7.937261744566771e-06,
          7.964722075704141e-06,
          7.993129295077425e-06,
          8.022132851959116e-06,
          8.051382062852075e-06,
          8.080533400310436e-06,
          8.109257294160324e-06,
          8.137244241794653e-06,
          8.164210051466289e-06,
          8.189900078482716e-06,
          8.214092357438945e-06,
          8.236599582027276e-06,
          8.257269934936005e-06,
          8.27598682093582e-06,
          8.292667603341733e-06,
          8.30726148460067e-06,
          8.319746703096739e-06,
          8.330127238270503e-06,
          8.338429223485542e-06,
          8.344697260357182e-06,
          8.348990810121478e-06,
          8.351380808722873e-06,
          8.35194661521552e-06,
          8.350773361117268e-06,
          8.347949725304524e-06,
          8.3435661188024e-06,
          8.33771323009382e-06,
          8.330480857437759e-06,
          8.321956942328884e-06,
          8.312226718653718e-06,
          8.301371904983935e-06,
          8.28946989113108e-06,
          8.276592901670687e-06,
          8.262807154750894e-06,
          8.248172069642866e-06,
          8.232739606528157e-06,
          8.216553842656548e-06,
          8.199650896786128e-06,
          8.182059306530548e-06,
          8.163800940243871e-06,
          8.14489248744229e-06,
          8.125347522247993e-06,
          8.105179077168565e-06,
          8.084402605008364e-06,
          8.06303915073689e-06,
          8.041118508591712e-06,
          8.018682107832048e-06,
          7.99578535747785e-06,
          7.972499188554729e-06,
          7.948910562417519e-06,
          7.925121764270976e-06,
          7.901248368810616e-06,
          7.877415845168673e-06,
          7.853754855151634e-06,
          7.830395385603233e-06,
          7.80745993614009e-06,
          7.785056051576916e-06,
          7.763268539232035e-06,
          7.742151741544829e-06,
          7.721722242233079e-06,
          7.701952369437037e-06,
          7.6827648233835e-06,
          7.664028701862125e-06,
          7.645557128088653e-06,
          7.627106606879663e-06,
          7.608378151350891e-06,
          7.589020138440536e-06,
          7.568632772026083e-06,
          7.546773961324247e-06,
          7.522966363070432e-06,
          7.4967052913752665e-06,
          7.467467171099385e-06,
          7.434718200257082e-06,
          7.397922894775444e-06,
          7.356552214556275e-06,
          7.310091012100824e-06,
          7.258044602058914e-06,
          7.199944319248189e-06,
          7.135352010448117e-06,
          7.0638634873427295e-06,
          6.9851110494467845e-06,
          6.898765261309038e-06,
          6.804536232138985e-06,
          6.70217469278363e-06,
          6.591473189773049e-06,
          6.472267715052255e-06,
          6.344440060579464e-06,
          6.207921128630432e-06,
          6.0626953430227735e-06,
          5.9088061975280145e-06,
          5.74636285175979e-06,
          5.5755475501749785e-06,
          5.396623506475848e-06,
          5.2099427745622285e-06,
          5.0159535292631835e-06,
          4.815206115540946e-06,
          4.608357202072402e-06,
          4.3961713997570734e-06,
          4.179519780059286e-06,
          3.959374850598438e-06,
          3.736801710492055e-06,
          3.5129453063021003e-06,
          3.289013928517071e-06,
          3.0662593135147575e-06,
          2.8459539309658254e-06
         ],
         "yaxis": "y"
        },
        {
         "legendgroup": "Fraudulent",
         "marker": {
          "color": "rgb(255, 127, 14)"
         },
         "mode": "lines",
         "name": "Fraudulent",
         "showlegend": true,
         "type": "scatter",
         "x": [
          406,
          745.884,
          1085.768,
          1425.652,
          1765.536,
          2105.42,
          2445.304,
          2785.188,
          3125.072,
          3464.956,
          3804.84,
          4144.724,
          4484.608,
          4824.492,
          5164.376,
          5504.26,
          5844.144,
          6184.028,
          6523.912,
          6863.796,
          7203.68,
          7543.564,
          7883.448,
          8223.332,
          8563.216,
          8903.1,
          9242.984,
          9582.868,
          9922.752,
          10262.636,
          10602.52,
          10942.404,
          11282.288,
          11622.172,
          11962.056,
          12301.94,
          12641.824,
          12981.708,
          13321.592,
          13661.476,
          14001.36,
          14341.244,
          14681.128,
          15021.012,
          15360.896,
          15700.78,
          16040.664,
          16380.548,
          16720.432,
          17060.316,
          17400.2,
          17740.084,
          18079.968,
          18419.852,
          18759.736,
          19099.62,
          19439.504,
          19779.388,
          20119.272,
          20459.156,
          20799.04,
          21138.924,
          21478.808,
          21818.692,
          22158.576,
          22498.46,
          22838.344,
          23178.228,
          23518.112,
          23857.996,
          24197.88,
          24537.764,
          24877.648,
          25217.532,
          25557.416,
          25897.3,
          26237.184,
          26577.068,
          26916.952,
          27256.836,
          27596.72,
          27936.604,
          28276.488,
          28616.372,
          28956.256,
          29296.14,
          29636.024,
          29975.908,
          30315.792,
          30655.676,
          30995.56,
          31335.444,
          31675.328,
          32015.212,
          32355.096,
          32694.98,
          33034.864,
          33374.748,
          33714.632,
          34054.516,
          34394.4,
          34734.284,
          35074.168,
          35414.052,
          35753.936,
          36093.82,
          36433.704,
          36773.588,
          37113.472,
          37453.356,
          37793.24,
          38133.124,
          38473.008,
          38812.892,
          39152.776,
          39492.66,
          39832.544,
          40172.428,
          40512.312,
          40852.196,
          41192.08,
          41531.964,
          41871.848,
          42211.732,
          42551.616,
          42891.5,
          43231.384,
          43571.268,
          43911.152,
          44251.036,
          44590.92,
          44930.804,
          45270.688,
          45610.572,
          45950.456,
          46290.34,
          46630.224,
          46970.108,
          47309.992,
          47649.876,
          47989.76,
          48329.644,
          48669.528,
          49009.412,
          49349.296,
          49689.18,
          50029.064,
          50368.948,
          50708.832,
          51048.716,
          51388.6,
          51728.484,
          52068.368,
          52408.252,
          52748.136,
          53088.02,
          53427.904,
          53767.788,
          54107.672,
          54447.556,
          54787.44,
          55127.324,
          55467.208,
          55807.092,
          56146.976,
          56486.86,
          56826.744,
          57166.628,
          57506.512,
          57846.396,
          58186.28,
          58526.164,
          58866.048,
          59205.932,
          59545.816,
          59885.7,
          60225.584,
          60565.468,
          60905.352,
          61245.236,
          61585.12,
          61925.004,
          62264.888,
          62604.772,
          62944.656,
          63284.54,
          63624.424,
          63964.308,
          64304.192,
          64644.076,
          64983.96,
          65323.844,
          65663.728,
          66003.612,
          66343.496,
          66683.38,
          67023.264,
          67363.148,
          67703.032,
          68042.916,
          68382.8,
          68722.684,
          69062.568,
          69402.452,
          69742.336,
          70082.22,
          70422.104,
          70761.988,
          71101.872,
          71441.756,
          71781.64,
          72121.524,
          72461.408,
          72801.292,
          73141.176,
          73481.06,
          73820.944,
          74160.828,
          74500.712,
          74840.596,
          75180.48,
          75520.364,
          75860.248,
          76200.132,
          76540.016,
          76879.9,
          77219.784,
          77559.668,
          77899.552,
          78239.436,
          78579.32,
          78919.204,
          79259.088,
          79598.972,
          79938.856,
          80278.74,
          80618.624,
          80958.508,
          81298.392,
          81638.276,
          81978.16,
          82318.044,
          82657.928,
          82997.812,
          83337.696,
          83677.58,
          84017.464,
          84357.348,
          84697.232,
          85037.116,
          85377,
          85716.884,
          86056.768,
          86396.652,
          86736.536,
          87076.42,
          87416.304,
          87756.188,
          88096.072,
          88435.956,
          88775.84,
          89115.724,
          89455.608,
          89795.492,
          90135.376,
          90475.26,
          90815.144,
          91155.028,
          91494.912,
          91834.796,
          92174.68,
          92514.564,
          92854.448,
          93194.332,
          93534.216,
          93874.1,
          94213.984,
          94553.868,
          94893.752,
          95233.636,
          95573.52,
          95913.404,
          96253.288,
          96593.172,
          96933.056,
          97272.94,
          97612.824,
          97952.708,
          98292.592,
          98632.476,
          98972.36,
          99312.244,
          99652.128,
          99992.012,
          100331.896,
          100671.78,
          101011.664,
          101351.548,
          101691.432,
          102031.316,
          102371.2,
          102711.084,
          103050.968,
          103390.852,
          103730.736,
          104070.62,
          104410.504,
          104750.388,
          105090.272,
          105430.156,
          105770.04,
          106109.924,
          106449.808,
          106789.692,
          107129.576,
          107469.46,
          107809.344,
          108149.228,
          108489.112,
          108828.996,
          109168.88,
          109508.764,
          109848.648,
          110188.532,
          110528.416,
          110868.3,
          111208.184,
          111548.068,
          111887.952,
          112227.836,
          112567.72,
          112907.604,
          113247.488,
          113587.372,
          113927.256,
          114267.14,
          114607.024,
          114946.908,
          115286.792,
          115626.676,
          115966.56,
          116306.444,
          116646.328,
          116986.212,
          117326.096,
          117665.98,
          118005.864,
          118345.748,
          118685.632,
          119025.516,
          119365.4,
          119705.284,
          120045.168,
          120385.052,
          120724.936,
          121064.82,
          121404.704,
          121744.588,
          122084.472,
          122424.356,
          122764.24,
          123104.124,
          123444.008,
          123783.892,
          124123.776,
          124463.66,
          124803.544,
          125143.428,
          125483.312,
          125823.196,
          126163.08,
          126502.964,
          126842.848,
          127182.732,
          127522.616,
          127862.5,
          128202.384,
          128542.268,
          128882.152,
          129222.036,
          129561.92,
          129901.804,
          130241.688,
          130581.572,
          130921.456,
          131261.34,
          131601.224,
          131941.108,
          132280.992,
          132620.876,
          132960.76,
          133300.644,
          133640.528,
          133980.412,
          134320.296,
          134660.18,
          135000.064,
          135339.948,
          135679.832,
          136019.716,
          136359.6,
          136699.484,
          137039.368,
          137379.252,
          137719.136,
          138059.02,
          138398.904,
          138738.788,
          139078.672,
          139418.556,
          139758.44,
          140098.324,
          140438.208,
          140778.092,
          141117.976,
          141457.86,
          141797.744,
          142137.628,
          142477.512,
          142817.396,
          143157.28,
          143497.164,
          143837.048,
          144176.932,
          144516.816,
          144856.7,
          145196.584,
          145536.468,
          145876.352,
          146216.236,
          146556.12,
          146896.004,
          147235.888,
          147575.772,
          147915.656,
          148255.54,
          148595.424,
          148935.308,
          149275.192,
          149615.076,
          149954.96,
          150294.844,
          150634.728,
          150974.612,
          151314.496,
          151654.38,
          151994.264,
          152334.148,
          152674.032,
          153013.916,
          153353.8,
          153693.684,
          154033.568,
          154373.452,
          154713.336,
          155053.22,
          155393.104,
          155732.988,
          156072.872,
          156412.756,
          156752.64,
          157092.524,
          157432.408,
          157772.292,
          158112.176,
          158452.06,
          158791.944,
          159131.828,
          159471.712,
          159811.596,
          160151.48,
          160491.364,
          160831.248,
          161171.132,
          161511.016,
          161850.9,
          162190.784,
          162530.668,
          162870.552,
          163210.436,
          163550.32,
          163890.204,
          164230.088,
          164569.972,
          164909.856,
          165249.74,
          165589.624,
          165929.508,
          166269.392,
          166609.276,
          166949.16,
          167289.044,
          167628.928,
          167968.812,
          168308.696,
          168648.58,
          168988.464,
          169328.348,
          169668.232,
          170008.116
         ],
         "xaxis": "x",
         "y": [
          2.572527019918418e-06,
          2.631005805812937e-06,
          2.68976863043631e-06,
          2.748786647363215e-06,
          2.8080309928186195e-06,
          2.867472852442725e-06,
          2.9270835279276315e-06,
          2.9868345032672447e-06,
          3.046697510360475e-06,
          3.1066445937077396e-06,
          3.166648173942127e-06,
          3.2266811099387627e-06,
          3.286716759249751e-06,
          3.3467290366169313e-06,
          3.406692470320782e-06,
          3.466582256131253e-06,
          3.5263743086346604e-06,
          3.5860453097207323e-06,
          3.645572754024379e-06,
          3.7049349911288065e-06,
          3.7641112643496275e-06,
          3.823081745932923e-06,
          3.881827568515629e-06,
          3.940330852711663e-06,
          3.9985747307038155e-06,
          4.056543365738192e-06,
          4.11422196743588e-06,
          4.17159680285426e-06,
          4.228655203249315e-06,
          4.285385566508666e-06,
          4.341777355244732e-06,
          4.397821090555953e-06,
          4.453508341484289e-06,
          4.508831710215102e-06,
          4.56378481308629e-06,
          4.618362257490828e-06,
          4.672559614776589e-06,
          4.7263733892648665e-06,
          4.7798009835267675e-06,
          4.832840660073919e-06,
          4.885491499635643e-06,
          4.937753356211278e-06,
          4.9896268091001775e-06,
          5.04111311212635e-06,
          5.0922141402872045e-06,
          5.142932334068033e-06,
          5.193270641674173e-06,
          5.2432324594427485e-06,
          5.29282157070396e-06,
          5.342042083369242e-06,
          5.390898366529331e-06,
          5.439394986349829e-06,
          5.487536641555422e-06,
          5.53532809879498e-06,
          5.582774128181612e-06,
          5.629879439299512e-06,
          5.676648617968548e-06,
          5.7230860640530265e-06,
          5.769195930597317e-06,
          5.8149820645638296e-06,
          5.860447949442464e-06,
          5.905596649991411e-06,
          5.950430759359777e-06,
          5.994952348831397e-06,
          6.039162920417342e-06,
          6.083063362511554e-06,
          6.126653908809837e-06,
          6.169934100677945e-06,
          6.212902753138355e-06,
          6.2555579246289196e-06,
          6.297896890669668e-06,
          6.3399161215556845e-06,
          6.381611264176305e-06,
          6.422977128041526e-06,
          6.464007675577934e-06,
          6.504696016736761e-06,
          6.545034407937361e-06,
          6.58501425534952e-06,
          6.624626122499018e-06,
          6.663859742160649e-06,
          6.702704032484241e-06,
          6.741147117280051e-06,
          6.7791763503712725e-06,
          6.816778343903152e-06,
          6.853939000481316e-06,
          6.890643548994119e-06,
          6.9268765839581e-06,
          6.9626221082105396e-06,
          6.9978635787578355e-06,
          7.032583955575575e-06,
          7.066765753143314e-06,
          7.100391094485448e-06,
          7.133441767479519e-06,
          7.165899283183912e-06,
          7.197744935928862e-06,
          7.228959864908304e-06,
          7.259525117004091e-06,
          7.289421710570792e-06,
          7.318630699905549e-06,
          7.347133240126908e-06,
          7.374910652185979e-06,
          7.401944487734295e-06,
          7.428216593576151e-06,
          7.453709175436183e-06,
          7.4784048607786135e-06,
          7.502286760421189e-06,
          7.525338528693983e-06,
          7.54754442190277e-06,
          7.568889354865966e-06,
          7.589358955305961e-06,
          7.608939615886935e-06,
          7.627618543704974e-06,
          7.64538380704971e-06,
          7.662224379271769e-06,
          7.678130179605051e-06,
          7.693092110809925e-06,
          7.707102093518345e-06,
          7.720153097180755e-06,
          7.732239167530266e-06,
          7.743355450497756e-06,
          7.753498212529603e-06,
          7.762664857276421e-06,
          7.77085393863962e-06,
          7.778065170179888e-06,
          7.784299430908168e-06,
          7.789558767497574e-06,
          7.79384639297004e-06,
          7.797166681927951e-06,
          7.799525162415758e-06,
          7.800928504511131e-06,
          7.801384505758742e-06,
          7.800902073572762e-06,
          7.799491204745427e-06,
          7.797162962210424e-06,
          7.793929449219107e-06,
          7.789803781096382e-06,
          7.784800054750645e-06,
          7.778933316118128e-06,
          7.772219525727602e-06,
          7.76467552257463e-06,
          7.756318986497782e-06,
          7.747168399250406e-06,
          7.737243004461257e-06,
          7.726562766677164e-06,
          7.715148329678096e-06,
          7.703020974251555e-06,
          7.690202575608844e-06,
          7.676715560620797e-06,
          7.66258286504243e-06,
          7.647827890890538e-06,
          7.632474464127662e-06,
          7.616546792798236e-06,
          7.60006942575189e-06,
          7.583067212077946e-06,
          7.565565261365005e-06,
          7.5475889048861955e-06,
          7.5291636577997275e-06,
          7.510315182441241e-06,
          7.491069252771455e-06,
          7.471451720031002e-06,
          7.451488479639318e-06,
          7.431205439363608e-06,
          7.410628488770469e-06,
          7.389783469959165e-06,
          7.368696149565697e-06,
          7.347392192012741e-06,
          7.325897133970936e-06,
          7.3042363599855454e-06,
          7.2824350792125365e-06,
          7.260518303199252e-06,
          7.238510824635931e-06,
          7.2164371969967705e-06,
          7.1943217149825935e-06,
          7.172188395671033e-06,
          7.150060960275756e-06,
          7.1279628164118875e-06,
          7.105917040762365e-06,
          7.0839463620378695e-06,
          7.06207314412267e-06,
          7.04031936929879e-06,
          7.018706621442342e-06,
          6.997256069088544e-06,
          6.97598844826533e-06,
          6.9549240450000584e-06,
          6.93408267740929e-06,
          6.913483677288108e-06,
          6.893145871122813e-06,
          6.873087560459105e-06,
          6.85332650156659e-06,
          6.833879884350607e-06,
          6.814764310472568e-06,
          6.79599577065081e-06,
          6.777589621125889e-06,
          6.759560559286028e-06,
          6.741922598460664e-06,
          6.724689041902922e-06,
          6.7078724559944585e-06,
          6.6914846427192845e-06,
          6.67553661146574e-06,
          6.660038550229452e-06,
          6.644999796301861e-06,
          6.630428806542273e-06,
          6.6163331273431475e-06,
          6.602719364410154e-06,
          6.589593152489992e-06,
          6.576959125189145e-06,
          6.564820885037662e-06,
          6.553180973960314e-06,
          6.542040844326766e-06,
          6.531400830759608e-06,
          6.52126012288577e-06,
          6.511616739222866e-06,
          6.5024675023959905e-06,
          6.49380801588478e-06,
          6.485632642502064e-06,
          6.4779344848076e-06,
          6.4707053676594145e-06,
          6.463935823104725e-06,
          6.4576150778095214e-06,
          6.451731043222335e-06,
          6.4462703086626185e-06,
          6.441218137517924e-06,
          6.436558466726343e-06,
          6.432273909712515e-06,
          6.4283457629346345e-06,
          6.4247540161895185e-06,
          6.421477366810482e-06,
          6.418493237878817e-06,
          6.415777800556122e-06,
          6.413306000628752e-06,
          6.411051589339756e-06,
          6.4089871585665144e-06,
          6.4070841803843275e-06,
          6.405313051037881e-06,
          6.403643139323298e-06,
          6.402042839363781e-06,
          6.400479627742135e-06,
          6.398920124932855e-06,
          6.397330160956046e-06,
          6.395674845154967e-06,
          6.393918639978057e-06,
          6.3920254386263285e-06,
          6.389958646405971e-06,
          6.387681265607025e-06,
          6.385155983708639e-06,
          6.382345264692881e-06,
          6.379211443230834e-06,
          6.375716821486894e-06,
          6.37182376827063e-06,
          6.367494820249902e-06,
          6.362692784924032e-06,
          6.357380845042467e-06,
          6.351522664141803e-06,
          6.345082492863207e-06,
          6.338025275702307e-06,
          6.3303167578356834e-06,
          6.321923591660977e-06,
          6.312813442682555e-06,
          6.302955094371119e-06,
          6.292318551623303e-06,
          6.280875142447136e-06,
          6.2685976175005394e-06,
          6.25546024711257e-06,
          6.24143891542239e-06,
          6.2265112112763815e-06,
          6.210656515532501e-06,
          6.193856084429975e-06,
          6.17609312869381e-06,
          6.1573528880561844e-06,
          6.137622700890796e-06,
          6.116892068672298e-06,
          6.095152714989147e-06,
          6.0723986388573795e-06,
          6.048626162101342e-06,
          6.0238339705888565e-06,
          5.998023149129178e-06,
          5.9711972098654034e-06,
          5.943362114015655e-06,
          5.914526286842002e-06,
          5.884700625750638e-06,
          5.853898501451925e-06,
          5.82213575213467e-06,
          5.7894306706348805e-06,
          5.755803984604959e-06,
          5.721278829715627e-06,
          5.68588071594857e-06,
          5.649637487063374e-06,
          5.612579273347971e-06,
          5.574738437786229e-06,
          5.536149515800897e-06,
          5.496849148753552e-06,
          5.456876011406087e-06,
          5.416270733570007e-06,
          5.375075816190749e-06,
          5.3333355421342105e-06,
          5.291095881960875e-06,
          5.248404394990802e-06,
          5.205310125978367e-06,
          5.1618634977305e-06,
          5.11811620001525e-06,
          5.074121075119358e-06,
          5.029932000423424e-06,
          4.985603768372087e-06,
          4.941191964223307e-06,
          4.8967528419664025e-06,
          4.852343198802162e-06,
          4.808020248580183e-06,
          4.763841494589365e-06,
          4.719864602095875e-06,
          4.676147271020589e-06,
          4.632747109143131e-06,
          4.589721506214108e-06,
          4.547127509349559e-06,
          4.505021700072849e-06,
          4.463460073359001e-06,
          4.422497919024833e-06,
          4.382189705795714e-06,
          4.3425889683652545e-06,
          4.303748197749751e-06,
          4.265718735222605e-06,
          4.228550670097033e-06,
          4.19229274160747e-06,
          4.156992245121317e-06,
          4.122694942893465e-06,
          4.089444979555858e-06,
          4.057284802514104e-06,
          4.0262550874025364e-06,
          3.9963946687275235e-06,
          3.9677404758083995e-06,
          3.940327474103146e-06,
          3.914188611985553e-06,
          3.889354773018635e-06,
          3.865854733748635e-06,
          3.8437151270229636e-06,
          3.8229604108152885e-06,
          3.80361284252098e-06,
          3.7856924586670494e-06,
          3.769217059961993e-06,
          3.754202201592919e-06,
          3.7406611886604247e-06,
          3.7286050766251526e-06,
          3.7180426766247427e-06,
          3.70898056550533e-06,
          3.7014231003984343e-06,
          3.6953724376616726e-06,
          3.6908285559905295e-06,
          3.6877892834982047e-06,
          3.6862503285517056e-06,
          3.686205314144643e-06,
          3.687645815580386e-06,
          3.690561401234203e-06,
          3.6949396761586598e-06,
          3.700766328293753e-06,
          3.7080251770415652e-06,
          3.716698223964656e-06,
          3.726765705368289e-06,
          3.738206146528155e-06,
          3.7509964173285537e-06,
          3.7651117890798198e-06,
          3.7805259922891007e-06,
          3.7972112751645677e-06,
          3.815138462640423e-06,
          3.83427701571793e-06,
          3.8545950909266296e-06,
          3.876059599719653e-06,
          3.898636267627167e-06,
          3.922289693003297e-06,
          3.94698340521336e-06,
          3.972679922120383e-06,
          3.9993408067424625e-06,
          4.0269267229654216e-06,
          4.055397490208563e-06,
          4.084712136954441e-06,
          4.114828953067467e-06,
          4.145705540839353e-06,
          4.177298864713322e-06,
          4.209565299651933e-06,
          4.242460678127159e-06,
          4.275940335723664e-06,
          4.309959155359335e-06,
          4.344471610138979e-06,
          4.379431804868751e-06,
          4.414793516270269e-06,
          4.450510231943431e-06,
          4.486535188137172e-06,
          4.522821406396074e-06,
          4.559321729159451e-06,
          4.595988854396516e-06,
          4.632775369368179e-06,
          4.669633783611575e-06,
          4.706516561248098e-06,
          4.743376152719508e-06,
          4.780165026059654e-06,
          4.81683569781089e-06,
          4.853340763695297e-06,
          4.889632929150577e-06,
          4.925665039839295e-06,
          4.961390112238062e-06,
          4.996761364410149e-06,
          5.031732247060993e-06,
          5.0662564749711855e-06,
          5.100288058895631e-06,
          5.133781338011258e-06,
          5.166691012987885e-06,
          5.19897217974911e-06,
          5.230580363981218e-06,
          5.26147155643864e-06,
          5.291602249084776e-06,
          5.320929472096581e-06,
          5.3494108317504305e-06,
          5.377004549195871e-06,
          5.403669500112425e-06,
          5.429365255233114e-06,
          5.4540521217067536e-06,
          5.477691185259585e-06,
          5.50024435310493e-06,
          5.521674397538642e-06,
          5.541945000146362e-06,
          5.561020796538232e-06,
          5.578867421515785e-06,
          5.59545155456591e-06,
          5.610740965567119e-06,
          5.624704560584351e-06,
          5.637312427620309e-06,
          5.648535882183494e-06,
          5.65834751252651e-06,
          5.666721224401679e-06,
          5.673632285176339e-06,
          5.679057367145261e-06,
          5.682974589874617e-06,
          5.685363561409187e-06,
          5.686205418173045e-06,
          5.685482863393367e-06,
          5.683180203877495e-06,
          5.6792833849747315e-06,
          5.673780023556719e-06,
          5.666659438853751e-06,
          5.657912680988523e-06,
          5.64753255705424e-06,
          5.635513654590002e-06,
          5.621852362313587e-06,
          5.6065468879795055e-06,
          5.589597273238926e-06,
          5.5710054053873445e-06,
          5.550775025896206e-06,
          5.528911735635076e-06,
          5.505422996702588e-06,
          5.480318130795819e-06,
          5.453608314060395e-06,
          5.425306568375871e-06,
          5.39542774904404e-06,
          5.363988528860969e-06,
          5.331007378566767e-06,
          5.296504543680575e-06,
          5.260502017741648e-06,
          5.2230235119907465e-06,
          5.18409442153927e-06,
          5.143741788086646e-06,
          5.101994259259248e-06,
          5.0588820446564595e-06,
          5.01443686870174e-06,
          4.968691920407997e-06,
          4.921681800177757e-06,
          4.873442463769115e-06,
          4.824011163568486e-06,
          4.773426387320354e-06,
          4.721727794472898e-06,
          4.668956150306305e-06,
          4.615153258017562e-06,
          4.560361888942084e-06,
          4.504625711097863e-06,
          4.44798921624283e-06,
          4.390497645639762e-06,
          4.332196914726353e-06,
          4.273133536890291e-06,
          4.21335454655048e-06,
          4.152907421746278e-06,
          4.0918400064364236e-06,
          4.030200432708102e-06,
          3.968037043095128e-06,
          3.905398313201444e-06,
          3.842332774823002e-06,
          3.778888939757001e-06,
          3.7151152244830654e-06,
          3.651059875895514e-06,
          3.5867708982600215e-06,
          3.5222959815618237e-06,
          3.4576824314054788e-06,
          3.3929771006189383e-06,
          3.3282263227070728e-06,
          3.263475847291374e-06,
          3.1987707776643135e-06,
          3.1341555105780303e-06,
          3.069673678378031e-06,
          3.005368093583347e-06,
          2.941280696005462e-06,
          2.8774525024886786e-06,
          2.8139235593453085e-06,
          2.7507328975493915e-06,
          2.6879184907434168e-06
         ],
         "yaxis": "y"
        }
       ],
       "layout": {
        "barmode": "overlay",
        "hovermode": "closest",
        "legend": {
         "traceorder": "reversed"
        },
        "template": {
         "data": {
          "bar": [
           {
            "error_x": {
             "color": "#2a3f5f"
            },
            "error_y": {
             "color": "#2a3f5f"
            },
            "marker": {
             "line": {
              "color": "#E5ECF6",
              "width": 0.5
             }
            },
            "type": "bar"
           }
          ],
          "barpolar": [
           {
            "marker": {
             "line": {
              "color": "#E5ECF6",
              "width": 0.5
             }
            },
            "type": "barpolar"
           }
          ],
          "carpet": [
           {
            "aaxis": {
             "endlinecolor": "#2a3f5f",
             "gridcolor": "white",
             "linecolor": "white",
             "minorgridcolor": "white",
             "startlinecolor": "#2a3f5f"
            },
            "baxis": {
             "endlinecolor": "#2a3f5f",
             "gridcolor": "white",
             "linecolor": "white",
             "minorgridcolor": "white",
             "startlinecolor": "#2a3f5f"
            },
            "type": "carpet"
           }
          ],
          "choropleth": [
           {
            "colorbar": {
             "outlinewidth": 0,
             "ticks": ""
            },
            "type": "choropleth"
           }
          ],
          "contour": [
           {
            "colorbar": {
             "outlinewidth": 0,
             "ticks": ""
            },
            "colorscale": [
             [
              0,
              "#0d0887"
             ],
             [
              0.1111111111111111,
              "#46039f"
             ],
             [
              0.2222222222222222,
              "#7201a8"
             ],
             [
              0.3333333333333333,
              "#9c179e"
             ],
             [
              0.4444444444444444,
              "#bd3786"
             ],
             [
              0.5555555555555556,
              "#d8576b"
             ],
             [
              0.6666666666666666,
              "#ed7953"
             ],
             [
              0.7777777777777778,
              "#fb9f3a"
             ],
             [
              0.8888888888888888,
              "#fdca26"
             ],
             [
              1,
              "#f0f921"
             ]
            ],
            "type": "contour"
           }
          ],
          "contourcarpet": [
           {
            "colorbar": {
             "outlinewidth": 0,
             "ticks": ""
            },
            "type": "contourcarpet"
           }
          ],
          "heatmap": [
           {
            "colorbar": {
             "outlinewidth": 0,
             "ticks": ""
            },
            "colorscale": [
             [
              0,
              "#0d0887"
             ],
             [
              0.1111111111111111,
              "#46039f"
             ],
             [
              0.2222222222222222,
              "#7201a8"
             ],
             [
              0.3333333333333333,
              "#9c179e"
             ],
             [
              0.4444444444444444,
              "#bd3786"
             ],
             [
              0.5555555555555556,
              "#d8576b"
             ],
             [
              0.6666666666666666,
              "#ed7953"
             ],
             [
              0.7777777777777778,
              "#fb9f3a"
             ],
             [
              0.8888888888888888,
              "#fdca26"
             ],
             [
              1,
              "#f0f921"
             ]
            ],
            "type": "heatmap"
           }
          ],
          "heatmapgl": [
           {
            "colorbar": {
             "outlinewidth": 0,
             "ticks": ""
            },
            "colorscale": [
             [
              0,
              "#0d0887"
             ],
             [
              0.1111111111111111,
              "#46039f"
             ],
             [
              0.2222222222222222,
              "#7201a8"
             ],
             [
              0.3333333333333333,
              "#9c179e"
             ],
             [
              0.4444444444444444,
              "#bd3786"
             ],
             [
              0.5555555555555556,
              "#d8576b"
             ],
             [
              0.6666666666666666,
              "#ed7953"
             ],
             [
              0.7777777777777778,
              "#fb9f3a"
             ],
             [
              0.8888888888888888,
              "#fdca26"
             ],
             [
              1,
              "#f0f921"
             ]
            ],
            "type": "heatmapgl"
           }
          ],
          "histogram": [
           {
            "marker": {
             "colorbar": {
              "outlinewidth": 0,
              "ticks": ""
             }
            },
            "type": "histogram"
           }
          ],
          "histogram2d": [
           {
            "colorbar": {
             "outlinewidth": 0,
             "ticks": ""
            },
            "colorscale": [
             [
              0,
              "#0d0887"
             ],
             [
              0.1111111111111111,
              "#46039f"
             ],
             [
              0.2222222222222222,
              "#7201a8"
             ],
             [
              0.3333333333333333,
              "#9c179e"
             ],
             [
              0.4444444444444444,
              "#bd3786"
             ],
             [
              0.5555555555555556,
              "#d8576b"
             ],
             [
              0.6666666666666666,
              "#ed7953"
             ],
             [
              0.7777777777777778,
              "#fb9f3a"
             ],
             [
              0.8888888888888888,
              "#fdca26"
             ],
             [
              1,
              "#f0f921"
             ]
            ],
            "type": "histogram2d"
           }
          ],
          "histogram2dcontour": [
           {
            "colorbar": {
             "outlinewidth": 0,
             "ticks": ""
            },
            "colorscale": [
             [
              0,
              "#0d0887"
             ],
             [
              0.1111111111111111,
              "#46039f"
             ],
             [
              0.2222222222222222,
              "#7201a8"
             ],
             [
              0.3333333333333333,
              "#9c179e"
             ],
             [
              0.4444444444444444,
              "#bd3786"
             ],
             [
              0.5555555555555556,
              "#d8576b"
             ],
             [
              0.6666666666666666,
              "#ed7953"
             ],
             [
              0.7777777777777778,
              "#fb9f3a"
             ],
             [
              0.8888888888888888,
              "#fdca26"
             ],
             [
              1,
              "#f0f921"
             ]
            ],
            "type": "histogram2dcontour"
           }
          ],
          "mesh3d": [
           {
            "colorbar": {
             "outlinewidth": 0,
             "ticks": ""
            },
            "type": "mesh3d"
           }
          ],
          "parcoords": [
           {
            "line": {
             "colorbar": {
              "outlinewidth": 0,
              "ticks": ""
             }
            },
            "type": "parcoords"
           }
          ],
          "pie": [
           {
            "automargin": true,
            "type": "pie"
           }
          ],
          "scatter": [
           {
            "marker": {
             "colorbar": {
              "outlinewidth": 0,
              "ticks": ""
             }
            },
            "type": "scatter"
           }
          ],
          "scatter3d": [
           {
            "line": {
             "colorbar": {
              "outlinewidth": 0,
              "ticks": ""
             }
            },
            "marker": {
             "colorbar": {
              "outlinewidth": 0,
              "ticks": ""
             }
            },
            "type": "scatter3d"
           }
          ],
          "scattercarpet": [
           {
            "marker": {
             "colorbar": {
              "outlinewidth": 0,
              "ticks": ""
             }
            },
            "type": "scattercarpet"
           }
          ],
          "scattergeo": [
           {
            "marker": {
             "colorbar": {
              "outlinewidth": 0,
              "ticks": ""
             }
            },
            "type": "scattergeo"
           }
          ],
          "scattergl": [
           {
            "marker": {
             "colorbar": {
              "outlinewidth": 0,
              "ticks": ""
             }
            },
            "type": "scattergl"
           }
          ],
          "scattermapbox": [
           {
            "marker": {
             "colorbar": {
              "outlinewidth": 0,
              "ticks": ""
             }
            },
            "type": "scattermapbox"
           }
          ],
          "scatterpolar": [
           {
            "marker": {
             "colorbar": {
              "outlinewidth": 0,
              "ticks": ""
             }
            },
            "type": "scatterpolar"
           }
          ],
          "scatterpolargl": [
           {
            "marker": {
             "colorbar": {
              "outlinewidth": 0,
              "ticks": ""
             }
            },
            "type": "scatterpolargl"
           }
          ],
          "scatterternary": [
           {
            "marker": {
             "colorbar": {
              "outlinewidth": 0,
              "ticks": ""
             }
            },
            "type": "scatterternary"
           }
          ],
          "surface": [
           {
            "colorbar": {
             "outlinewidth": 0,
             "ticks": ""
            },
            "colorscale": [
             [
              0,
              "#0d0887"
             ],
             [
              0.1111111111111111,
              "#46039f"
             ],
             [
              0.2222222222222222,
              "#7201a8"
             ],
             [
              0.3333333333333333,
              "#9c179e"
             ],
             [
              0.4444444444444444,
              "#bd3786"
             ],
             [
              0.5555555555555556,
              "#d8576b"
             ],
             [
              0.6666666666666666,
              "#ed7953"
             ],
             [
              0.7777777777777778,
              "#fb9f3a"
             ],
             [
              0.8888888888888888,
              "#fdca26"
             ],
             [
              1,
              "#f0f921"
             ]
            ],
            "type": "surface"
           }
          ],
          "table": [
           {
            "cells": {
             "fill": {
              "color": "#EBF0F8"
             },
             "line": {
              "color": "white"
             }
            },
            "header": {
             "fill": {
              "color": "#C8D4E3"
             },
             "line": {
              "color": "white"
             }
            },
            "type": "table"
           }
          ]
         },
         "layout": {
          "annotationdefaults": {
           "arrowcolor": "#2a3f5f",
           "arrowhead": 0,
           "arrowwidth": 1
          },
          "coloraxis": {
           "colorbar": {
            "outlinewidth": 0,
            "ticks": ""
           }
          },
          "colorscale": {
           "diverging": [
            [
             0,
             "#8e0152"
            ],
            [
             0.1,
             "#c51b7d"
            ],
            [
             0.2,
             "#de77ae"
            ],
            [
             0.3,
             "#f1b6da"
            ],
            [
             0.4,
             "#fde0ef"
            ],
            [
             0.5,
             "#f7f7f7"
            ],
            [
             0.6,
             "#e6f5d0"
            ],
            [
             0.7,
             "#b8e186"
            ],
            [
             0.8,
             "#7fbc41"
            ],
            [
             0.9,
             "#4d9221"
            ],
            [
             1,
             "#276419"
            ]
           ],
           "sequential": [
            [
             0,
             "#0d0887"
            ],
            [
             0.1111111111111111,
             "#46039f"
            ],
            [
             0.2222222222222222,
             "#7201a8"
            ],
            [
             0.3333333333333333,
             "#9c179e"
            ],
            [
             0.4444444444444444,
             "#bd3786"
            ],
            [
             0.5555555555555556,
             "#d8576b"
            ],
            [
             0.6666666666666666,
             "#ed7953"
            ],
            [
             0.7777777777777778,
             "#fb9f3a"
            ],
            [
             0.8888888888888888,
             "#fdca26"
            ],
            [
             1,
             "#f0f921"
            ]
           ],
           "sequentialminus": [
            [
             0,
             "#0d0887"
            ],
            [
             0.1111111111111111,
             "#46039f"
            ],
            [
             0.2222222222222222,
             "#7201a8"
            ],
            [
             0.3333333333333333,
             "#9c179e"
            ],
            [
             0.4444444444444444,
             "#bd3786"
            ],
            [
             0.5555555555555556,
             "#d8576b"
            ],
            [
             0.6666666666666666,
             "#ed7953"
            ],
            [
             0.7777777777777778,
             "#fb9f3a"
            ],
            [
             0.8888888888888888,
             "#fdca26"
            ],
            [
             1,
             "#f0f921"
            ]
           ]
          },
          "colorway": [
           "#636efa",
           "#EF553B",
           "#00cc96",
           "#ab63fa",
           "#FFA15A",
           "#19d3f3",
           "#FF6692",
           "#B6E880",
           "#FF97FF",
           "#FECB52"
          ],
          "font": {
           "color": "#2a3f5f"
          },
          "geo": {
           "bgcolor": "white",
           "lakecolor": "white",
           "landcolor": "#E5ECF6",
           "showlakes": true,
           "showland": true,
           "subunitcolor": "white"
          },
          "hoverlabel": {
           "align": "left"
          },
          "hovermode": "closest",
          "mapbox": {
           "style": "light"
          },
          "paper_bgcolor": "white",
          "plot_bgcolor": "#E5ECF6",
          "polar": {
           "angularaxis": {
            "gridcolor": "white",
            "linecolor": "white",
            "ticks": ""
           },
           "bgcolor": "#E5ECF6",
           "radialaxis": {
            "gridcolor": "white",
            "linecolor": "white",
            "ticks": ""
           }
          },
          "scene": {
           "xaxis": {
            "backgroundcolor": "#E5ECF6",
            "gridcolor": "white",
            "gridwidth": 2,
            "linecolor": "white",
            "showbackground": true,
            "ticks": "",
            "zerolinecolor": "white"
           },
           "yaxis": {
            "backgroundcolor": "#E5ECF6",
            "gridcolor": "white",
            "gridwidth": 2,
            "linecolor": "white",
            "showbackground": true,
            "ticks": "",
            "zerolinecolor": "white"
           },
           "zaxis": {
            "backgroundcolor": "#E5ECF6",
            "gridcolor": "white",
            "gridwidth": 2,
            "linecolor": "white",
            "showbackground": true,
            "ticks": "",
            "zerolinecolor": "white"
           }
          },
          "shapedefaults": {
           "line": {
            "color": "#2a3f5f"
           }
          },
          "ternary": {
           "aaxis": {
            "gridcolor": "white",
            "linecolor": "white",
            "ticks": ""
           },
           "baxis": {
            "gridcolor": "white",
            "linecolor": "white",
            "ticks": ""
           },
           "bgcolor": "#E5ECF6",
           "caxis": {
            "gridcolor": "white",
            "linecolor": "white",
            "ticks": ""
           }
          },
          "title": {
           "x": 0.05
          },
          "xaxis": {
           "automargin": true,
           "gridcolor": "white",
           "linecolor": "white",
           "ticks": "",
           "title": {
            "standoff": 15
           },
           "zerolinecolor": "white",
           "zerolinewidth": 2
          },
          "yaxis": {
           "automargin": true,
           "gridcolor": "white",
           "linecolor": "white",
           "ticks": "",
           "title": {
            "standoff": 15
           },
           "zerolinecolor": "white",
           "zerolinewidth": 2
          }
         }
        },
        "title": {
         "text": "Transactions Time Density"
        },
        "xaxis": {
         "anchor": "y2",
         "domain": [
          0,
          1
         ],
         "title": {
          "text": "Time [s]"
         },
         "zeroline": false
        },
        "yaxis": {
         "anchor": "free",
         "domain": [
          0,
          1
         ],
         "position": 0
        }
       }
      },
      "text/html": [
       "<div>\n",
       "        \n",
       "        \n",
       "            <div id=\"f7bfc915-2bfe-4211-8cd2-d96a9cd4732c\" class=\"plotly-graph-div\" style=\"height:525px; width:100%;\"></div>\n",
       "            <script type=\"text/javascript\">\n",
       "                require([\"plotly\"], function(Plotly) {\n",
       "                    window.PLOTLYENV=window.PLOTLYENV || {};\n",
       "                    \n",
       "                if (document.getElementById(\"f7bfc915-2bfe-4211-8cd2-d96a9cd4732c\")) {\n",
       "                    Plotly.newPlot(\n",
       "                        'f7bfc915-2bfe-4211-8cd2-d96a9cd4732c',\n",
       "                        [{\"legendgroup\": \"Genuine\", \"marker\": {\"color\": \"rgb(31, 119, 180)\"}, \"mode\": \"lines\", \"name\": \"Genuine\", \"showlegend\": true, \"type\": \"scatter\", \"x\": [0.0, 345.584, 691.168, 1036.752, 1382.336, 1727.92, 2073.504, 2419.088, 2764.672, 3110.256, 3455.84, 3801.424, 4147.008, 4492.592, 4838.176, 5183.76, 5529.344, 5874.928, 6220.512, 6566.096, 6911.68, 7257.264, 7602.848, 7948.432, 8294.016, 8639.6, 8985.184, 9330.768, 9676.352, 10021.936, 10367.52, 10713.104, 11058.688, 11404.272, 11749.856, 12095.44, 12441.024, 12786.608, 13132.192, 13477.776, 13823.36, 14168.944, 14514.528, 14860.112, 15205.696, 15551.28, 15896.864, 16242.448, 16588.032, 16933.616, 17279.2, 17624.784, 17970.368, 18315.952, 18661.536, 19007.12, 19352.704, 19698.288, 20043.872, 20389.456, 20735.04, 21080.624, 21426.208, 21771.792, 22117.376, 22462.96, 22808.544, 23154.128, 23499.712, 23845.296, 24190.88, 24536.464, 24882.048, 25227.632, 25573.216, 25918.8, 26264.384, 26609.968, 26955.552, 27301.136, 27646.72, 27992.304, 28337.888, 28683.472, 29029.056, 29374.64, 29720.224, 30065.808, 30411.392, 30756.976, 31102.56, 31448.144, 31793.728, 32139.312, 32484.896, 32830.48, 33176.064, 33521.648, 33867.232, 34212.816, 34558.4, 34903.984, 35249.568, 35595.152, 35940.736, 36286.32, 36631.904, 36977.488, 37323.072, 37668.656, 38014.24, 38359.824, 38705.408, 39050.992, 39396.576, 39742.16, 40087.744, 40433.328, 40778.912, 41124.496, 41470.08, 41815.664, 42161.248, 42506.832, 42852.416, 43198.0, 43543.584, 43889.168, 44234.752, 44580.336, 44925.92, 45271.504, 45617.088, 45962.672, 46308.256, 46653.84, 46999.424, 47345.008, 47690.592, 48036.176, 48381.76, 48727.344, 49072.928, 49418.512, 49764.096, 50109.68, 50455.264, 50800.848, 51146.432, 51492.016, 51837.6, 52183.184, 52528.768, 52874.352, 53219.936, 53565.52, 53911.104, 54256.688, 54602.272, 54947.856, 55293.44, 55639.024, 55984.608, 56330.192, 56675.776, 57021.36, 57366.944, 57712.528, 58058.112, 58403.696, 58749.28, 59094.864, 59440.448, 59786.032, 60131.616, 60477.2, 60822.784, 61168.368, 61513.952, 61859.536, 62205.12, 62550.704, 62896.288, 63241.872, 63587.456, 63933.04, 64278.624, 64624.208, 64969.792, 65315.376, 65660.96, 66006.544, 66352.128, 66697.712, 67043.296, 67388.88, 67734.464, 68080.048, 68425.632, 68771.216, 69116.8, 69462.384, 69807.968, 70153.552, 70499.136, 70844.72, 71190.304, 71535.888, 71881.472, 72227.056, 72572.64, 72918.224, 73263.808, 73609.392, 73954.976, 74300.56, 74646.144, 74991.728, 75337.312, 75682.896, 76028.48, 76374.064, 76719.648, 77065.232, 77410.816, 77756.4, 78101.984, 78447.568, 78793.152, 79138.736, 79484.32, 79829.904, 80175.488, 80521.072, 80866.656, 81212.24, 81557.824, 81903.408, 82248.992, 82594.576, 82940.16, 83285.744, 83631.328, 83976.912, 84322.496, 84668.08, 85013.664, 85359.248, 85704.832, 86050.416, 86396.0, 86741.584, 87087.168, 87432.752, 87778.336, 88123.92, 88469.504, 88815.088, 89160.672, 89506.256, 89851.84, 90197.424, 90543.008, 90888.592, 91234.176, 91579.76, 91925.344, 92270.928, 92616.512, 92962.096, 93307.68, 93653.264, 93998.848, 94344.432, 94690.016, 95035.6, 95381.184, 95726.768, 96072.352, 96417.936, 96763.52, 97109.104, 97454.688, 97800.272, 98145.856, 98491.44, 98837.024, 99182.608, 99528.192, 99873.776, 100219.36, 100564.944, 100910.528, 101256.112, 101601.696, 101947.28, 102292.864, 102638.448, 102984.032, 103329.616, 103675.2, 104020.784, 104366.368, 104711.952, 105057.536, 105403.12, 105748.704, 106094.288, 106439.872, 106785.456, 107131.04, 107476.624, 107822.208, 108167.792, 108513.376, 108858.96, 109204.544, 109550.128, 109895.712, 110241.296, 110586.88, 110932.464, 111278.048, 111623.632, 111969.216, 112314.8, 112660.384, 113005.968, 113351.552, 113697.136, 114042.72, 114388.304, 114733.888, 115079.472, 115425.056, 115770.64, 116116.224, 116461.808, 116807.392, 117152.976, 117498.56, 117844.144, 118189.728, 118535.312, 118880.896, 119226.48, 119572.064, 119917.648, 120263.232, 120608.816, 120954.4, 121299.984, 121645.568, 121991.152, 122336.736, 122682.32, 123027.904, 123373.488, 123719.072, 124064.656, 124410.24, 124755.824, 125101.408, 125446.992, 125792.576, 126138.16, 126483.744, 126829.328, 127174.912, 127520.496, 127866.08, 128211.664, 128557.248, 128902.832, 129248.416, 129594.0, 129939.584, 130285.168, 130630.752, 130976.336, 131321.92, 131667.504, 132013.088, 132358.672, 132704.256, 133049.84, 133395.424, 133741.008, 134086.592, 134432.176, 134777.76, 135123.344, 135468.928, 135814.512, 136160.096, 136505.68, 136851.264, 137196.848, 137542.432, 137888.016, 138233.6, 138579.184, 138924.768, 139270.352, 139615.936, 139961.52, 140307.104, 140652.688, 140998.272, 141343.856, 141689.44, 142035.024, 142380.608, 142726.192, 143071.776, 143417.36, 143762.944, 144108.528, 144454.112, 144799.696, 145145.28, 145490.864, 145836.448, 146182.032, 146527.616, 146873.2, 147218.784, 147564.368, 147909.952, 148255.536, 148601.12, 148946.704, 149292.288, 149637.872, 149983.456, 150329.04, 150674.624, 151020.208, 151365.792, 151711.376, 152056.96, 152402.544, 152748.128, 153093.712, 153439.296, 153784.88, 154130.464, 154476.048, 154821.632, 155167.216, 155512.8, 155858.384, 156203.968, 156549.552, 156895.136, 157240.72, 157586.304, 157931.888, 158277.472, 158623.056, 158968.64, 159314.224, 159659.808, 160005.392, 160350.976, 160696.56, 161042.144, 161387.728, 161733.312, 162078.896, 162424.48, 162770.064, 163115.648, 163461.232, 163806.816, 164152.4, 164497.984, 164843.568, 165189.152, 165534.736, 165880.32, 166225.904, 166571.488, 166917.072, 167262.656, 167608.24, 167953.824, 168299.408, 168644.992, 168990.576, 169336.16, 169681.744, 170027.328, 170372.912, 170718.496, 171064.08, 171409.664, 171755.248, 172100.832, 172446.416], \"xaxis\": \"x\", \"y\": [1.6973474560862625e-06, 1.7892406860838524e-06, 1.8751066622895494e-06, 1.9539240211317084e-06, 2.02481478748431e-06, 2.087070000172911e-06, 2.1401693523159294e-06, 2.1837939471418144e-06, 2.2178316034667475e-06, 2.2423745117614634e-06, 2.257709419619588e-06, 2.264300891818994e-06, 2.26276852340525e-06, 2.253859265166439e-06, 2.2384162340776495e-06, 2.21734551598041e-06, 2.1915825183282734e-06, 2.1620593970212843e-06, 2.1296749680388296e-06, 2.0952683311935607e-06, 2.0595971930319196e-06, 2.023321594572056e-06, 1.9869934446535072e-06, 1.951051949066699e-06, 1.9158247265703086e-06, 1.8815341310019926e-06, 1.848308067129339e-06, 1.8161944068401386e-06, 1.7851779885079816e-06, 1.7551991191213949e-06, 1.7261724957826222e-06, 1.6980055169884527e-06, 1.6706150584079202e-06, 1.6439419340972736e-06, 1.617962442003826e-06, 1.5926965909611318e-06, 1.5682128135696683e-06, 1.544629174059016e-06, 1.5221112719307155e-06, 1.5008672116659746e-06, 1.48114014848376e-06, 1.463199024397815e-06, 1.4473281740525027e-06, 1.433816504534442e-06, 1.4229469381476586e-06, 1.414986754542989e-06, 1.4101793829092355e-06, 1.4087380819814244e-06, 1.410841812435417e-06, 1.4166334607268717e-06, 1.426220423996238e-06, 1.439677420778031e-06, 1.4570512600449124e-06, 1.478367188917492e-06, 1.503636353303646e-06, 1.532863850340675e-06, 1.5660568294638417e-06, 1.6032321108016586e-06, 1.6444228338375712e-06, 1.6896837222362078e-06, 1.7390946469102094e-06, 1.7927622818094415e-06, 1.8508197675565914e-06, 1.9134244185216923e-06, 1.9807536210244885e-06, 2.052999166716872e-06, 2.1303603398728393e-06, 2.213036126211221e-06, 2.301216932079258e-06, 2.395076196709517e-06, 2.494762249423668e-06, 2.6003907126325713e-06, 2.712037686308704e-06, 2.829733877231266e-06, 2.953459763918414e-06, 3.0831418225125198e-06, 3.2186497856325977e-06, 3.3597948693887245e-06, 3.506328885405161e-06, 3.657944154693266e-06, 3.814274156307338e-06, 3.974894871817851e-06, 4.139326821282088e-06, 4.307037821357698e-06, 4.477446525210389e-06, 4.6499268212934376e-06, 4.823813169618672e-06, 4.998406937320888e-06, 5.172983759821e-06, 5.346801901645625e-06, 5.519111525987053e-06, 5.689164710128996e-06, 5.856225971804481e-06, 6.019583006720738e-06, 6.178557286897196e-06, 6.332514139091254e-06, 6.4808719167415175e-06, 6.623109899730124e-06, 6.758774603685584e-06, 6.88748425198415e-06, 7.0089312543934926e-06, 7.122882640062262e-06, 7.2291785017877025e-06, 7.327728615222163e-06, 7.418507493160886e-06, 7.5015482143997435e-06, 7.5769354233673155e-06, 7.644797927106253e-06, 7.705301318490688e-06, 7.75864102915076e-06, 7.805036164695591e-06, 7.84472440242119e-06, 7.877958143024662e-06, 7.905002009089141e-06, 7.926131680881422e-06, 7.941633960960514e-06, 7.951807869480464e-06, 7.956966497383942e-06, 7.957439289377042e-06, 7.953574395833074e-06, 7.945740724360044e-06, 7.934329337960165e-06, 7.919753886307513e-06, 7.902449817071933e-06, 7.882872191586981e-06, 7.861492018652476e-06, 7.838791116317863e-06, 7.81525560817615e-06, 7.79136825206977e-06, 7.76759987960622e-06, 7.74440028967202e-06, 7.722188984437913e-06, 7.701346159669777e-06, 7.6822043614373e-06, 7.66504119895186e-06, 7.650073460068543e-06, 7.63745291497132e-06, 7.627264018690251e-06, 7.619523638962204e-06, 7.61418284739371e-06, 7.6111307236867375e-06, 7.6102000392219856e-06, 7.611174611301134e-06, 7.613798055773855e-06, 7.617783615694085e-06, 7.622824708288294e-06, 7.628605812331322e-06, 7.634813312831896e-06, 7.641145929062418e-06, 7.647324374416423e-06, 7.653099931107249e-06, 7.658261667942255e-06, 7.662642083794295e-06, 7.66612102126682e-06, 7.668627762522526e-06, 7.670141290160721e-06, 7.670688767914656e-06, 7.670342366007512e-06, 7.66921462120061e-06, 7.667452578693216e-06, 7.665231008940164e-06, 7.662745024281448e-06, 7.660202435731148e-06, 7.657816187892731e-06, 7.655797189369246e-06, 7.654347818074227e-06, 7.653656327679867e-06, 7.653892316465873e-06, 7.655203347519692e-06, 7.65771273480394e-06, 7.661518438616632e-06, 7.666692951868892e-06, 7.673284010222965e-06, 7.681315928222695e-06, 7.690791352390222e-06, 7.701693231398905e-06, 7.713986831544124e-06, 7.727621669694493e-06, 7.742533291007433e-06, 7.758644879036353e-06, 7.775868744871325e-06, 7.794107793011708e-06, 7.81325709872021e-06, 7.833205749804812e-06, 7.853839101993525e-06, 7.875041570289566e-06, 7.896700030201781e-06, 7.918707836091386e-06, 7.940969384639724e-06, 7.96340506676621e-06, 7.985956369289425e-06, 8.00859081649447e-06, 8.031306389214011e-06, 8.054135031363672e-06, 8.077144855419447e-06, 8.100440690962982e-06, 8.124162683360498e-06, 8.148482739462218e-06, 8.173598728158165e-06, 8.199726468139169e-06, 8.227089664610624e-06, 8.25590808198686e-06, 8.28638435222757e-06, 8.318689911131519e-06, 8.352950622010653e-06, 8.38923268428928e-06, 8.427529432517306e-06, 8.467749609998035e-06, 8.509707653467948e-06, 8.553116455128512e-06, 8.597582980706166e-06, 8.642607022227219e-06, 8.687583256706685e-06, 8.731806671224798e-06, 8.774481304367378e-06, 8.814732146393727e-06, 8.851619937765453e-06, 8.884158509418409e-06, 8.911334219900079e-06, 8.93212696595953e-06, 8.945532176540028e-06, 8.950583148096198e-06, 8.946373044910865e-06, 8.932075875017815e-06, 8.906965763681001e-06, 8.870433884729299e-06, 8.822002476834194e-06, 8.761335466861043e-06, 8.688245343573517e-06, 8.60269606795518e-06, 8.504801964908319e-06, 8.394822707027603e-06, 8.27315466523841e-06, 8.140319053533608e-06, 7.996947426325236e-06, 7.843765188648271e-06, 7.681573845069891e-06, 7.511232738581458e-06, 7.3336410147174135e-06, 7.149720490327964e-06, 6.960400015284351e-06, 6.76660179574214e-06, 6.569230008025214e-06, 6.36916188234495e-06, 6.16724128529688e-06, 5.964274688715342e-06, 5.761029288153199e-06, 5.558232933420997e-06, 5.356575460667354e-06, 5.15671097265771e-06, 4.959260601369082e-06, 4.764815303057906e-06, 4.573938277349221e-06, 4.387166664291066e-06, 4.205012251684114e-06, 4.027961014003795e-06, 3.856471398599811e-06, 3.6909713696185294e-06, 3.5318543107641182e-06, 3.379473970704143e-06, 3.234138706364411e-06, 3.0961053368943382e-06, 2.9655729626550754e-06, 2.8426771276872563e-06, 2.7274847098052654e-06, 2.6199899093580027e-06, 2.5201116760152443e-06, 2.427692863569988e-06, 2.342501337296571e-06, 2.2642331792467848e-06, 2.1925180471488966e-06, 2.1269266461766625e-06, 2.0669801742747234e-06, 2.012161505894392e-06, 1.9619277910246253e-06, 1.9157240712836386e-06, 1.8729974570884757e-06, 1.8332113732541473e-06, 1.7958593673803114e-06, 1.7604779872841774e-06, 1.7266582702357455e-06, 1.694055445992881e-06, 1.6623965343017232e-06, 1.631485611053777e-06, 1.6012066201757901e-06, 1.5715237145408006e-06, 1.542479212608412e-06, 1.5141893523612142e-06, 1.4868381053924663e-06, 1.4606693777951694e-06, 1.435977968199224e-06, 1.4130996757282453e-06, 1.3924009520550413e-06, 1.374268473694461e-06, 1.3590989758663339e-06, 1.347289641216179e-06, 1.3392292794638812e-06, 1.3352904719534254e-06, 1.335822792319614e-06, 1.3411471549520408e-06, 1.3515512899464527e-06, 1.367286299390529e-06, 1.3885642169033648e-06, 1.4155564712148167e-06, 1.448393145216722e-06, 1.4871629234742207e-06, 1.5319136320144049e-06, 1.5826532920302944e-06, 1.6393516311860304e-06, 1.7019420194298087e-06, 1.7703238174882003e-06, 1.8443651425656794e-06, 1.9239060646458663e-06, 2.0087622462565678e-06, 2.09872902751974e-06, 2.1935859366462225e-06, 2.2931015747104422e-06, 2.3970387845925383e-06, 2.505159970443064e-06, 2.6172323897751387e-06, 2.7330331997488785e-06, 2.8523540070368334e-06, 2.9750046513344738e-06, 3.100815950010067e-06, 3.229641148489752e-06, 3.361355859316623e-06, 3.4958563323565694e-06, 3.63305597752494e-06, 3.772880156059902e-06, 3.915259361504738e-06, 4.060121020560461e-06, 4.2073802492878264e-06, 4.356929993860715e-06, 4.508631059529609e-06, 4.662302579861578e-06, 4.8177134953873244e-06, 4.974575593216111e-06, 5.13253860606498e-06, 5.291187782149928e-06, 5.4500442207276015e-06, 5.608568128320151e-06, 5.766164996283534e-06, 5.922194541198661e-06, 6.0759820959883256e-06, 6.226832001934227e-06, 6.374042439170286e-06, 6.516921053371186e-06, 6.654800694582379e-06, 6.787054583110184e-06, 6.9131102568893785e-06, 7.0324617316912485e-06, 7.144679414248148e-06, 7.249417441024099e-06, 7.346418262603639e-06, 7.435514445358394e-06, 7.516627808025404e-06, 7.589766141684876e-06, 7.655017869382307e-06, 7.712545080305863e-06, 7.762575419365506e-06, 7.8053933251123e-06, 7.841331088566704e-06, 7.870760156337701e-06, 7.894083028920381e-06, 7.911726016106726e-06, 7.924133013619312e-06, 7.931760366075837e-06, 7.935072788426302e-06, 7.934540237283305e-06, 7.930635559896704e-06, 7.923832705051495e-06, 7.914605258270883e-06, 7.903425063041958e-06, 7.890760708467008e-06, 7.877075698646473e-06, 7.862826166203134e-06, 7.848458047159103e-06, 7.834403692291265e-06, 7.821077946805538e-06, 7.808873781946289e-06, 7.798157606036477e-06, 7.789264416364605e-06, 7.782492976152238e-06, 7.778101212259762e-06, 7.776302029754439e-06, 7.77725972996335e-06, 7.781087200522931e-06, 7.787844020760793e-06, 7.797535595084729e-06, 7.810113392412083e-06, 7.825476332419113e-06, 7.843473320743669e-06, 7.8639068963338e-06, 7.886537915928918e-06, 7.911091164213358e-06, 7.937261744566771e-06, 7.964722075704141e-06, 7.993129295077425e-06, 8.022132851959116e-06, 8.051382062852075e-06, 8.080533400310436e-06, 8.109257294160324e-06, 8.137244241794653e-06, 8.164210051466289e-06, 8.189900078482716e-06, 8.214092357438945e-06, 8.236599582027276e-06, 8.257269934936005e-06, 8.27598682093582e-06, 8.292667603341733e-06, 8.30726148460067e-06, 8.319746703096739e-06, 8.330127238270503e-06, 8.338429223485542e-06, 8.344697260357182e-06, 8.348990810121478e-06, 8.351380808722873e-06, 8.35194661521552e-06, 8.350773361117268e-06, 8.347949725304524e-06, 8.3435661188024e-06, 8.33771323009382e-06, 8.330480857437759e-06, 8.321956942328884e-06, 8.312226718653718e-06, 8.301371904983935e-06, 8.28946989113108e-06, 8.276592901670687e-06, 8.262807154750894e-06, 8.248172069642866e-06, 8.232739606528157e-06, 8.216553842656548e-06, 8.199650896786128e-06, 8.182059306530548e-06, 8.163800940243871e-06, 8.14489248744229e-06, 8.125347522247993e-06, 8.105179077168565e-06, 8.084402605008364e-06, 8.06303915073689e-06, 8.041118508591712e-06, 8.018682107832048e-06, 7.99578535747785e-06, 7.972499188554729e-06, 7.948910562417519e-06, 7.925121764270976e-06, 7.901248368810616e-06, 7.877415845168673e-06, 7.853754855151634e-06, 7.830395385603233e-06, 7.80745993614009e-06, 7.785056051576916e-06, 7.763268539232035e-06, 7.742151741544829e-06, 7.721722242233079e-06, 7.701952369437037e-06, 7.6827648233835e-06, 7.664028701862125e-06, 7.645557128088653e-06, 7.627106606879663e-06, 7.608378151350891e-06, 7.589020138440536e-06, 7.568632772026083e-06, 7.546773961324247e-06, 7.522966363070432e-06, 7.4967052913752665e-06, 7.467467171099385e-06, 7.434718200257082e-06, 7.397922894775444e-06, 7.356552214556275e-06, 7.310091012100824e-06, 7.258044602058914e-06, 7.199944319248189e-06, 7.135352010448117e-06, 7.0638634873427295e-06, 6.9851110494467845e-06, 6.898765261309038e-06, 6.804536232138985e-06, 6.70217469278363e-06, 6.591473189773049e-06, 6.472267715052255e-06, 6.344440060579464e-06, 6.207921128630432e-06, 6.0626953430227735e-06, 5.9088061975280145e-06, 5.74636285175979e-06, 5.5755475501749785e-06, 5.396623506475848e-06, 5.2099427745622285e-06, 5.0159535292631835e-06, 4.815206115540946e-06, 4.608357202072402e-06, 4.3961713997570734e-06, 4.179519780059286e-06, 3.959374850598438e-06, 3.736801710492055e-06, 3.5129453063021003e-06, 3.289013928517071e-06, 3.0662593135147575e-06, 2.8459539309658254e-06], \"yaxis\": \"y\"}, {\"legendgroup\": \"Fraudulent\", \"marker\": {\"color\": \"rgb(255, 127, 14)\"}, \"mode\": \"lines\", \"name\": \"Fraudulent\", \"showlegend\": true, \"type\": \"scatter\", \"x\": [406.0, 745.884, 1085.768, 1425.652, 1765.536, 2105.42, 2445.304, 2785.188, 3125.072, 3464.956, 3804.84, 4144.724, 4484.608, 4824.492, 5164.376, 5504.26, 5844.144, 6184.028, 6523.912, 6863.796, 7203.68, 7543.564, 7883.448, 8223.332, 8563.216, 8903.1, 9242.984, 9582.868, 9922.752, 10262.636, 10602.52, 10942.404, 11282.288, 11622.172, 11962.056, 12301.94, 12641.824, 12981.708, 13321.592, 13661.476, 14001.36, 14341.244, 14681.128, 15021.012, 15360.896, 15700.78, 16040.664, 16380.548, 16720.432, 17060.316, 17400.2, 17740.084, 18079.968, 18419.852, 18759.736, 19099.62, 19439.504, 19779.388, 20119.272, 20459.156, 20799.04, 21138.924, 21478.808, 21818.692, 22158.576, 22498.46, 22838.344, 23178.228, 23518.112, 23857.996, 24197.88, 24537.764, 24877.648, 25217.532, 25557.416, 25897.3, 26237.184, 26577.068, 26916.952, 27256.836, 27596.72, 27936.604, 28276.488, 28616.372, 28956.256, 29296.14, 29636.024, 29975.908, 30315.792, 30655.676, 30995.56, 31335.444, 31675.328, 32015.212, 32355.096, 32694.98, 33034.864, 33374.748, 33714.632, 34054.516, 34394.4, 34734.284, 35074.168, 35414.052, 35753.936, 36093.82, 36433.704, 36773.588, 37113.472, 37453.356, 37793.24, 38133.124, 38473.008, 38812.892, 39152.776, 39492.66, 39832.544, 40172.428, 40512.312, 40852.196, 41192.08, 41531.964, 41871.848, 42211.732, 42551.616, 42891.5, 43231.384, 43571.268, 43911.152, 44251.036, 44590.92, 44930.804, 45270.688, 45610.572, 45950.456, 46290.34, 46630.224, 46970.108, 47309.992, 47649.876, 47989.76, 48329.644, 48669.528, 49009.412, 49349.296, 49689.18, 50029.064, 50368.948, 50708.832, 51048.716, 51388.6, 51728.484, 52068.368, 52408.252, 52748.136, 53088.02, 53427.904, 53767.788, 54107.672, 54447.556, 54787.44, 55127.324, 55467.208, 55807.092, 56146.976, 56486.86, 56826.744, 57166.628, 57506.512, 57846.396, 58186.28, 58526.164, 58866.048, 59205.932, 59545.816, 59885.7, 60225.584, 60565.468, 60905.352, 61245.236, 61585.12, 61925.004, 62264.888, 62604.772, 62944.656, 63284.54, 63624.424, 63964.308, 64304.192, 64644.076, 64983.96, 65323.844, 65663.728, 66003.612, 66343.496, 66683.38, 67023.264, 67363.148, 67703.032, 68042.916, 68382.8, 68722.684, 69062.568, 69402.452, 69742.336, 70082.22, 70422.104, 70761.988, 71101.872, 71441.756, 71781.64, 72121.524, 72461.408, 72801.292, 73141.176, 73481.06, 73820.944, 74160.828, 74500.712, 74840.596, 75180.48, 75520.364, 75860.248, 76200.132, 76540.016, 76879.9, 77219.784, 77559.668, 77899.552, 78239.436, 78579.32, 78919.204, 79259.088, 79598.972, 79938.856, 80278.74, 80618.624, 80958.508, 81298.392, 81638.276, 81978.16, 82318.044, 82657.928, 82997.812, 83337.696, 83677.58, 84017.464, 84357.348, 84697.232, 85037.116, 85377.0, 85716.884, 86056.768, 86396.652, 86736.536, 87076.42, 87416.304, 87756.188, 88096.072, 88435.956, 88775.84, 89115.724, 89455.608, 89795.492, 90135.376, 90475.26, 90815.144, 91155.028, 91494.912, 91834.796, 92174.68, 92514.564, 92854.448, 93194.332, 93534.216, 93874.1, 94213.984, 94553.868, 94893.752, 95233.636, 95573.52, 95913.404, 96253.288, 96593.172, 96933.056, 97272.94, 97612.824, 97952.708, 98292.592, 98632.476, 98972.36, 99312.244, 99652.128, 99992.012, 100331.896, 100671.78, 101011.664, 101351.548, 101691.432, 102031.316, 102371.2, 102711.084, 103050.968, 103390.852, 103730.736, 104070.62, 104410.504, 104750.388, 105090.272, 105430.156, 105770.04, 106109.924, 106449.808, 106789.692, 107129.576, 107469.46, 107809.344, 108149.228, 108489.112, 108828.996, 109168.88, 109508.764, 109848.648, 110188.532, 110528.416, 110868.3, 111208.184, 111548.068, 111887.952, 112227.836, 112567.72, 112907.604, 113247.488, 113587.372, 113927.256, 114267.14, 114607.024, 114946.908, 115286.792, 115626.676, 115966.56, 116306.444, 116646.328, 116986.212, 117326.096, 117665.98, 118005.864, 118345.748, 118685.632, 119025.516, 119365.4, 119705.284, 120045.168, 120385.052, 120724.936, 121064.82, 121404.704, 121744.588, 122084.472, 122424.356, 122764.24, 123104.124, 123444.008, 123783.892, 124123.776, 124463.66, 124803.544, 125143.428, 125483.312, 125823.196, 126163.08, 126502.964, 126842.848, 127182.732, 127522.616, 127862.5, 128202.384, 128542.268, 128882.152, 129222.036, 129561.92, 129901.804, 130241.688, 130581.572, 130921.456, 131261.34, 131601.224, 131941.108, 132280.992, 132620.876, 132960.76, 133300.644, 133640.528, 133980.412, 134320.296, 134660.18, 135000.064, 135339.948, 135679.832, 136019.716, 136359.6, 136699.484, 137039.368, 137379.252, 137719.136, 138059.02, 138398.904, 138738.788, 139078.672, 139418.556, 139758.44, 140098.324, 140438.208, 140778.092, 141117.976, 141457.86, 141797.744, 142137.628, 142477.512, 142817.396, 143157.28, 143497.164, 143837.048, 144176.932, 144516.816, 144856.7, 145196.584, 145536.468, 145876.352, 146216.236, 146556.12, 146896.004, 147235.888, 147575.772, 147915.656, 148255.54, 148595.424, 148935.308, 149275.192, 149615.076, 149954.96, 150294.844, 150634.728, 150974.612, 151314.496, 151654.38, 151994.264, 152334.148, 152674.032, 153013.916, 153353.8, 153693.684, 154033.568, 154373.452, 154713.336, 155053.22, 155393.104, 155732.988, 156072.872, 156412.756, 156752.64, 157092.524, 157432.408, 157772.292, 158112.176, 158452.06, 158791.944, 159131.828, 159471.712, 159811.596, 160151.48, 160491.364, 160831.248, 161171.132, 161511.016, 161850.9, 162190.784, 162530.668, 162870.552, 163210.436, 163550.32, 163890.204, 164230.088, 164569.972, 164909.856, 165249.74, 165589.624, 165929.508, 166269.392, 166609.276, 166949.16, 167289.044, 167628.928, 167968.812, 168308.696, 168648.58, 168988.464, 169328.348, 169668.232, 170008.116], \"xaxis\": \"x\", \"y\": [2.572527019918418e-06, 2.631005805812937e-06, 2.68976863043631e-06, 2.748786647363215e-06, 2.8080309928186195e-06, 2.867472852442725e-06, 2.9270835279276315e-06, 2.9868345032672447e-06, 3.046697510360475e-06, 3.1066445937077396e-06, 3.166648173942127e-06, 3.2266811099387627e-06, 3.286716759249751e-06, 3.3467290366169313e-06, 3.406692470320782e-06, 3.466582256131253e-06, 3.5263743086346604e-06, 3.5860453097207323e-06, 3.645572754024379e-06, 3.7049349911288065e-06, 3.7641112643496275e-06, 3.823081745932923e-06, 3.881827568515629e-06, 3.940330852711663e-06, 3.9985747307038155e-06, 4.056543365738192e-06, 4.11422196743588e-06, 4.17159680285426e-06, 4.228655203249315e-06, 4.285385566508666e-06, 4.341777355244732e-06, 4.397821090555953e-06, 4.453508341484289e-06, 4.508831710215102e-06, 4.56378481308629e-06, 4.618362257490828e-06, 4.672559614776589e-06, 4.7263733892648665e-06, 4.7798009835267675e-06, 4.832840660073919e-06, 4.885491499635643e-06, 4.937753356211278e-06, 4.9896268091001775e-06, 5.04111311212635e-06, 5.0922141402872045e-06, 5.142932334068033e-06, 5.193270641674173e-06, 5.2432324594427485e-06, 5.29282157070396e-06, 5.342042083369242e-06, 5.390898366529331e-06, 5.439394986349829e-06, 5.487536641555422e-06, 5.53532809879498e-06, 5.582774128181612e-06, 5.629879439299512e-06, 5.676648617968548e-06, 5.7230860640530265e-06, 5.769195930597317e-06, 5.8149820645638296e-06, 5.860447949442464e-06, 5.905596649991411e-06, 5.950430759359777e-06, 5.994952348831397e-06, 6.039162920417342e-06, 6.083063362511554e-06, 6.126653908809837e-06, 6.169934100677945e-06, 6.212902753138355e-06, 6.2555579246289196e-06, 6.297896890669668e-06, 6.3399161215556845e-06, 6.381611264176305e-06, 6.422977128041526e-06, 6.464007675577934e-06, 6.504696016736761e-06, 6.545034407937361e-06, 6.58501425534952e-06, 6.624626122499018e-06, 6.663859742160649e-06, 6.702704032484241e-06, 6.741147117280051e-06, 6.7791763503712725e-06, 6.816778343903152e-06, 6.853939000481316e-06, 6.890643548994119e-06, 6.9268765839581e-06, 6.9626221082105396e-06, 6.9978635787578355e-06, 7.032583955575575e-06, 7.066765753143314e-06, 7.100391094485448e-06, 7.133441767479519e-06, 7.165899283183912e-06, 7.197744935928862e-06, 7.228959864908304e-06, 7.259525117004091e-06, 7.289421710570792e-06, 7.318630699905549e-06, 7.347133240126908e-06, 7.374910652185979e-06, 7.401944487734295e-06, 7.428216593576151e-06, 7.453709175436183e-06, 7.4784048607786135e-06, 7.502286760421189e-06, 7.525338528693983e-06, 7.54754442190277e-06, 7.568889354865966e-06, 7.589358955305961e-06, 7.608939615886935e-06, 7.627618543704974e-06, 7.64538380704971e-06, 7.662224379271769e-06, 7.678130179605051e-06, 7.693092110809925e-06, 7.707102093518345e-06, 7.720153097180755e-06, 7.732239167530266e-06, 7.743355450497756e-06, 7.753498212529603e-06, 7.762664857276421e-06, 7.77085393863962e-06, 7.778065170179888e-06, 7.784299430908168e-06, 7.789558767497574e-06, 7.79384639297004e-06, 7.797166681927951e-06, 7.799525162415758e-06, 7.800928504511131e-06, 7.801384505758742e-06, 7.800902073572762e-06, 7.799491204745427e-06, 7.797162962210424e-06, 7.793929449219107e-06, 7.789803781096382e-06, 7.784800054750645e-06, 7.778933316118128e-06, 7.772219525727602e-06, 7.76467552257463e-06, 7.756318986497782e-06, 7.747168399250406e-06, 7.737243004461257e-06, 7.726562766677164e-06, 7.715148329678096e-06, 7.703020974251555e-06, 7.690202575608844e-06, 7.676715560620797e-06, 7.66258286504243e-06, 7.647827890890538e-06, 7.632474464127662e-06, 7.616546792798236e-06, 7.60006942575189e-06, 7.583067212077946e-06, 7.565565261365005e-06, 7.5475889048861955e-06, 7.5291636577997275e-06, 7.510315182441241e-06, 7.491069252771455e-06, 7.471451720031002e-06, 7.451488479639318e-06, 7.431205439363608e-06, 7.410628488770469e-06, 7.389783469959165e-06, 7.368696149565697e-06, 7.347392192012741e-06, 7.325897133970936e-06, 7.3042363599855454e-06, 7.2824350792125365e-06, 7.260518303199252e-06, 7.238510824635931e-06, 7.2164371969967705e-06, 7.1943217149825935e-06, 7.172188395671033e-06, 7.150060960275756e-06, 7.1279628164118875e-06, 7.105917040762365e-06, 7.0839463620378695e-06, 7.06207314412267e-06, 7.04031936929879e-06, 7.018706621442342e-06, 6.997256069088544e-06, 6.97598844826533e-06, 6.9549240450000584e-06, 6.93408267740929e-06, 6.913483677288108e-06, 6.893145871122813e-06, 6.873087560459105e-06, 6.85332650156659e-06, 6.833879884350607e-06, 6.814764310472568e-06, 6.79599577065081e-06, 6.777589621125889e-06, 6.759560559286028e-06, 6.741922598460664e-06, 6.724689041902922e-06, 6.7078724559944585e-06, 6.6914846427192845e-06, 6.67553661146574e-06, 6.660038550229452e-06, 6.644999796301861e-06, 6.630428806542273e-06, 6.6163331273431475e-06, 6.602719364410154e-06, 6.589593152489992e-06, 6.576959125189145e-06, 6.564820885037662e-06, 6.553180973960314e-06, 6.542040844326766e-06, 6.531400830759608e-06, 6.52126012288577e-06, 6.511616739222866e-06, 6.5024675023959905e-06, 6.49380801588478e-06, 6.485632642502064e-06, 6.4779344848076e-06, 6.4707053676594145e-06, 6.463935823104725e-06, 6.4576150778095214e-06, 6.451731043222335e-06, 6.4462703086626185e-06, 6.441218137517924e-06, 6.436558466726343e-06, 6.432273909712515e-06, 6.4283457629346345e-06, 6.4247540161895185e-06, 6.421477366810482e-06, 6.418493237878817e-06, 6.415777800556122e-06, 6.413306000628752e-06, 6.411051589339756e-06, 6.4089871585665144e-06, 6.4070841803843275e-06, 6.405313051037881e-06, 6.403643139323298e-06, 6.402042839363781e-06, 6.400479627742135e-06, 6.398920124932855e-06, 6.397330160956046e-06, 6.395674845154967e-06, 6.393918639978057e-06, 6.3920254386263285e-06, 6.389958646405971e-06, 6.387681265607025e-06, 6.385155983708639e-06, 6.382345264692881e-06, 6.379211443230834e-06, 6.375716821486894e-06, 6.37182376827063e-06, 6.367494820249902e-06, 6.362692784924032e-06, 6.357380845042467e-06, 6.351522664141803e-06, 6.345082492863207e-06, 6.338025275702307e-06, 6.3303167578356834e-06, 6.321923591660977e-06, 6.312813442682555e-06, 6.302955094371119e-06, 6.292318551623303e-06, 6.280875142447136e-06, 6.2685976175005394e-06, 6.25546024711257e-06, 6.24143891542239e-06, 6.2265112112763815e-06, 6.210656515532501e-06, 6.193856084429975e-06, 6.17609312869381e-06, 6.1573528880561844e-06, 6.137622700890796e-06, 6.116892068672298e-06, 6.095152714989147e-06, 6.0723986388573795e-06, 6.048626162101342e-06, 6.0238339705888565e-06, 5.998023149129178e-06, 5.9711972098654034e-06, 5.943362114015655e-06, 5.914526286842002e-06, 5.884700625750638e-06, 5.853898501451925e-06, 5.82213575213467e-06, 5.7894306706348805e-06, 5.755803984604959e-06, 5.721278829715627e-06, 5.68588071594857e-06, 5.649637487063374e-06, 5.612579273347971e-06, 5.574738437786229e-06, 5.536149515800897e-06, 5.496849148753552e-06, 5.456876011406087e-06, 5.416270733570007e-06, 5.375075816190749e-06, 5.3333355421342105e-06, 5.291095881960875e-06, 5.248404394990802e-06, 5.205310125978367e-06, 5.1618634977305e-06, 5.11811620001525e-06, 5.074121075119358e-06, 5.029932000423424e-06, 4.985603768372087e-06, 4.941191964223307e-06, 4.8967528419664025e-06, 4.852343198802162e-06, 4.808020248580183e-06, 4.763841494589365e-06, 4.719864602095875e-06, 4.676147271020589e-06, 4.632747109143131e-06, 4.589721506214108e-06, 4.547127509349559e-06, 4.505021700072849e-06, 4.463460073359001e-06, 4.422497919024833e-06, 4.382189705795714e-06, 4.3425889683652545e-06, 4.303748197749751e-06, 4.265718735222605e-06, 4.228550670097033e-06, 4.19229274160747e-06, 4.156992245121317e-06, 4.122694942893465e-06, 4.089444979555858e-06, 4.057284802514104e-06, 4.0262550874025364e-06, 3.9963946687275235e-06, 3.9677404758083995e-06, 3.940327474103146e-06, 3.914188611985553e-06, 3.889354773018635e-06, 3.865854733748635e-06, 3.8437151270229636e-06, 3.8229604108152885e-06, 3.80361284252098e-06, 3.7856924586670494e-06, 3.769217059961993e-06, 3.754202201592919e-06, 3.7406611886604247e-06, 3.7286050766251526e-06, 3.7180426766247427e-06, 3.70898056550533e-06, 3.7014231003984343e-06, 3.6953724376616726e-06, 3.6908285559905295e-06, 3.6877892834982047e-06, 3.6862503285517056e-06, 3.686205314144643e-06, 3.687645815580386e-06, 3.690561401234203e-06, 3.6949396761586598e-06, 3.700766328293753e-06, 3.7080251770415652e-06, 3.716698223964656e-06, 3.726765705368289e-06, 3.738206146528155e-06, 3.7509964173285537e-06, 3.7651117890798198e-06, 3.7805259922891007e-06, 3.7972112751645677e-06, 3.815138462640423e-06, 3.83427701571793e-06, 3.8545950909266296e-06, 3.876059599719653e-06, 3.898636267627167e-06, 3.922289693003297e-06, 3.94698340521336e-06, 3.972679922120383e-06, 3.9993408067424625e-06, 4.0269267229654216e-06, 4.055397490208563e-06, 4.084712136954441e-06, 4.114828953067467e-06, 4.145705540839353e-06, 4.177298864713322e-06, 4.209565299651933e-06, 4.242460678127159e-06, 4.275940335723664e-06, 4.309959155359335e-06, 4.344471610138979e-06, 4.379431804868751e-06, 4.414793516270269e-06, 4.450510231943431e-06, 4.486535188137172e-06, 4.522821406396074e-06, 4.559321729159451e-06, 4.595988854396516e-06, 4.632775369368179e-06, 4.669633783611575e-06, 4.706516561248098e-06, 4.743376152719508e-06, 4.780165026059654e-06, 4.81683569781089e-06, 4.853340763695297e-06, 4.889632929150577e-06, 4.925665039839295e-06, 4.961390112238062e-06, 4.996761364410149e-06, 5.031732247060993e-06, 5.0662564749711855e-06, 5.100288058895631e-06, 5.133781338011258e-06, 5.166691012987885e-06, 5.19897217974911e-06, 5.230580363981218e-06, 5.26147155643864e-06, 5.291602249084776e-06, 5.320929472096581e-06, 5.3494108317504305e-06, 5.377004549195871e-06, 5.403669500112425e-06, 5.429365255233114e-06, 5.4540521217067536e-06, 5.477691185259585e-06, 5.50024435310493e-06, 5.521674397538642e-06, 5.541945000146362e-06, 5.561020796538232e-06, 5.578867421515785e-06, 5.59545155456591e-06, 5.610740965567119e-06, 5.624704560584351e-06, 5.637312427620309e-06, 5.648535882183494e-06, 5.65834751252651e-06, 5.666721224401679e-06, 5.673632285176339e-06, 5.679057367145261e-06, 5.682974589874617e-06, 5.685363561409187e-06, 5.686205418173045e-06, 5.685482863393367e-06, 5.683180203877495e-06, 5.6792833849747315e-06, 5.673780023556719e-06, 5.666659438853751e-06, 5.657912680988523e-06, 5.64753255705424e-06, 5.635513654590002e-06, 5.621852362313587e-06, 5.6065468879795055e-06, 5.589597273238926e-06, 5.5710054053873445e-06, 5.550775025896206e-06, 5.528911735635076e-06, 5.505422996702588e-06, 5.480318130795819e-06, 5.453608314060395e-06, 5.425306568375871e-06, 5.39542774904404e-06, 5.363988528860969e-06, 5.331007378566767e-06, 5.296504543680575e-06, 5.260502017741648e-06, 5.2230235119907465e-06, 5.18409442153927e-06, 5.143741788086646e-06, 5.101994259259248e-06, 5.0588820446564595e-06, 5.01443686870174e-06, 4.968691920407997e-06, 4.921681800177757e-06, 4.873442463769115e-06, 4.824011163568486e-06, 4.773426387320354e-06, 4.721727794472898e-06, 4.668956150306305e-06, 4.615153258017562e-06, 4.560361888942084e-06, 4.504625711097863e-06, 4.44798921624283e-06, 4.390497645639762e-06, 4.332196914726353e-06, 4.273133536890291e-06, 4.21335454655048e-06, 4.152907421746278e-06, 4.0918400064364236e-06, 4.030200432708102e-06, 3.968037043095128e-06, 3.905398313201444e-06, 3.842332774823002e-06, 3.778888939757001e-06, 3.7151152244830654e-06, 3.651059875895514e-06, 3.5867708982600215e-06, 3.5222959815618237e-06, 3.4576824314054788e-06, 3.3929771006189383e-06, 3.3282263227070728e-06, 3.263475847291374e-06, 3.1987707776643135e-06, 3.1341555105780303e-06, 3.069673678378031e-06, 3.005368093583347e-06, 2.941280696005462e-06, 2.8774525024886786e-06, 2.8139235593453085e-06, 2.7507328975493915e-06, 2.6879184907434168e-06], \"yaxis\": \"y\"}],\n",
       "                        {\"barmode\": \"overlay\", \"hovermode\": \"closest\", \"legend\": {\"traceorder\": \"reversed\"}, \"template\": {\"data\": {\"bar\": [{\"error_x\": {\"color\": \"#2a3f5f\"}, \"error_y\": {\"color\": \"#2a3f5f\"}, \"marker\": {\"line\": {\"color\": \"#E5ECF6\", \"width\": 0.5}}, \"type\": \"bar\"}], \"barpolar\": [{\"marker\": {\"line\": {\"color\": \"#E5ECF6\", \"width\": 0.5}}, \"type\": \"barpolar\"}], \"carpet\": [{\"aaxis\": {\"endlinecolor\": \"#2a3f5f\", \"gridcolor\": \"white\", \"linecolor\": \"white\", \"minorgridcolor\": \"white\", \"startlinecolor\": \"#2a3f5f\"}, \"baxis\": {\"endlinecolor\": \"#2a3f5f\", \"gridcolor\": \"white\", \"linecolor\": \"white\", \"minorgridcolor\": \"white\", \"startlinecolor\": \"#2a3f5f\"}, \"type\": \"carpet\"}], \"choropleth\": [{\"colorbar\": {\"outlinewidth\": 0, \"ticks\": \"\"}, \"type\": \"choropleth\"}], \"contour\": [{\"colorbar\": {\"outlinewidth\": 0, \"ticks\": \"\"}, \"colorscale\": [[0.0, \"#0d0887\"], [0.1111111111111111, \"#46039f\"], [0.2222222222222222, \"#7201a8\"], [0.3333333333333333, \"#9c179e\"], [0.4444444444444444, \"#bd3786\"], [0.5555555555555556, \"#d8576b\"], [0.6666666666666666, \"#ed7953\"], [0.7777777777777778, \"#fb9f3a\"], [0.8888888888888888, \"#fdca26\"], [1.0, \"#f0f921\"]], \"type\": \"contour\"}], \"contourcarpet\": [{\"colorbar\": {\"outlinewidth\": 0, \"ticks\": \"\"}, \"type\": \"contourcarpet\"}], \"heatmap\": [{\"colorbar\": {\"outlinewidth\": 0, \"ticks\": \"\"}, \"colorscale\": [[0.0, \"#0d0887\"], [0.1111111111111111, \"#46039f\"], [0.2222222222222222, \"#7201a8\"], [0.3333333333333333, \"#9c179e\"], [0.4444444444444444, \"#bd3786\"], [0.5555555555555556, \"#d8576b\"], [0.6666666666666666, \"#ed7953\"], [0.7777777777777778, \"#fb9f3a\"], [0.8888888888888888, \"#fdca26\"], [1.0, \"#f0f921\"]], \"type\": \"heatmap\"}], \"heatmapgl\": [{\"colorbar\": {\"outlinewidth\": 0, \"ticks\": \"\"}, \"colorscale\": [[0.0, \"#0d0887\"], [0.1111111111111111, \"#46039f\"], [0.2222222222222222, \"#7201a8\"], [0.3333333333333333, \"#9c179e\"], [0.4444444444444444, \"#bd3786\"], [0.5555555555555556, \"#d8576b\"], [0.6666666666666666, \"#ed7953\"], [0.7777777777777778, \"#fb9f3a\"], [0.8888888888888888, \"#fdca26\"], [1.0, \"#f0f921\"]], \"type\": \"heatmapgl\"}], \"histogram\": [{\"marker\": {\"colorbar\": {\"outlinewidth\": 0, \"ticks\": \"\"}}, \"type\": \"histogram\"}], \"histogram2d\": [{\"colorbar\": {\"outlinewidth\": 0, \"ticks\": \"\"}, \"colorscale\": [[0.0, \"#0d0887\"], [0.1111111111111111, \"#46039f\"], [0.2222222222222222, \"#7201a8\"], [0.3333333333333333, \"#9c179e\"], [0.4444444444444444, \"#bd3786\"], [0.5555555555555556, \"#d8576b\"], [0.6666666666666666, \"#ed7953\"], [0.7777777777777778, \"#fb9f3a\"], [0.8888888888888888, \"#fdca26\"], [1.0, \"#f0f921\"]], \"type\": \"histogram2d\"}], \"histogram2dcontour\": [{\"colorbar\": {\"outlinewidth\": 0, \"ticks\": \"\"}, \"colorscale\": [[0.0, \"#0d0887\"], [0.1111111111111111, \"#46039f\"], [0.2222222222222222, \"#7201a8\"], [0.3333333333333333, \"#9c179e\"], [0.4444444444444444, \"#bd3786\"], [0.5555555555555556, \"#d8576b\"], [0.6666666666666666, \"#ed7953\"], [0.7777777777777778, \"#fb9f3a\"], [0.8888888888888888, \"#fdca26\"], [1.0, \"#f0f921\"]], \"type\": \"histogram2dcontour\"}], \"mesh3d\": [{\"colorbar\": {\"outlinewidth\": 0, \"ticks\": \"\"}, \"type\": \"mesh3d\"}], \"parcoords\": [{\"line\": {\"colorbar\": {\"outlinewidth\": 0, \"ticks\": \"\"}}, \"type\": \"parcoords\"}], \"pie\": [{\"automargin\": true, \"type\": \"pie\"}], \"scatter\": [{\"marker\": {\"colorbar\": {\"outlinewidth\": 0, \"ticks\": \"\"}}, \"type\": \"scatter\"}], \"scatter3d\": [{\"line\": {\"colorbar\": {\"outlinewidth\": 0, \"ticks\": \"\"}}, \"marker\": {\"colorbar\": {\"outlinewidth\": 0, \"ticks\": \"\"}}, \"type\": \"scatter3d\"}], \"scattercarpet\": [{\"marker\": {\"colorbar\": {\"outlinewidth\": 0, \"ticks\": \"\"}}, \"type\": \"scattercarpet\"}], \"scattergeo\": [{\"marker\": {\"colorbar\": {\"outlinewidth\": 0, \"ticks\": \"\"}}, \"type\": \"scattergeo\"}], \"scattergl\": [{\"marker\": {\"colorbar\": {\"outlinewidth\": 0, \"ticks\": \"\"}}, \"type\": \"scattergl\"}], \"scattermapbox\": [{\"marker\": {\"colorbar\": {\"outlinewidth\": 0, \"ticks\": \"\"}}, \"type\": \"scattermapbox\"}], \"scatterpolar\": [{\"marker\": {\"colorbar\": {\"outlinewidth\": 0, \"ticks\": \"\"}}, \"type\": \"scatterpolar\"}], \"scatterpolargl\": [{\"marker\": {\"colorbar\": {\"outlinewidth\": 0, \"ticks\": \"\"}}, \"type\": \"scatterpolargl\"}], \"scatterternary\": [{\"marker\": {\"colorbar\": {\"outlinewidth\": 0, \"ticks\": \"\"}}, \"type\": \"scatterternary\"}], \"surface\": [{\"colorbar\": {\"outlinewidth\": 0, \"ticks\": \"\"}, \"colorscale\": [[0.0, \"#0d0887\"], [0.1111111111111111, \"#46039f\"], [0.2222222222222222, \"#7201a8\"], [0.3333333333333333, \"#9c179e\"], [0.4444444444444444, \"#bd3786\"], [0.5555555555555556, \"#d8576b\"], [0.6666666666666666, \"#ed7953\"], [0.7777777777777778, \"#fb9f3a\"], [0.8888888888888888, \"#fdca26\"], [1.0, \"#f0f921\"]], \"type\": \"surface\"}], \"table\": [{\"cells\": {\"fill\": {\"color\": \"#EBF0F8\"}, \"line\": {\"color\": \"white\"}}, \"header\": {\"fill\": {\"color\": \"#C8D4E3\"}, \"line\": {\"color\": \"white\"}}, \"type\": \"table\"}]}, \"layout\": {\"annotationdefaults\": {\"arrowcolor\": \"#2a3f5f\", \"arrowhead\": 0, \"arrowwidth\": 1}, \"coloraxis\": {\"colorbar\": {\"outlinewidth\": 0, \"ticks\": \"\"}}, \"colorscale\": {\"diverging\": [[0, \"#8e0152\"], [0.1, \"#c51b7d\"], [0.2, \"#de77ae\"], [0.3, \"#f1b6da\"], [0.4, \"#fde0ef\"], [0.5, \"#f7f7f7\"], [0.6, \"#e6f5d0\"], [0.7, \"#b8e186\"], [0.8, \"#7fbc41\"], [0.9, \"#4d9221\"], [1, \"#276419\"]], \"sequential\": [[0.0, \"#0d0887\"], [0.1111111111111111, \"#46039f\"], [0.2222222222222222, \"#7201a8\"], [0.3333333333333333, \"#9c179e\"], [0.4444444444444444, \"#bd3786\"], [0.5555555555555556, \"#d8576b\"], [0.6666666666666666, \"#ed7953\"], [0.7777777777777778, \"#fb9f3a\"], [0.8888888888888888, \"#fdca26\"], [1.0, \"#f0f921\"]], \"sequentialminus\": [[0.0, \"#0d0887\"], [0.1111111111111111, \"#46039f\"], [0.2222222222222222, \"#7201a8\"], [0.3333333333333333, \"#9c179e\"], [0.4444444444444444, \"#bd3786\"], [0.5555555555555556, \"#d8576b\"], [0.6666666666666666, \"#ed7953\"], [0.7777777777777778, \"#fb9f3a\"], [0.8888888888888888, \"#fdca26\"], [1.0, \"#f0f921\"]]}, \"colorway\": [\"#636efa\", \"#EF553B\", \"#00cc96\", \"#ab63fa\", \"#FFA15A\", \"#19d3f3\", \"#FF6692\", \"#B6E880\", \"#FF97FF\", \"#FECB52\"], \"font\": {\"color\": \"#2a3f5f\"}, \"geo\": {\"bgcolor\": \"white\", \"lakecolor\": \"white\", \"landcolor\": \"#E5ECF6\", \"showlakes\": true, \"showland\": true, \"subunitcolor\": \"white\"}, \"hoverlabel\": {\"align\": \"left\"}, \"hovermode\": \"closest\", \"mapbox\": {\"style\": \"light\"}, \"paper_bgcolor\": \"white\", \"plot_bgcolor\": \"#E5ECF6\", \"polar\": {\"angularaxis\": {\"gridcolor\": \"white\", \"linecolor\": \"white\", \"ticks\": \"\"}, \"bgcolor\": \"#E5ECF6\", \"radialaxis\": {\"gridcolor\": \"white\", \"linecolor\": \"white\", \"ticks\": \"\"}}, \"scene\": {\"xaxis\": {\"backgroundcolor\": \"#E5ECF6\", \"gridcolor\": \"white\", \"gridwidth\": 2, \"linecolor\": \"white\", \"showbackground\": true, \"ticks\": \"\", \"zerolinecolor\": \"white\"}, \"yaxis\": {\"backgroundcolor\": \"#E5ECF6\", \"gridcolor\": \"white\", \"gridwidth\": 2, \"linecolor\": \"white\", \"showbackground\": true, \"ticks\": \"\", \"zerolinecolor\": \"white\"}, \"zaxis\": {\"backgroundcolor\": \"#E5ECF6\", \"gridcolor\": \"white\", \"gridwidth\": 2, \"linecolor\": \"white\", \"showbackground\": true, \"ticks\": \"\", \"zerolinecolor\": \"white\"}}, \"shapedefaults\": {\"line\": {\"color\": \"#2a3f5f\"}}, \"ternary\": {\"aaxis\": {\"gridcolor\": \"white\", \"linecolor\": \"white\", \"ticks\": \"\"}, \"baxis\": {\"gridcolor\": \"white\", \"linecolor\": \"white\", \"ticks\": \"\"}, \"bgcolor\": \"#E5ECF6\", \"caxis\": {\"gridcolor\": \"white\", \"linecolor\": \"white\", \"ticks\": \"\"}}, \"title\": {\"x\": 0.05}, \"xaxis\": {\"automargin\": true, \"gridcolor\": \"white\", \"linecolor\": \"white\", \"ticks\": \"\", \"title\": {\"standoff\": 15}, \"zerolinecolor\": \"white\", \"zerolinewidth\": 2}, \"yaxis\": {\"automargin\": true, \"gridcolor\": \"white\", \"linecolor\": \"white\", \"ticks\": \"\", \"title\": {\"standoff\": 15}, \"zerolinecolor\": \"white\", \"zerolinewidth\": 2}}}, \"title\": {\"text\": \"Transactions Time Density\"}, \"xaxis\": {\"anchor\": \"y2\", \"domain\": [0.0, 1.0], \"title\": {\"text\": \"Time [s]\"}, \"zeroline\": false}, \"yaxis\": {\"anchor\": \"free\", \"domain\": [0.0, 1], \"position\": 0.0}},\n",
       "                        {\"responsive\": true}\n",
       "                    ).then(function(){\n",
       "                            \n",
       "var gd = document.getElementById('f7bfc915-2bfe-4211-8cd2-d96a9cd4732c');\n",
       "var x = new MutationObserver(function (mutations, observer) {{\n",
       "        var display = window.getComputedStyle(gd).display;\n",
       "        if (!display || display === 'none') {{\n",
       "            console.log([gd, 'removed!']);\n",
       "            Plotly.purge(gd);\n",
       "            observer.disconnect();\n",
       "        }}\n",
       "}});\n",
       "\n",
       "// Listen for the removal of the full notebook cells\n",
       "var notebookContainer = gd.closest('#notebook-container');\n",
       "if (notebookContainer) {{\n",
       "    x.observe(notebookContainer, {childList: true});\n",
       "}}\n",
       "\n",
       "// Listen for the clearing of the current output cell\n",
       "var outputEl = gd.closest('.output');\n",
       "if (outputEl) {{\n",
       "    x.observe(outputEl, {childList: true});\n",
       "}}\n",
       "\n",
       "                        })\n",
       "                };\n",
       "                });\n",
       "            </script>\n",
       "        </div>"
      ]
     },
     "metadata": {},
     "output_type": "display_data"
    }
   ],
   "source": [
    "# Transactions Time Density Plot\n",
    "class_0 = df.loc[df['Class'] == 0][\"Time\"]\n",
    "class_1 = df.loc[df['Class'] == 1][\"Time\"]\n",
    "hist_data = [class_0, class_1]\n",
    "group_labels = ['Genuine', 'Fraudulent']\n",
    "fig = ff.create_distplot(hist_data, group_labels, show_hist=False, show_rug=False)\n",
    "fig['layout'].update(title='Transactions Time Density', xaxis=dict(title='Time [s]'))\n",
    "iplot(fig, filename='dist_only')\n",
    "# Feature 'Time' contains the seconds elapsed between each transaction and the first transaction in the dataset\n",
    "# This dataset presents transactions that occurred in two days (60*60*48 = 172,800 seconds)"
   ]
  },
  {
   "cell_type": "code",
   "execution_count": 66,
   "metadata": {},
   "outputs": [
    {
     "data": {
      "image/png": "[encoded data removed]",
      "text/plain": [
       "<Figure size 1008x864 with 2 Axes>"
      ]
     },
     "metadata": {},
     "output_type": "display_data"
    }
   ],
   "source": [
    "plt.figure(figsize = (14,12))\n",
    "plt.title('Pearson correlation plot of features')\n",
    "corr = df.corr()\n",
    "sns.heatmap(corr,xticklabels=corr.columns,yticklabels=corr.columns,linewidths=.1,cmap=\"Blues\")\n",
    "plt.show()\n",
    "# No notable correlation between features V1-V28. \n",
    "# Certain correlations between Time and some features (inverse correlation with V3) \n",
    "# Certain correlations between Amount and some features (positive with V7, V20, negative with V1 and V5)."
   ]
  },
  {
   "cell_type": "code",
   "execution_count": 67,
   "metadata": {},
   "outputs": [
    {
     "data": {
      "text/plain": [
       "<Figure size 432x288 with 0 Axes>"
      ]
     },
     "metadata": {},
     "output_type": "display_data"
    },
    {
     "data": {
      "image/png": "[encoded data removed]",
      "text/plain": [
       "<Figure size 1152x2016 with 28 Axes>"
      ]
     },
     "metadata": {},
     "output_type": "display_data"
    }
   ],
   "source": [
    "# Feature distributions by Class\n",
    "var = np.delete(df.columns.values, [0, 29, 30])\n",
    "t0 = df.loc[df['Class'] == 0]\n",
    "t1 = df.loc[df['Class'] == 1]\n",
    "plt.figure();\n",
    "fig, ax = plt.subplots(8,4,figsize=(16,28));\n",
    "i = 0\n",
    "for feature in var:\n",
    "    i += 1\n",
    "    plt.subplot(7,4,i);\n",
    "    sns.kdeplot(t0[feature], bw=0.5,label=\"Class = 0\")\n",
    "    sns.kdeplot(t1[feature], bw=0.5,label=\"Class = 1\")\n",
    "    plt.xlabel(feature, fontsize=12)\n",
    "    locs, labels = plt.xticks()\n",
    "    plt.tick_params(axis='both', which='major', labelsize=12)    \n",
    "plt.show();\n",
    "\n",
    "# For some of the features we can observe a good selectivity in terms of distribution for values of Class\n",
    "# In general, the features distribution for legitimate transactions is centered around 0, \n",
    "# sometime with a long queue at one of the extremities. \n",
    "# While, the fraudulent transactions (values of Class = 1) have a skewed (asymmetric) distribution."
   ]
  },
  {
   "cell_type": "code",
   "execution_count": 68,
   "metadata": {},
   "outputs": [],
   "source": [
    "target = 'Class'\n",
    "features = ['Time', 'V1', 'V2', 'V3', 'V4', 'V5', 'V6', 'V7', 'V8', 'V9', 'V10',\\\n",
    "       'V11', 'V12', 'V13', 'V14', 'V15', 'V16', 'V17', 'V18', 'V19',\\\n",
    "       'V20', 'V21', 'V22', 'V23', 'V24', 'V25', 'V26', 'V27', 'V28',\\\n",
    "       'Amount']"
   ]
  },
  {
   "cell_type": "code",
   "execution_count": 69,
   "metadata": {},
   "outputs": [],
   "source": [
    "\n",
    "# OPT_ROUNDS = 1000  #To be adjusted based on best validation rounds\n",
    "\n",
    "# IS_LOCAL = False"
   ]
  },
  {
   "cell_type": "markdown",
   "metadata": {},
   "source": [
    "### Splite dataset into train/validation/test"
   ]
  },
  {
   "cell_type": "code",
   "execution_count": 70,
   "metadata": {},
   "outputs": [],
   "source": [
    "# Splite dataset\n",
    "VALID_SIZE = 0.20 \n",
    "TEST_SIZE = 0.20 \n",
    "RANDOM_STATE = 2020\n",
    "train_df, test_df = train_test_split(df, test_size=TEST_SIZE, random_state=RANDOM_STATE, shuffle=True )\n",
    "train_df, valid_df = train_test_split(train_df, test_size=VALID_SIZE, random_state=RANDOM_STATE, shuffle=True )"
   ]
  },
  {
   "cell_type": "markdown",
   "metadata": {},
   "source": [
    "### Random Forest Model"
   ]
  },
  {
   "cell_type": "code",
   "execution_count": 71,
   "metadata": {},
   "outputs": [],
   "source": [
    "RFC_METRIC = 'gini'  #metric used for RandomForrestClassifier\n",
    "NUM_ESTIMATORS = 100 #number of estimators used for RandomForrestClassifier\n",
    "NO_JOBS = 4 #number of parallel jobs used for RandomForrestClassifier"
   ]
  },
  {
   "cell_type": "code",
   "execution_count": 72,
   "metadata": {},
   "outputs": [],
   "source": [
    "clf = RandomForestClassifier(n_jobs=NO_JOBS, \n",
    "                             random_state=RANDOM_STATE,\n",
    "                             criterion=RFC_METRIC,\n",
    "                             n_estimators=NUM_ESTIMATORS,\n",
    "                             verbose=False)"
   ]
  },
  {
   "cell_type": "code",
   "execution_count": 73,
   "metadata": {},
   "outputs": [
    {
     "name": "stdout",
     "output_type": "stream",
     "text": [
      "training time: 40.0 seconds.\n"
     ]
    }
   ],
   "source": [
    "time_start = time.time()\n",
    "clf.fit(train_df[features], train_df[target].values)\n",
    "print(\"training time: {} seconds.\".format(round(time.time() - time_start,2)))"
   ]
  },
  {
   "cell_type": "code",
   "execution_count": 74,
   "metadata": {},
   "outputs": [
    {
     "data": {
      "image/png": "[encoded data removed]",
      "text/plain": [
       "<Figure size 864x432 with 1 Axes>"
      ]
     },
     "metadata": {},
     "output_type": "display_data"
    }
   ],
   "source": [
    "# Feature importance\n",
    "tmp = pd.DataFrame({'Feature': features, 'Weight': clf.feature_importances_})\n",
    "tmp = tmp.sort_values(by='Weight',ascending=False)\n",
    "plt.figure(figsize = (12,6))\n",
    "plt.title('Features importance',fontsize=14)\n",
    "s = sns.barplot(x='Feature',y='Weight',data=tmp, palette='autumn')\n",
    "s.set_xticklabels(s.get_xticklabels(),rotation=45)\n",
    "plt.show()\n",
    "# The most important features are V17, V12, V14, V10, V11, V16."
   ]
  },
  {
   "cell_type": "code",
   "execution_count": 75,
   "metadata": {},
   "outputs": [],
   "source": [
    "preds = clf.predict(valid_df[features])"
   ]
  },
  {
   "cell_type": "code",
   "execution_count": 76,
   "metadata": {},
   "outputs": [
    {
     "data": {
      "image/png": "[encoded data removed]",
      "text/plain": [
       "<Figure size 432x288 with 2 Axes>"
      ]
     },
     "metadata": {},
     "output_type": "display_data"
    }
   ],
   "source": [
    "# Confusion Matrix\n",
    "cm = confusion_matrix(valid_df[target].values, preds)\n",
    "# fig, ax1= plt.subplots(figsize=(8,8))\n",
    "g = sns.heatmap(cm,\n",
    "            xticklabels=['Not Fraud', 'Fraud'],\n",
    "            yticklabels=['Not Fraud', 'Fraud'],\n",
    "            annot=True,annot_kws={'size':14},fmt='d',\n",
    "            linewidths=2,linecolor=\"white\", cmap=\"Oranges\")\n",
    "plt.title('Confusion Matrix', fontsize =18)\n",
    "g.set_xticklabels(g.get_xmajorticklabels(), fontsize = 16);\n",
    "g.set_yticklabels(g.get_ymajorticklabels(), fontsize = 16);"
   ]
  },
  {
   "cell_type": "code",
   "execution_count": 77,
   "metadata": {},
   "outputs": [
    {
     "data": {
      "text/plain": [
       "0.868"
      ]
     },
     "execution_count": 77,
     "metadata": {},
     "output_type": "execute_result"
    }
   ],
   "source": [
    "# AUC\n",
    "round(roc_auc_score(valid_df[target].values, preds),3)"
   ]
  },
  {
   "cell_type": "code",
   "execution_count": 78,
   "metadata": {},
   "outputs": [
    {
     "name": "stdout",
     "output_type": "stream",
     "text": [
      "test dataset AUC:  0.909\n"
     ]
    },
    {
     "data": {
      "image/png": "[encoded data removed]",
      "text/plain": [
       "<Figure size 432x288 with 2 Axes>"
      ]
     },
     "metadata": {},
     "output_type": "display_data"
    }
   ],
   "source": [
    "# Confusion Matrix\n",
    "preds_tst = clf.predict(test_df[features])\n",
    "cm = confusion_matrix(test_df[target].values, preds_tst)\n",
    "# fig, ax1= plt.subplots(figsize=(8,8))\n",
    "g = sns.heatmap(cm,\n",
    "            xticklabels=['Not Fraud', 'Fraud'],\n",
    "            yticklabels=['Not Fraud', 'Fraud'],\n",
    "            annot=True,annot_kws={'size':14},fmt='d',\n",
    "            linewidths=2,linecolor=\"white\", cmap=\"Blues\")\n",
    "plt.title('Confusion Matrix', fontsize =18)\n",
    "g.set_xticklabels(g.get_xmajorticklabels(), fontsize = 16);\n",
    "g.set_yticklabels(g.get_ymajorticklabels(), fontsize = 16);\n",
    "# AUC\n",
    "print(\"test dataset AUC: \",round(roc_auc_score(test_df[target].values, preds_tst),3))"
   ]
  },
  {
   "cell_type": "markdown",
   "metadata": {},
   "source": [
    "### AdaBoost Model"
   ]
  },
  {
   "cell_type": "code",
   "execution_count": 79,
   "metadata": {},
   "outputs": [],
   "source": [
    "clf = AdaBoostClassifier(random_state=RANDOM_STATE,\n",
    "                         algorithm='SAMME.R',\n",
    "                         learning_rate=0.8,\n",
    "                         n_estimators=NUM_ESTIMATORS)"
   ]
  },
  {
   "cell_type": "code",
   "execution_count": 80,
   "metadata": {},
   "outputs": [
    {
     "name": "stdout",
     "output_type": "stream",
     "text": [
      "training time: 78.46 seconds.\n"
     ]
    }
   ],
   "source": [
    "time_start = time.time()\n",
    "clf.fit(train_df[features], train_df[target].values)\n",
    "print(\"training time: {} seconds.\".format(round(time.time() - time_start,2)))"
   ]
  },
  {
   "cell_type": "code",
   "execution_count": 81,
   "metadata": {},
   "outputs": [
    {
     "data": {
      "image/png": "[encoded data removed]",
      "text/plain": [
       "<Figure size 864x432 with 1 Axes>"
      ]
     },
     "metadata": {},
     "output_type": "display_data"
    }
   ],
   "source": [
    "# Feature importance\n",
    "tmp = pd.DataFrame({'Feature': features, 'Weight': clf.feature_importances_})\n",
    "tmp = tmp.sort_values(by='Weight',ascending=False)\n",
    "plt.figure(figsize = (12,6))\n",
    "plt.title('Features importance',fontsize=14)\n",
    "s = sns.barplot(x='Feature',y='Weight',data=tmp, palette='autumn')\n",
    "s.set_xticklabels(s.get_xticklabels(),rotation=45)\n",
    "plt.show()\n",
    "# The most important features are V14, V4, V18, V10, Amount, V19, V8."
   ]
  },
  {
   "cell_type": "code",
   "execution_count": 82,
   "metadata": {},
   "outputs": [],
   "source": [
    "preds = clf.predict(valid_df[features])"
   ]
  },
  {
   "cell_type": "code",
   "execution_count": 83,
   "metadata": {},
   "outputs": [
    {
     "data": {
      "image/png": "[encoded data removed]",
      "text/plain": [
       "<Figure size 432x288 with 2 Axes>"
      ]
     },
     "metadata": {},
     "output_type": "display_data"
    }
   ],
   "source": [
    "# Confusion Matrix\n",
    "cm = confusion_matrix(valid_df[target].values, preds)\n",
    "# fig, ax1= plt.subplots(figsize=(8,8))\n",
    "g = sns.heatmap(cm,\n",
    "            xticklabels=['Not Fraud', 'Fraud'],\n",
    "            yticklabels=['Not Fraud', 'Fraud'],\n",
    "            annot=True,annot_kws={'size':14},fmt='d',\n",
    "            linewidths=2,linecolor=\"white\", cmap=\"Oranges\")\n",
    "plt.title('Confusion Matrix', fontsize =18)\n",
    "g.set_xticklabels(g.get_xmajorticklabels(), fontsize = 16);\n",
    "g.set_yticklabels(g.get_ymajorticklabels(), fontsize = 16);"
   ]
  },
  {
   "cell_type": "code",
   "execution_count": 84,
   "metadata": {},
   "outputs": [
    {
     "data": {
      "text/plain": [
       "0.852"
      ]
     },
     "execution_count": 84,
     "metadata": {},
     "output_type": "execute_result"
    }
   ],
   "source": [
    "# AUC\n",
    "round(roc_auc_score(valid_df[target].values, preds),3)"
   ]
  },
  {
   "cell_type": "code",
   "execution_count": 85,
   "metadata": {},
   "outputs": [
    {
     "name": "stdout",
     "output_type": "stream",
     "text": [
      "test dataset AUC:  0.86\n"
     ]
    },
    {
     "data": {
      "image/png": "[encoded data removed]",
      "text/plain": [
       "<Figure size 432x288 with 2 Axes>"
      ]
     },
     "metadata": {},
     "output_type": "display_data"
    }
   ],
   "source": [
    "# Confusion Matrix\n",
    "preds_tst = clf.predict(test_df[features])\n",
    "cm = confusion_matrix(test_df[target].values, preds_tst)\n",
    "# fig, ax1= plt.subplots(figsize=(8,8))\n",
    "g = sns.heatmap(cm,\n",
    "            xticklabels=['Not Fraud', 'Fraud'],\n",
    "            yticklabels=['Not Fraud', 'Fraud'],\n",
    "            annot=True,annot_kws={'size':14},fmt='d',\n",
    "            linewidths=2,linecolor=\"white\", cmap=\"Blues\")\n",
    "plt.title('Confusion Matrix', fontsize =18)\n",
    "g.set_xticklabels(g.get_xmajorticklabels(), fontsize = 16);\n",
    "g.set_yticklabels(g.get_ymajorticklabels(), fontsize = 16);\n",
    "# AUC\n",
    "print(\"test dataset AUC: \",round(roc_auc_score(test_df[target].values, preds_tst),3))"
   ]
  },
  {
   "cell_type": "markdown",
   "metadata": {},
   "source": [
    "### CatBoost Model"
   ]
  },
  {
   "cell_type": "code",
   "execution_count": null,
   "metadata": {},
   "outputs": [],
   "source": [
    "#CROSS-VALIDATION\n",
    "NUMBER_KFOLDS = 5 #number of KFolds for cross-validation\n",
    "MAX_ROUNDS = 1000 #lgb iterations\n",
    "EARLY_STOP = 50 #lgb early stop \n",
    "VERBOSE_EVAL = 50 #Print out metric result"
   ]
  },
  {
   "cell_type": "code",
   "execution_count": 86,
   "metadata": {},
   "outputs": [],
   "source": [
    "clf = CatBoostClassifier(iterations=500,\n",
    "                             learning_rate=0.02,\n",
    "                             depth=12,\n",
    "                             eval_metric='AUC',\n",
    "                             random_seed = RANDOM_STATE,\n",
    "                             bagging_temperature = 0.2,\n",
    "                             od_type='Iter',\n",
    "                             metric_period = VERBOSE_EVAL,\n",
    "                             od_wait=100)"
   ]
  },
  {
   "cell_type": "code",
   "execution_count": 87,
   "metadata": {},
   "outputs": [
    {
     "name": "stdout",
     "output_type": "stream",
     "text": [
      "0:\ttotal: 542ms\tremaining: 4m 30s\n",
      "50:\ttotal: 23.8s\tremaining: 3m 29s\n",
      "100:\ttotal: 46.8s\tremaining: 3m 4s\n",
      "150:\ttotal: 1m 8s\tremaining: 2m 37s\n",
      "200:\ttotal: 1m 29s\tremaining: 2m 13s\n",
      "250:\ttotal: 1m 51s\tremaining: 1m 50s\n",
      "300:\ttotal: 2m 12s\tremaining: 1m 27s\n",
      "350:\ttotal: 2m 34s\tremaining: 1m 5s\n",
      "400:\ttotal: 2m 55s\tremaining: 43.4s\n",
      "450:\ttotal: 3m 16s\tremaining: 21.4s\n",
      "499:\ttotal: 3m 38s\tremaining: 0us\n",
      "training time: 219.06 seconds.\n"
     ]
    }
   ],
   "source": [
    "time_start = time.time()\n",
    "clf.fit(train_df[features], train_df[target].values)\n",
    "print(\"training time: {} seconds.\".format(round(time.time() - time_start,2)))"
   ]
  },
  {
   "cell_type": "code",
   "execution_count": 89,
   "metadata": {},
   "outputs": [
    {
     "data": {
      "image/png": "[encoded data removed]",
      "text/plain": [
       "<Figure size 864x432 with 1 Axes>"
      ]
     },
     "metadata": {},
     "output_type": "display_data"
    }
   ],
   "source": [
    "# Feature importance\n",
    "tmp = pd.DataFrame({'Feature': features, 'Weight': clf.feature_importances_/clf.feature_importances_.sum()})\n",
    "tmp = tmp.sort_values(by='Weight',ascending=False)\n",
    "plt.figure(figsize = (12,6))\n",
    "plt.title('Features importance',fontsize=14)\n",
    "s = sns.barplot(x='Feature',y='Weight',data=tmp, palette='autumn')\n",
    "s.set_xticklabels(s.get_xticklabels(),rotation=45)\n",
    "plt.show()\n",
    "# The most important features are V1, V26, Amount, V17, V4, Time."
   ]
  },
  {
   "cell_type": "code",
   "execution_count": 90,
   "metadata": {},
   "outputs": [],
   "source": [
    "preds = clf.predict(valid_df[features])"
   ]
  },
  {
   "cell_type": "code",
   "execution_count": 91,
   "metadata": {},
   "outputs": [
    {
     "data": {
      "image/png": "[encoded data removed]",
      "text/plain": [
       "<Figure size 432x288 with 2 Axes>"
      ]
     },
     "metadata": {},
     "output_type": "display_data"
    }
   ],
   "source": [
    "# Confusion Matrix\n",
    "cm = confusion_matrix(valid_df[target].values, preds)\n",
    "# fig, ax1= plt.subplots(figsize=(8,8))\n",
    "g = sns.heatmap(cm,\n",
    "            xticklabels=['Not Fraud', 'Fraud'],\n",
    "            yticklabels=['Not Fraud', 'Fraud'],\n",
    "            annot=True,annot_kws={'size':14},fmt='d',\n",
    "            linewidths=2,linecolor=\"white\", cmap=\"Oranges\")\n",
    "plt.title('Confusion Matrix', fontsize =18)\n",
    "g.set_xticklabels(g.get_xmajorticklabels(), fontsize = 16);\n",
    "g.set_yticklabels(g.get_ymajorticklabels(), fontsize = 16);"
   ]
  },
  {
   "cell_type": "code",
   "execution_count": 92,
   "metadata": {},
   "outputs": [
    {
     "data": {
      "text/plain": [
       "0.874"
      ]
     },
     "execution_count": 92,
     "metadata": {},
     "output_type": "execute_result"
    }
   ],
   "source": [
    "# AUC\n",
    "round(roc_auc_score(valid_df[target].values, preds),3)"
   ]
  },
  {
   "cell_type": "code",
   "execution_count": 93,
   "metadata": {},
   "outputs": [
    {
     "name": "stdout",
     "output_type": "stream",
     "text": [
      "test dataset AUC:  0.903\n"
     ]
    },
    {
     "data": {
      "image/png": "[encoded data removed]",
      "text/plain": [
       "<Figure size 432x288 with 2 Axes>"
      ]
     },
     "metadata": {},
     "output_type": "display_data"
    }
   ],
   "source": [
    "# Confusion Matrix\n",
    "preds_tst = clf.predict(test_df[features])\n",
    "cm = confusion_matrix(test_df[target].values, preds_tst)\n",
    "# fig, ax1= plt.subplots(figsize=(8,8))\n",
    "g = sns.heatmap(cm,\n",
    "            xticklabels=['Not Fraud', 'Fraud'],\n",
    "            yticklabels=['Not Fraud', 'Fraud'],\n",
    "            annot=True,annot_kws={'size':14},fmt='d',\n",
    "            linewidths=2,linecolor=\"white\", cmap=\"Blues\")\n",
    "plt.title('Confusion Matrix', fontsize =18)\n",
    "g.set_xticklabels(g.get_xmajorticklabels(), fontsize = 16);\n",
    "g.set_yticklabels(g.get_ymajorticklabels(), fontsize = 16);\n",
    "# AUC\n",
    "print(\"test dataset AUC: \",round(roc_auc_score(test_df[target].values, preds_tst),3))"
   ]
  },
  {
   "cell_type": "markdown",
   "metadata": {},
   "source": [
    "### XGBoost Model"
   ]
  },
  {
   "cell_type": "code",
   "execution_count": 94,
   "metadata": {},
   "outputs": [],
   "source": [
    "# Prepare the train and valid datasets\n",
    "dtrain = xgb.DMatrix(train_df[features], train_df[target].values)\n",
    "dvalid = xgb.DMatrix(valid_df[features], valid_df[target].values)\n",
    "dtest = xgb.DMatrix(test_df[features], test_df[target].values)\n",
    "\n",
    "#What to monitor (in this case, **train** and **valid**)\n",
    "watchlist = [(dtrain, 'train'), (dvalid, 'valid')]\n",
    "\n",
    "# Set xgboost parameters\n",
    "params = {}\n",
    "params['objective'] = 'binary:logistic'\n",
    "params['eta'] = 0.039\n",
    "params['silent'] = True\n",
    "params['max_depth'] = 2\n",
    "params['subsample'] = 0.8\n",
    "params['colsample_bytree'] = 0.9\n",
    "params['eval_metric'] = 'auc'\n",
    "params['random_state'] = RANDOM_STATE"
   ]
  },
  {
   "cell_type": "code",
   "execution_count": 95,
   "metadata": {},
   "outputs": [
    {
     "name": "stdout",
     "output_type": "stream",
     "text": [
      "[0]\ttrain-auc:0.87809\tvalid-auc:0.87347\n",
      "Multiple eval metrics have been passed: 'valid-auc' will be used for early stopping.\n",
      "\n",
      "Will train until valid-auc hasn't improved in 50 rounds.\n",
      "[50]\ttrain-auc:0.91859\tvalid-auc:0.92285\n",
      "[100]\ttrain-auc:0.96109\tvalid-auc:0.96125\n",
      "[150]\ttrain-auc:0.97280\tvalid-auc:0.96868\n",
      "[200]\ttrain-auc:0.98886\tvalid-auc:0.98196\n",
      "[250]\ttrain-auc:0.99199\tvalid-auc:0.97882\n",
      "Stopping. Best iteration:\n",
      "[200]\ttrain-auc:0.98886\tvalid-auc:0.98196\n",
      "\n",
      "training time: 28.94 seconds.\n"
     ]
    }
   ],
   "source": [
    "time_start = time.time()\n",
    "model = xgb.train(params, \n",
    "                dtrain, \n",
    "                MAX_ROUNDS, \n",
    "                watchlist, \n",
    "                early_stopping_rounds=EARLY_STOP, \n",
    "                maximize=True, \n",
    "                verbose_eval=VERBOSE_EVAL)\n",
    "print(\"training time: {} seconds.\".format(round(time.time() - time_start,2)))"
   ]
  },
  {
   "cell_type": "code",
   "execution_count": 96,
   "metadata": {},
   "outputs": [
    {
     "data": {
      "image/png": "[encoded data removed]",
      "text/plain": [
       "<Figure size 864x432 with 1 Axes>"
      ]
     },
     "metadata": {},
     "output_type": "display_data"
    }
   ],
   "source": [
    "# Feature importance\n",
    "tmp = pd.DataFrame({'Feature': list(model.get_score().keys()), 'Weight': list(model.get_score().values())})\n",
    "tmp['Weight'] = tmp['Weight']/tmp['Weight'].sum()\n",
    "tmp = tmp.sort_values(by='Weight',ascending=False)\n",
    "plt.figure(figsize = (12,6))\n",
    "plt.title('Features importance',fontsize=14)\n",
    "s = sns.barplot(x='Feature',y='Weight',data=tmp, palette='autumn')\n",
    "s.set_xticklabels(s.get_xticklabels(),rotation=45)\n",
    "plt.show()\n",
    "# The most important features are V14, V17, V4, V10, V12, V7."
   ]
  },
  {
   "cell_type": "code",
   "execution_count": 130,
   "metadata": {},
   "outputs": [],
   "source": [
    "preds = model.predict(dvalid)\n",
    "preds = np.where(preds>0.5,1,0)"
   ]
  },
  {
   "cell_type": "code",
   "execution_count": 132,
   "metadata": {},
   "outputs": [
    {
     "data": {
      "image/png": "[encoded data removed]",
      "text/plain": [
       "<Figure size 432x288 with 2 Axes>"
      ]
     },
     "metadata": {},
     "output_type": "display_data"
    }
   ],
   "source": [
    "# Confusion Matrix\n",
    "cm = confusion_matrix(valid_df[target].values, preds)\n",
    "# fig, ax1= plt.subplots(figsize=(8,8))\n",
    "g = sns.heatmap(cm,\n",
    "            xticklabels=['Not Fraud', 'Fraud'],\n",
    "            yticklabels=['Not Fraud', 'Fraud'],\n",
    "            annot=True,annot_kws={'size':14},fmt='d',\n",
    "            linewidths=2,linecolor=\"white\", cmap=\"Oranges\")\n",
    "plt.title('Confusion Matrix', fontsize =18)\n",
    "g.set_xticklabels(g.get_xmajorticklabels(), fontsize = 16);\n",
    "g.set_yticklabels(g.get_ymajorticklabels(), fontsize = 16);"
   ]
  },
  {
   "cell_type": "code",
   "execution_count": 134,
   "metadata": {},
   "outputs": [
    {
     "data": {
      "text/plain": [
       "0.874"
      ]
     },
     "execution_count": 134,
     "metadata": {},
     "output_type": "execute_result"
    }
   ],
   "source": [
    "# AUC\n",
    "round(roc_auc_score(valid_df[target].values, preds),3)"
   ]
  },
  {
   "cell_type": "code",
   "execution_count": 128,
   "metadata": {},
   "outputs": [
    {
     "name": "stdout",
     "output_type": "stream",
     "text": [
      "test dataset AUC:  0.876\n"
     ]
    },
    {
     "data": {
      "image/png": "[encoded data removed]",
      "text/plain": [
       "<Figure size 432x288 with 2 Axes>"
      ]
     },
     "metadata": {},
     "output_type": "display_data"
    }
   ],
   "source": [
    "# Confusion Matrix\n",
    "preds_tst = model.predict(dtest)\n",
    "preds_tst = np.where(preds_tst>0.5,1,0)\n",
    "cm = confusion_matrix(test_df[target].values, preds_tst)\n",
    "# fig, ax1= plt.subplots(figsize=(8,8))\n",
    "g = sns.heatmap(cm,\n",
    "            xticklabels=['Not Fraud', 'Fraud'],\n",
    "            yticklabels=['Not Fraud', 'Fraud'],\n",
    "            annot=True,annot_kws={'size':14},fmt='d',\n",
    "            linewidths=2,linecolor=\"white\", cmap=\"Blues\")\n",
    "plt.title('Confusion Matrix', fontsize =18)\n",
    "g.set_xticklabels(g.get_xmajorticklabels(), fontsize = 16);\n",
    "g.set_yticklabels(g.get_ymajorticklabels(), fontsize = 16);\n",
    "# AUC\n",
    "print(\"test dataset AUC: \",round(roc_auc_score(test_df[target].values, preds_tst),3))"
   ]
  },
  {
   "cell_type": "markdown",
   "metadata": {},
   "source": [
    "### LightGBM  Model"
   ]
  },
  {
   "cell_type": "code",
   "execution_count": 136,
   "metadata": {},
   "outputs": [],
   "source": [
    "params = {\n",
    "          'boosting_type': 'gbdt',\n",
    "          'objective': 'binary',\n",
    "          'metric':'auc',\n",
    "          'learning_rate': 0.05,\n",
    "          'num_leaves': 7,  # we should let it be smaller than 2^(max_depth)\n",
    "          'max_depth': 4,  # -1 means no limit\n",
    "          'min_child_samples': 100,  # Minimum number of data need in a child(min_data_in_leaf)\n",
    "          'max_bin': 100,  # Number of bucketed bin for feature values\n",
    "          'subsample': 0.9,  # Subsample ratio of the training instance.\n",
    "          'subsample_freq': 1,  # frequence of subsample, <=0 means no enable\n",
    "          'colsample_bytree': 0.7,  # Subsample ratio of columns when constructing each tree.\n",
    "          'min_child_weight': 0,  # Minimum sum of instance weight(hessian) needed in a child(leaf)\n",
    "          'min_split_gain': 0,  # lambda_l1, lambda_l2 and min_gain_to_split to regularization\n",
    "          'nthread': 8,\n",
    "          'verbose': 0,\n",
    "          'scale_pos_weight':150, # because training data is extremely unbalanced \n",
    "         }"
   ]
  },
  {
   "cell_type": "code",
   "execution_count": 137,
   "metadata": {},
   "outputs": [],
   "source": [
    "dtrain = lgb.Dataset(train_df[features].values, \n",
    "                     label=train_df[target].values,\n",
    "                     feature_name=features)\n",
    "\n",
    "dvalid = lgb.Dataset(valid_df[features].values,\n",
    "                     label=valid_df[target].values,\n",
    "                     feature_name=features)"
   ]
  },
  {
   "cell_type": "code",
   "execution_count": 138,
   "metadata": {},
   "outputs": [
    {
     "name": "stdout",
     "output_type": "stream",
     "text": [
      "Training until validation scores don't improve for 100 rounds\n",
      "[50]\ttrain's auc: 0.98424\tvalid's auc: 0.919256\n",
      "[100]\ttrain's auc: 0.993413\tvalid's auc: 0.895608\n",
      "[150]\ttrain's auc: 0.989089\tvalid's auc: 0.89223\n",
      "Early stopping, best iteration is:\n",
      "[54]\ttrain's auc: 0.985393\tvalid's auc: 0.92095\n",
      "training time: 2.93 seconds.\n"
     ]
    }
   ],
   "source": [
    "time_start = time.time()\n",
    "evals_results = {}\n",
    "\n",
    "model = lgb.train(params, \n",
    "                  dtrain, \n",
    "                  valid_sets=[dtrain, dvalid], \n",
    "                  valid_names=['train','valid'], \n",
    "                  evals_result=evals_results, \n",
    "                  num_boost_round=MAX_ROUNDS,\n",
    "                  early_stopping_rounds=2*EARLY_STOP,\n",
    "                  verbose_eval=VERBOSE_EVAL, \n",
    "                  feval=None)\n",
    "print(\"training time: {} seconds.\".format(round(time.time() - time_start,2)))"
   ]
  },
  {
   "cell_type": "code",
   "execution_count": 139,
   "metadata": {},
   "outputs": [
    {
     "data": {
      "image/png": "[encoded data removed]",
      "text/plain": [
       "<Figure size 864x432 with 1 Axes>"
      ]
     },
     "metadata": {},
     "output_type": "display_data"
    }
   ],
   "source": [
    "# Feature importance\n",
    "tmp = pd.DataFrame({'Feature': model.feature_name(), 'Weight': model.feature_importance()/model.feature_importance().sum()})\n",
    "tmp = tmp.sort_values(by='Weight',ascending=False)\n",
    "plt.figure(figsize = (12,6))\n",
    "plt.title('Features importance',fontsize=14)\n",
    "s = sns.barplot(x='Feature',y='Weight',data=tmp, palette='autumn')\n",
    "s.set_xticklabels(s.get_xticklabels(),rotation=45)\n",
    "plt.show()\n",
    "# The most important features are V9, V12, V4, V14, V10, V3."
   ]
  },
  {
   "cell_type": "code",
   "execution_count": 143,
   "metadata": {},
   "outputs": [],
   "source": [
    "preds = model.predict(valid_df[features])\n",
    "preds = np.where(preds>0.5,1,0)"
   ]
  },
  {
   "cell_type": "code",
   "execution_count": 145,
   "metadata": {},
   "outputs": [
    {
     "name": "stdout",
     "output_type": "stream",
     "text": [
      "test dataset AUC:  0.876\n"
     ]
    },
    {
     "data": {
      "image/png": "[encoded data removed]",
      "text/plain": [
       "<Figure size 432x288 with 2 Axes>"
      ]
     },
     "metadata": {},
     "output_type": "display_data"
    }
   ],
   "source": [
    "# Confusion Matrix\n",
    "cm = confusion_matrix(valid_df[target].values, preds)\n",
    "# fig, ax1= plt.subplots(figsize=(8,8))\n",
    "g = sns.heatmap(cm,\n",
    "            xticklabels=['Not Fraud', 'Fraud'],\n",
    "            yticklabels=['Not Fraud', 'Fraud'],\n",
    "            annot=True,annot_kws={'size':14},fmt='d',\n",
    "            linewidths=2,linecolor=\"white\", cmap=\"Oranges\")\n",
    "plt.title('Confusion Matrix', fontsize =18)\n",
    "g.set_xticklabels(g.get_xmajorticklabels(), fontsize = 16);\n",
    "g.set_yticklabels(g.get_ymajorticklabels(), fontsize = 16);\n",
    "# AUC\n",
    "print(\"test dataset AUC: \",round(roc_auc_score(test_df[target].values, preds_tst),3))"
   ]
  },
  {
   "cell_type": "code",
   "execution_count": 146,
   "metadata": {},
   "outputs": [
    {
     "data": {
      "text/plain": [
       "0.889"
      ]
     },
     "execution_count": 146,
     "metadata": {},
     "output_type": "execute_result"
    }
   ],
   "source": [
    "# AUC\n",
    "round(roc_auc_score(valid_df[target].values, preds),3)"
   ]
  },
  {
   "cell_type": "code",
   "execution_count": 148,
   "metadata": {},
   "outputs": [
    {
     "name": "stdout",
     "output_type": "stream",
     "text": [
      "test dataset AUC:  0.908\n"
     ]
    },
    {
     "data": {
      "image/png": "[encoded data removed]",
      "text/plain": [
       "<Figure size 432x288 with 2 Axes>"
      ]
     },
     "metadata": {},
     "output_type": "display_data"
    }
   ],
   "source": [
    "# Confusion Matrix\n",
    "preds_tst = model.predict(test_df[features])\n",
    "preds_tst = np.where(preds_tst>0.5,1,0)\n",
    "cm = confusion_matrix(test_df[target].values, preds_tst)\n",
    "# fig, ax1= plt.subplots(figsize=(8,8))\n",
    "g = sns.heatmap(cm,\n",
    "            xticklabels=['Not Fraud', 'Fraud'],\n",
    "            yticklabels=['Not Fraud', 'Fraud'],\n",
    "            annot=True,annot_kws={'size':14},fmt='d',\n",
    "            linewidths=2,linecolor=\"white\", cmap=\"Blues\")\n",
    "plt.title('Confusion Matrix', fontsize =18)\n",
    "g.set_xticklabels(g.get_xmajorticklabels(), fontsize = 16);\n",
    "g.set_yticklabels(g.get_ymajorticklabels(), fontsize = 16);\n",
    "# AUC\n",
    "print(\"test dataset AUC: \",round(roc_auc_score(test_df[target].values, preds_tst),3))"
   ]
  },
  {
   "cell_type": "markdown",
   "metadata": {},
   "source": [
    "### LightGBM with cross-validation"
   ]
  },
  {
   "cell_type": "code",
   "execution_count": 178,
   "metadata": {},
   "outputs": [
    {
     "name": "stdout",
     "output_type": "stream",
     "text": [
      "Training until validation scores don't improve for 50 rounds\n",
      "[50]\ttraining's auc: 0.969446\tvalid_1's auc: 0.959516\n",
      "[100]\ttraining's auc: 0.975391\tvalid_1's auc: 0.962895\n",
      "Early stopping, best iteration is:\n",
      "[72]\ttraining's auc: 0.976315\tvalid_1's auc: 0.967322\n",
      "Fold  1 AUC : 0.967322\n",
      "Training until validation scores don't improve for 50 rounds\n",
      "[50]\ttraining's auc: 0.976681\tvalid_1's auc: 0.952957\n",
      "Early stopping, best iteration is:\n",
      "[49]\ttraining's auc: 0.976834\tvalid_1's auc: 0.953152\n",
      "Fold  2 AUC : 0.953152\n",
      "Training until validation scores don't improve for 50 rounds\n",
      "[50]\ttraining's auc: 0.974153\tvalid_1's auc: 0.963634\n",
      "[100]\ttraining's auc: 0.977403\tvalid_1's auc: 0.97551\n",
      "Early stopping, best iteration is:\n",
      "[90]\ttraining's auc: 0.976759\tvalid_1's auc: 0.976591\n",
      "Fold  3 AUC : 0.976591\n",
      "Training until validation scores don't improve for 50 rounds\n",
      "[50]\ttraining's auc: 0.970799\tvalid_1's auc: 0.975831\n",
      "Early stopping, best iteration is:\n",
      "[46]\ttraining's auc: 0.97193\tvalid_1's auc: 0.97691\n",
      "Fold  4 AUC : 0.976910\n",
      "Training until validation scores don't improve for 50 rounds\n",
      "[50]\ttraining's auc: 0.972326\tvalid_1's auc: 0.987801\n",
      "[100]\ttraining's auc: 0.969539\tvalid_1's auc: 0.9881\n",
      "Early stopping, best iteration is:\n",
      "[81]\ttraining's auc: 0.970589\tvalid_1's auc: 0.989584\n",
      "Fold  5 AUC : 0.989584\n",
      "Full AUC score 0.969356\n",
      "training time: 10.04 seconds.\n"
     ]
    }
   ],
   "source": [
    "kf = KFold(n_splits = NUMBER_KFOLDS, random_state = RANDOM_STATE, shuffle = True)\n",
    "\n",
    "# Create arrays and dataframes to store results\n",
    "oof_preds = np.zeros(train_df.shape[0])\n",
    "test_preds = np.zeros(test_df.shape[0])\n",
    "feature_importance_df = pd.DataFrame()\n",
    "n_fold = 0\n",
    "time_start = time.time()\n",
    "for train_idx, valid_idx in kf.split(train_df):\n",
    "    train_x, train_y = train_df[features].iloc[train_idx],train_df[target].iloc[train_idx]\n",
    "    valid_x, valid_y = train_df[features].iloc[valid_idx],train_df[target].iloc[valid_idx]\n",
    "    \n",
    "    evals_results = {}\n",
    "    model =  LGBMClassifier(\n",
    "                  nthread=-1,\n",
    "                  n_estimators=2000,\n",
    "                  learning_rate=0.01,\n",
    "                  num_leaves=80,\n",
    "                  colsample_bytree=0.98,\n",
    "                  subsample=0.78,\n",
    "                  reg_alpha=0.04,\n",
    "                  reg_lambda=0.073,\n",
    "                  subsample_for_bin=50,\n",
    "                  boosting_type='gbdt',\n",
    "                  is_unbalance=False,\n",
    "                  min_split_gain=0.025,\n",
    "                  min_child_weight=40,\n",
    "                  min_child_samples=510,\n",
    "                  objective='binary',\n",
    "                  metric='auc',\n",
    "                  silent=-1,\n",
    "                  verbose=-1,\n",
    "                  feval=None)\n",
    "    model.fit(train_x, train_y, eval_set=[(train_x, train_y), (valid_x, valid_y)], \n",
    "                eval_metric= 'auc', verbose= VERBOSE_EVAL, early_stopping_rounds= EARLY_STOP)\n",
    "    \n",
    "    oof_preds[valid_idx] = model.predict_proba(valid_x, num_iteration=model.best_iteration_)[:, 1]\n",
    "    test_preds += model.predict_proba(test_df[features], num_iteration=model.best_iteration_)[:, 1] / kf.n_splits\n",
    "    \n",
    "    fold_importance_df = pd.DataFrame()\n",
    "    fold_importance_df[\"feature\"] = features\n",
    "    fold_importance_df[\"importance\"] = clf.feature_importances_\n",
    "    fold_importance_df[\"fold\"] = n_fold + 1\n",
    "    \n",
    "    feature_importance_df = pd.concat([feature_importance_df, fold_importance_df], axis=0)\n",
    "    print('Fold %2d AUC : %.6f' % (n_fold + 1, roc_auc_score(valid_y, oof_preds[valid_idx])))\n",
    "    del model, train_x, train_y, valid_x, valid_y\n",
    "    gc.collect()\n",
    "    n_fold = n_fold + 1\n",
    "train_auc_score = roc_auc_score(train_df[target], oof_preds)\n",
    "print('Full AUC score %.6f' % train_auc_score)     \n",
    "print(\"training time: {} seconds.\".format(round(time.time() - time_start,2)))"
   ]
  },
  {
   "cell_type": "code",
   "execution_count": 173,
   "metadata": {},
   "outputs": [
    {
     "data": {
      "image/png": "[encoded data removed]",
      "text/plain": [
       "<Figure size 864x432 with 1 Axes>"
      ]
     },
     "metadata": {},
     "output_type": "display_data"
    }
   ],
   "source": [
    "# Feature importance\n",
    "feature_importance = feature_importance_df.groupby('feature')['importance'].mean().reset_index()\n",
    "tmp = pd.DataFrame({'Feature': feature_importance['feature'], \\\n",
    "                                                  'Weight': feature_importance['importance']/feature_importance['importance'].sum()})\n",
    "tmp = tmp.sort_values(by='Weight',ascending=False)\n",
    "plt.figure(figsize = (12,6))\n",
    "plt.title('Features importance',fontsize=14)\n",
    "s = sns.barplot(x='Feature',y='Weight',data=tmp, palette='autumn')\n",
    "s.set_xticklabels(s.get_xticklabels(),rotation=45)\n",
    "plt.show()\n",
    "# The most important features are V1, V26, Amount, V17, V4, Time."
   ]
  },
  {
   "cell_type": "markdown",
   "metadata": {},
   "source": [
    "### Conclusions\n",
    "We investigated the data, checking for data unbalancing, visualizing the features and understanding the relationship between different features. We then investigated two predictive models. The data was split in 3 parts, a train set, a validation set and a test set. For the first three models, we only used the train and test set.\n",
    "\n",
    "We started with **RandomForrestClassifier**, for which we obtained an AUC scode of **0.85** when predicting the target for the test set.\n",
    "\n",
    "We followed with an **AdaBoostClassifier** model, with lower AUC score **0.83** for prediction of the test set target values.\n",
    "\n",
    "We then followed with an **CatBoostClassifier**, with the AUC score after training 500 iterations **0.86**.\n",
    "\n",
    "We then experimented with a **XGBoost** model. In this case, se used the validation set for validation of the training model. The best validation score obtained was **0.984**. Then we used the model with the best training step, to predict target value from the test data; the AUC score obtained was **0.974**.\n",
    "\n",
    "We then presented the data to a **LightGBM** model. We used both train-validation split and cross-validation to evaluate the model effectiveness to predict 'Class' value, i.e. detecting if a transaction was fraudulent. With the first method we obtained values of AUC for the validation set around **0.974**. For the test set, the score obtained was **0.946**.\n",
    "With the cross-validation, we obtained an AUC score for the test prediction of **0.93**."
   ]
  },
  {
   "cell_type": "markdown",
   "metadata": {},
   "source": [
    "### Future Work"
   ]
  },
  {
   "cell_type": "code",
   "execution_count": null,
   "metadata": {},
   "outputs": [],
   "source": []
  }
 ],
 "metadata": {
  "kernelspec": {
   "display_name": "Python 3",
   "language": "python",
   "name": "python3"
  },
  "language_info": {
   "codemirror_mode": {
    "name": "ipython",
    "version": 3
   },
   "file_extension": ".py",
   "mimetype": "text/x-python",
   "name": "python",
   "nbconvert_exporter": "python",
   "pygments_lexer": "ipython3",
   "version": "3.7.4"
  }
 },
 "nbformat": 4,
 "nbformat_minor": 2
}
