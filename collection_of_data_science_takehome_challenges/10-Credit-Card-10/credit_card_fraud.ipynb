{
 "cells": [
  {
   "cell_type": "code",
   "execution_count": 1,
   "metadata": {},
   "outputs": [],
   "source": [
    "import itertools\n",
    "from collections import defaultdict\n",
    "import numpy as np\n",
    "import pandas as pd\n",
    "import matplotlib.pyplot as plt\n",
    "plt.style.use('ggplot')\n",
    "import seaborn as sns\n",
    "\n",
    "from sklearn.decomposition import PCA\n",
    "from sklearn.preprocessing import scale\n",
    "from sklearn.cluster import KMeans"
   ]
  },
  {
   "cell_type": "code",
   "execution_count": 2,
   "metadata": {},
   "outputs": [],
   "source": [
    "%matplotlib inline\n",
    "sns.set_context('notebook')"
   ]
  },
  {
   "cell_type": "markdown",
   "metadata": {},
   "source": [
    "# Index\n",
    "* [Load the data](#Load-the-data)\n",
    "* [Answer question 1](#Answer-question-1)\n",
    "* [Answer question 2](#Answer-question-2)\n",
    "* [Answer question 3](#Answer-question-3)\n",
    "    * [Prepare features](#Prepare-features)\n",
    "    * [Reduce dimensions and visualize](#Reduce-dimensions-and-visualize)\n",
    "    * [Kmeans to cluster](#Kmeans-to-cluster)\n",
    "    * [Check the result](#Check-the-result)"
   ]
  },
  {
   "cell_type": "markdown",
   "metadata": {},
   "source": [
    "## Load the data"
   ]
  },
  {
   "cell_type": "code",
   "execution_count": 3,
   "metadata": {},
   "outputs": [],
   "source": [
    "holders = pd.read_csv('cc_info.csv',index_col='credit_card')\n",
    "holders.rename(columns={'credit_card_limit':'credit_limit'},inplace=True)"
   ]
  },
  {
   "cell_type": "code",
   "execution_count": 4,
   "metadata": {},
   "outputs": [],
   "source": [
    "transactions = pd.read_csv('transactions.csv')\n",
    "transactions['date'] = pd.to_datetime(transactions.date)\n",
    "transactions.rename(columns={'transaction_dollar_amount':'amount'},inplace=True)"
   ]
  },
  {
   "cell_type": "markdown",
   "metadata": {},
   "source": [
    "## Answer question 1\n",
    "Your boss wants to identify those users that in your dataset never went above the monthly credit card limit (calendar month). The goal of this is to automatically increase their limit. Can you send him the list of Ids?"
   ]
  },
  {
   "cell_type": "code",
   "execution_count": 5,
   "metadata": {},
   "outputs": [
    {
     "data": {
      "text/plain": [
       "2015    294588\n",
       "Name: date, dtype: int64"
      ]
     },
     "execution_count": 5,
     "metadata": {},
     "output_type": "execute_result"
    }
   ],
   "source": [
    "transactions.date.dt.year.value_counts()"
   ]
  },
  {
   "cell_type": "markdown",
   "metadata": {},
   "source": [
    "First, we need to calculate each user's monthly spent."
   ]
  },
  {
   "cell_type": "code",
   "execution_count": 6,
   "metadata": {},
   "outputs": [],
   "source": [
    "def monthly_spent_byuser(df):\n",
    "    # I have checked the data already, all transactions happen in year 2015\n",
    "    # so I can just group by month\n",
    "    return df.groupby(df.date.dt.month)['amount'].agg('sum')"
   ]
  },
  {
   "cell_type": "code",
   "execution_count": 7,
   "metadata": {},
   "outputs": [],
   "source": [
    "# first group by 'credit_card' (i.e., by user)\n",
    "# then sum up all spent by month\n",
    "card_month_spents = transactions.groupby(\"credit_card\").apply(monthly_spent_byuser).unstack(fill_value=0)"
   ]
  },
  {
   "cell_type": "code",
   "execution_count": 8,
   "metadata": {},
   "outputs": [
    {
     "data": {
      "text/html": [
       "<div>\n",
       "<style scoped>\n",
       "    .dataframe tbody tr th:only-of-type {\n",
       "        vertical-align: middle;\n",
       "    }\n",
       "\n",
       "    .dataframe tbody tr th {\n",
       "        vertical-align: top;\n",
       "    }\n",
       "\n",
       "    .dataframe thead th {\n",
       "        text-align: right;\n",
       "    }\n",
       "</style>\n",
       "<table border=\"1\" class=\"dataframe\">\n",
       "  <thead>\n",
       "    <tr style=\"text-align: right;\">\n",
       "      <th></th>\n",
       "      <th>7</th>\n",
       "      <th>8</th>\n",
       "      <th>9</th>\n",
       "      <th>10</th>\n",
       "      <th>credit_limit</th>\n",
       "    </tr>\n",
       "    <tr>\n",
       "      <th>credit_card</th>\n",
       "      <th></th>\n",
       "      <th></th>\n",
       "      <th></th>\n",
       "      <th></th>\n",
       "      <th></th>\n",
       "    </tr>\n",
       "  </thead>\n",
       "  <tbody>\n",
       "    <tr>\n",
       "      <th>1003715054175576</th>\n",
       "      <td>162.56</td>\n",
       "      <td>8441.51</td>\n",
       "      <td>11281.56</td>\n",
       "      <td>8954.21</td>\n",
       "      <td>20000</td>\n",
       "    </tr>\n",
       "    <tr>\n",
       "      <th>1013870087888817</th>\n",
       "      <td>281.43</td>\n",
       "      <td>11981.15</td>\n",
       "      <td>12461.96</td>\n",
       "      <td>12090.34</td>\n",
       "      <td>15000</td>\n",
       "    </tr>\n",
       "    <tr>\n",
       "      <th>1023820165155391</th>\n",
       "      <td>943.26</td>\n",
       "      <td>22741.20</td>\n",
       "      <td>18108.12</td>\n",
       "      <td>19259.98</td>\n",
       "      <td>28000</td>\n",
       "    </tr>\n",
       "    <tr>\n",
       "      <th>1073931538936472</th>\n",
       "      <td>220.07</td>\n",
       "      <td>2991.05</td>\n",
       "      <td>2557.12</td>\n",
       "      <td>1638.03</td>\n",
       "      <td>10000</td>\n",
       "    </tr>\n",
       "    <tr>\n",
       "      <th>1077622576192810</th>\n",
       "      <td>0.00</td>\n",
       "      <td>634.61</td>\n",
       "      <td>551.28</td>\n",
       "      <td>604.84</td>\n",
       "      <td>10000</td>\n",
       "    </tr>\n",
       "  </tbody>\n",
       "</table>\n",
       "</div>"
      ],
      "text/plain": [
       "                       7         8         9        10  credit_limit\n",
       "credit_card                                                         \n",
       "1003715054175576  162.56   8441.51  11281.56   8954.21         20000\n",
       "1013870087888817  281.43  11981.15  12461.96  12090.34         15000\n",
       "1023820165155391  943.26  22741.20  18108.12  19259.98         28000\n",
       "1073931538936472  220.07   2991.05   2557.12   1638.03         10000\n",
       "1077622576192810    0.00    634.61    551.28    604.84         10000"
      ]
     },
     "execution_count": 8,
     "metadata": {},
     "output_type": "execute_result"
    }
   ],
   "source": [
    "# join with 'credit_limit' to simplify the comparison\n",
    "card_month_spents = card_month_spents.join(holders.credit_limit)\n",
    "card_month_spents.head()"
   ]
  },
  {
   "cell_type": "markdown",
   "metadata": {},
   "source": [
    "Then, we check whether each user has exceed his credit limit before."
   ]
  },
  {
   "cell_type": "code",
   "execution_count": 9,
   "metadata": {},
   "outputs": [],
   "source": [
    "n_months = card_month_spents.shape[1]-1\n",
    "def is_never_above_limit(s):\n",
    "    limit = s.loc['credit_limit']\n",
    "    return (s.iloc[0:n_months] <= limit).all()\n",
    "\n",
    "is_user_never_exceed_limit = card_month_spents.apply(is_never_above_limit,axis=1)\n",
    "\n",
    "users_never_exceed_limit = card_month_spents.loc[is_user_never_exceed_limit ,:].index"
   ]
  },
  {
   "cell_type": "code",
   "execution_count": 10,
   "metadata": {},
   "outputs": [
    {
     "data": {
      "text/plain": [
       "Int64Index([1003715054175576, 1013870087888817, 1023820165155391,\n",
       "            1073931538936472, 1077622576192810, 1087468642191606,\n",
       "            1089479586475600, 1101164752077181, 1107936587129946,\n",
       "            1126571863414211,\n",
       "            ...\n",
       "            9854872265114976, 9855217884613002, 9867492085978660,\n",
       "            9884182241594028, 9938969980242308, 9946917923319410,\n",
       "            9958678964376192, 9961694231875562, 9981251982982618,\n",
       "            9986135779184360],\n",
       "           dtype='int64', name='credit_card', length=862)"
      ]
     },
     "execution_count": 10,
     "metadata": {},
     "output_type": "execute_result"
    }
   ],
   "source": [
    "users_never_exceed_limit"
   ]
  },
  {
   "cell_type": "code",
   "execution_count": 11,
   "metadata": {},
   "outputs": [],
   "source": [
    "with open(\"users_never_exceed_limit.txt\",\"wt\") as outf:\n",
    "    for cardno in users_never_exceed_limit:\n",
    "        outf.write('{}\\n'.format(cardno))"
   ]
  },
  {
   "cell_type": "markdown",
   "metadata": {},
   "source": [
    "## Answer question 2\n",
    "On the other hand, she wants you to implement an algorithm that as soon as a user goes above her monthly limit, it triggers an alert so that the user can be notiﬁed about that.We assume here that at the beginning of the new month, user total money spent gets reset to zero (i.e. she pays the card fully at the end of each month). Build a function that for each day, returns a list of users who went above their credit card monthly limit on that day."
   ]
  },
  {
   "cell_type": "code",
   "execution_count": 12,
   "metadata": {},
   "outputs": [],
   "source": [
    "class MonthSpentMonitor(object):\n",
    "\n",
    "    def __init__(self,credit_limits):\n",
    "        \"\"\"\n",
    "        card_limits is a dictionary\n",
    "        key=card number, value=credit limit\n",
    "        \"\"\"\n",
    "        self.total_spent = defaultdict(float)\n",
    "        self.credit_limits = credit_limits\n",
    "\n",
    "    def reset(self):\n",
    "        self.total_spent.clear()\n",
    "\n",
    "    def count(self,daily_transaction):\n",
    "        \"\"\"\n",
    "        daily_transaction: a dict\n",
    "        key=card number, value=amount\n",
    "        \"\"\"\n",
    "        for cardno,amount in daily_transaction:\n",
    "            self.total_spent[cardno] += amount\n",
    "\n",
    "        # assume 'credit_limits' always can find the cardno\n",
    "        # otherwise, raise KeyError, which is a good indicator showing something is wrong\n",
    "        return [ cardno for cardno,total in self.total_spent.viewitems() if total > self.credit_limits[cardno]]"
   ]
  },
  {
   "cell_type": "markdown",
   "metadata": {},
   "source": [
    "<span style='color:red;'>Due to time limitation, and since the question doesn't provide enough information about the requirement (e.g. input format), I just provide above codes. if given enough time and more clear API specification, I will write some test code to test/demonstrate above codes.</span>"
   ]
  },
  {
   "cell_type": "markdown",
   "metadata": {},
   "source": [
    "### Answer question 3\n",
    "Finally, your boss is very concerned about frauds cause they are a huge cost for credit card companies. She wants you to implement an unsupervised algorithm that returns all transactions that seem unusual and are worth being investigated further."
   ]
  },
  {
   "cell_type": "markdown",
   "metadata": {},
   "source": [
    "### Prepare features\n",
    "I think there are two factors which impact a transaction is fraud or not:\n",
    "1. if the transaction violates that user's consumption habit. For example, if a user spend less then 200 each transaction most of the time, then a transaction more than 1000 will be highly suspicious.\n",
    "2. if user spend the money far from his home, although it is possible due to traveling, but it's still very suspicious.\n",
    "\n",
    "Although the data provide each transaction's geometric information and card holder's home, <span style='color:red'>unfortunately, due to time limits, I cannot relate each transation's 'Long' and 'Lat' with that card holder's home address</span>. so I have to drop the second factor listed above, and <span style='color:orange;font-size:1.5em'>only make features from user's previous comsumption history.</span>\n",
    "\n",
    "<span style='color:red;font-weight:bold'>if given more time, I would use some Map Web API to map Long/Lat to address, and compare with card-holder's address, which will be a very useful feature to detect credit fraud.</span>"
   ]
  },
  {
   "cell_type": "code",
   "execution_count": 13,
   "metadata": {},
   "outputs": [],
   "source": [
    "def statistics_by_card(s):\n",
    "    ps = [25, 50, 75]\n",
    "    d = np.percentile(s,ps)\n",
    "    return pd.Series(d,index=['{}%'.format(p) for p in ps])\n",
    "\n",
    "tran_statistics = transactions.groupby('credit_card')['amount'].apply(statistics_by_card).unstack()"
   ]
  },
  {
   "cell_type": "code",
   "execution_count": 14,
   "metadata": {},
   "outputs": [
    {
     "data": {
      "text/html": [
       "<div>\n",
       "<style scoped>\n",
       "    .dataframe tbody tr th:only-of-type {\n",
       "        vertical-align: middle;\n",
       "    }\n",
       "\n",
       "    .dataframe tbody tr th {\n",
       "        vertical-align: top;\n",
       "    }\n",
       "\n",
       "    .dataframe thead th {\n",
       "        text-align: right;\n",
       "    }\n",
       "</style>\n",
       "<table border=\"1\" class=\"dataframe\">\n",
       "  <thead>\n",
       "    <tr style=\"text-align: right;\">\n",
       "      <th></th>\n",
       "      <th>25%</th>\n",
       "      <th>50%</th>\n",
       "      <th>75%</th>\n",
       "    </tr>\n",
       "    <tr>\n",
       "      <th>credit_card</th>\n",
       "      <th></th>\n",
       "      <th></th>\n",
       "      <th></th>\n",
       "    </tr>\n",
       "  </thead>\n",
       "  <tbody>\n",
       "    <tr>\n",
       "      <th>1003715054175576</th>\n",
       "      <td>59.01</td>\n",
       "      <td>93.73</td>\n",
       "      <td>124.63</td>\n",
       "    </tr>\n",
       "    <tr>\n",
       "      <th>1013870087888817</th>\n",
       "      <td>58.09</td>\n",
       "      <td>87.67</td>\n",
       "      <td>128.02</td>\n",
       "    </tr>\n",
       "    <tr>\n",
       "      <th>1023820165155391</th>\n",
       "      <td>55.43</td>\n",
       "      <td>85.78</td>\n",
       "      <td>122.83</td>\n",
       "    </tr>\n",
       "    <tr>\n",
       "      <th>1073931538936472</th>\n",
       "      <td>108.08</td>\n",
       "      <td>147.19</td>\n",
       "      <td>194.83</td>\n",
       "    </tr>\n",
       "    <tr>\n",
       "      <th>1077622576192810</th>\n",
       "      <td>122.93</td>\n",
       "      <td>148.18</td>\n",
       "      <td>160.11</td>\n",
       "    </tr>\n",
       "  </tbody>\n",
       "</table>\n",
       "</div>"
      ],
      "text/plain": [
       "                     25%     50%     75%\n",
       "credit_card                             \n",
       "1003715054175576   59.01   93.73  124.63\n",
       "1013870087888817   58.09   87.67  128.02\n",
       "1023820165155391   55.43   85.78  122.83\n",
       "1073931538936472  108.08  147.19  194.83\n",
       "1077622576192810  122.93  148.18  160.11"
      ]
     },
     "execution_count": 14,
     "metadata": {},
     "output_type": "execute_result"
    }
   ],
   "source": [
    "tran_statistics.head()"
   ]
  },
  {
   "cell_type": "markdown",
   "metadata": {},
   "source": [
    "then merge the 'transaction', 'previous consumption history' and 'credit limit' together, put all useful information about the transaction in one DataFrame"
   ]
  },
  {
   "cell_type": "code",
   "execution_count": 15,
   "metadata": {},
   "outputs": [],
   "source": [
    "# merge 'transaction' with 'previous consumption statistics'\n",
    "temp = pd.merge(transactions,tran_statistics,how='left',left_on='credit_card',right_index=True)\n",
    "\n",
    "# merge with credit limit\n",
    "transactions = pd.merge(temp,holders.loc[:,['credit_limit']],how='left',left_on='credit_card',right_index=True)"
   ]
  },
  {
   "cell_type": "code",
   "execution_count": 16,
   "metadata": {},
   "outputs": [
    {
     "data": {
      "text/html": [
       "<div>\n",
       "<style scoped>\n",
       "    .dataframe tbody tr th:only-of-type {\n",
       "        vertical-align: middle;\n",
       "    }\n",
       "\n",
       "    .dataframe tbody tr th {\n",
       "        vertical-align: top;\n",
       "    }\n",
       "\n",
       "    .dataframe thead th {\n",
       "        text-align: right;\n",
       "    }\n",
       "</style>\n",
       "<table border=\"1\" class=\"dataframe\">\n",
       "  <thead>\n",
       "    <tr style=\"text-align: right;\">\n",
       "      <th></th>\n",
       "      <th>credit_card</th>\n",
       "      <th>date</th>\n",
       "      <th>amount</th>\n",
       "      <th>Long</th>\n",
       "      <th>Lat</th>\n",
       "      <th>25%</th>\n",
       "      <th>50%</th>\n",
       "      <th>75%</th>\n",
       "      <th>credit_limit</th>\n",
       "    </tr>\n",
       "  </thead>\n",
       "  <tbody>\n",
       "    <tr>\n",
       "      <th>294583</th>\n",
       "      <td>9999757432802760</td>\n",
       "      <td>2015-09-10 19:43:33</td>\n",
       "      <td>127.23</td>\n",
       "      <td>-82.360952</td>\n",
       "      <td>32.978497</td>\n",
       "      <td>83.74</td>\n",
       "      <td>130.94</td>\n",
       "      <td>177.905</td>\n",
       "      <td>6000</td>\n",
       "    </tr>\n",
       "    <tr>\n",
       "      <th>294584</th>\n",
       "      <td>9999757432802760</td>\n",
       "      <td>2015-08-06 21:00:13</td>\n",
       "      <td>84.90</td>\n",
       "      <td>-82.322721</td>\n",
       "      <td>33.061071</td>\n",
       "      <td>83.74</td>\n",
       "      <td>130.94</td>\n",
       "      <td>177.905</td>\n",
       "      <td>6000</td>\n",
       "    </tr>\n",
       "    <tr>\n",
       "      <th>294585</th>\n",
       "      <td>9999757432802760</td>\n",
       "      <td>2015-09-22 16:15:47</td>\n",
       "      <td>77.54</td>\n",
       "      <td>-82.442130</td>\n",
       "      <td>32.949983</td>\n",
       "      <td>83.74</td>\n",
       "      <td>130.94</td>\n",
       "      <td>177.905</td>\n",
       "      <td>6000</td>\n",
       "    </tr>\n",
       "    <tr>\n",
       "      <th>294586</th>\n",
       "      <td>9999757432802760</td>\n",
       "      <td>2015-08-27 18:08:24</td>\n",
       "      <td>144.05</td>\n",
       "      <td>-82.398587</td>\n",
       "      <td>32.976162</td>\n",
       "      <td>83.74</td>\n",
       "      <td>130.94</td>\n",
       "      <td>177.905</td>\n",
       "      <td>6000</td>\n",
       "    </tr>\n",
       "    <tr>\n",
       "      <th>294587</th>\n",
       "      <td>9999757432802760</td>\n",
       "      <td>2015-08-22 00:14:52</td>\n",
       "      <td>154.36</td>\n",
       "      <td>-82.389680</td>\n",
       "      <td>33.068351</td>\n",
       "      <td>83.74</td>\n",
       "      <td>130.94</td>\n",
       "      <td>177.905</td>\n",
       "      <td>6000</td>\n",
       "    </tr>\n",
       "  </tbody>\n",
       "</table>\n",
       "</div>"
      ],
      "text/plain": [
       "             credit_card                date  amount       Long        Lat  \\\n",
       "294583  9999757432802760 2015-09-10 19:43:33  127.23 -82.360952  32.978497   \n",
       "294584  9999757432802760 2015-08-06 21:00:13   84.90 -82.322721  33.061071   \n",
       "294585  9999757432802760 2015-09-22 16:15:47   77.54 -82.442130  32.949983   \n",
       "294586  9999757432802760 2015-08-27 18:08:24  144.05 -82.398587  32.976162   \n",
       "294587  9999757432802760 2015-08-22 00:14:52  154.36 -82.389680  33.068351   \n",
       "\n",
       "          25%     50%      75%  credit_limit  \n",
       "294583  83.74  130.94  177.905          6000  \n",
       "294584  83.74  130.94  177.905          6000  \n",
       "294585  83.74  130.94  177.905          6000  \n",
       "294586  83.74  130.94  177.905          6000  \n",
       "294587  83.74  130.94  177.905          6000  "
      ]
     },
     "execution_count": 16,
     "metadata": {},
     "output_type": "execute_result"
    }
   ],
   "source": [
    "transactions.tail()"
   ]
  },
  {
   "cell_type": "code",
   "execution_count": 17,
   "metadata": {},
   "outputs": [],
   "source": [
    "# save it for later use\n",
    "transactions.to_csv('extend_transactions.csv',index=False)"
   ]
  },
  {
   "cell_type": "markdown",
   "metadata": {},
   "source": [
    "### Reduce dimensions and visualize"
   ]
  },
  {
   "cell_type": "markdown",
   "metadata": {},
   "source": [
    "we only care about current amount and previous consumption history, so we can keep those useful features"
   ]
  },
  {
   "cell_type": "code",
   "execution_count": 18,
   "metadata": {},
   "outputs": [],
   "source": [
    "X = transactions.loc[:,['amount','25%','50%','75%','credit_limit']]"
   ]
  },
  {
   "cell_type": "code",
   "execution_count": 19,
   "metadata": {},
   "outputs": [
    {
     "data": {
      "text/html": [
       "<div>\n",
       "<style scoped>\n",
       "    .dataframe tbody tr th:only-of-type {\n",
       "        vertical-align: middle;\n",
       "    }\n",
       "\n",
       "    .dataframe tbody tr th {\n",
       "        vertical-align: top;\n",
       "    }\n",
       "\n",
       "    .dataframe thead th {\n",
       "        text-align: right;\n",
       "    }\n",
       "</style>\n",
       "<table border=\"1\" class=\"dataframe\">\n",
       "  <thead>\n",
       "    <tr style=\"text-align: right;\">\n",
       "      <th></th>\n",
       "      <th>amount</th>\n",
       "      <th>25%</th>\n",
       "      <th>50%</th>\n",
       "      <th>75%</th>\n",
       "      <th>credit_limit</th>\n",
       "    </tr>\n",
       "  </thead>\n",
       "  <tbody>\n",
       "    <tr>\n",
       "      <th>count</th>\n",
       "      <td>294588.000000</td>\n",
       "      <td>294588.000000</td>\n",
       "      <td>294588.000000</td>\n",
       "      <td>294588.000000</td>\n",
       "      <td>294588.000000</td>\n",
       "    </tr>\n",
       "    <tr>\n",
       "      <th>mean</th>\n",
       "      <td>86.008036</td>\n",
       "      <td>43.265113</td>\n",
       "      <td>69.081697</td>\n",
       "      <td>97.282645</td>\n",
       "      <td>15502.053716</td>\n",
       "    </tr>\n",
       "    <tr>\n",
       "      <th>std</th>\n",
       "      <td>124.655954</td>\n",
       "      <td>21.471896</td>\n",
       "      <td>35.160028</td>\n",
       "      <td>49.919646</td>\n",
       "      <td>7956.291556</td>\n",
       "    </tr>\n",
       "    <tr>\n",
       "      <th>min</th>\n",
       "      <td>0.010000</td>\n",
       "      <td>6.150000</td>\n",
       "      <td>7.320000</td>\n",
       "      <td>9.120000</td>\n",
       "      <td>2000.000000</td>\n",
       "    </tr>\n",
       "    <tr>\n",
       "      <th>25%</th>\n",
       "      <td>29.970000</td>\n",
       "      <td>27.960000</td>\n",
       "      <td>43.590000</td>\n",
       "      <td>60.812500</td>\n",
       "      <td>10000.000000</td>\n",
       "    </tr>\n",
       "    <tr>\n",
       "      <th>50%</th>\n",
       "      <td>58.470000</td>\n",
       "      <td>40.595000</td>\n",
       "      <td>65.190000</td>\n",
       "      <td>91.832500</td>\n",
       "      <td>15000.000000</td>\n",
       "    </tr>\n",
       "    <tr>\n",
       "      <th>75%</th>\n",
       "      <td>100.400000</td>\n",
       "      <td>56.215000</td>\n",
       "      <td>89.710000</td>\n",
       "      <td>127.345000</td>\n",
       "      <td>20000.000000</td>\n",
       "    </tr>\n",
       "    <tr>\n",
       "      <th>max</th>\n",
       "      <td>999.970000</td>\n",
       "      <td>137.690000</td>\n",
       "      <td>222.290000</td>\n",
       "      <td>318.730000</td>\n",
       "      <td>55000.000000</td>\n",
       "    </tr>\n",
       "  </tbody>\n",
       "</table>\n",
       "</div>"
      ],
      "text/plain": [
       "              amount            25%            50%            75%  \\\n",
       "count  294588.000000  294588.000000  294588.000000  294588.000000   \n",
       "mean       86.008036      43.265113      69.081697      97.282645   \n",
       "std       124.655954      21.471896      35.160028      49.919646   \n",
       "min         0.010000       6.150000       7.320000       9.120000   \n",
       "25%        29.970000      27.960000      43.590000      60.812500   \n",
       "50%        58.470000      40.595000      65.190000      91.832500   \n",
       "75%       100.400000      56.215000      89.710000     127.345000   \n",
       "max       999.970000     137.690000     222.290000     318.730000   \n",
       "\n",
       "        credit_limit  \n",
       "count  294588.000000  \n",
       "mean    15502.053716  \n",
       "std      7956.291556  \n",
       "min      2000.000000  \n",
       "25%     10000.000000  \n",
       "50%     15000.000000  \n",
       "75%     20000.000000  \n",
       "max     55000.000000  "
      ]
     },
     "execution_count": 19,
     "metadata": {},
     "output_type": "execute_result"
    }
   ],
   "source": [
    "X.describe()"
   ]
  },
  {
   "cell_type": "markdown",
   "metadata": {},
   "source": [
    "then I want to reduce X to 2D, and visualize it to get some hint. However, <span style='color:orange'>since credit_limit has much higher variance, I need to scale each feature to unit variance before applying PCA</span>, otherwise, the principle components will be highly aligned with 'credit_limit' which doesn't provide useful information."
   ]
  },
  {
   "cell_type": "code",
   "execution_count": 20,
   "metadata": {},
   "outputs": [
    {
     "name": "stderr",
     "output_type": "stream",
     "text": [
      "C:\\Users\\Vin\\Anaconda3\\lib\\site-packages\\ipykernel_launcher.py:1: DataConversionWarning: Data with input dtype int64, float64 were all converted to float64 by the scale function.\n",
      "  \"\"\"Entry point for launching an IPython kernel.\n"
     ]
    }
   ],
   "source": [
    "X = scale(X)"
   ]
  },
  {
   "cell_type": "markdown",
   "metadata": {},
   "source": [
    "Use PCA to reduce feature matrix to 2D"
   ]
  },
  {
   "cell_type": "code",
   "execution_count": 21,
   "metadata": {},
   "outputs": [],
   "source": [
    "pca = PCA(n_components=2)\n",
    "X2d = pca.fit_transform(X)\n",
    "X2d = pd.DataFrame(X2d,columns=['pc1','pc2'])"
   ]
  },
  {
   "cell_type": "code",
   "execution_count": 22,
   "metadata": {},
   "outputs": [
    {
     "data": {
      "text/plain": [
       "<matplotlib.collections.PathCollection at 0x157f063ff98>"
      ]
     },
     "execution_count": 22,
     "metadata": {},
     "output_type": "execute_result"
    },
    {
     "data": {
      "image/png": "[encoded data removed]",
      "text/plain": [
       "<Figure size 432x288 with 1 Axes>"
      ]
     },
     "metadata": {
      "needs_background": "light"
     },
     "output_type": "display_data"
    }
   ],
   "source": [
    "plt.scatter(X2d.pc1,X2d.pc2,alpha=0.3)"
   ]
  },
  {
   "cell_type": "markdown",
   "metadata": {},
   "source": [
    "### Kmeans to cluster"
   ]
  },
  {
   "cell_type": "markdown",
   "metadata": {},
   "source": [
    "above plot shows a good sign, that is, the data is well seperated. also above plot give me some hint, may be the data can be grouped into 6 clusters.\n",
    "\n",
    "then I use Kmeans algorithm to perform the clustering."
   ]
  },
  {
   "cell_type": "code",
   "execution_count": 23,
   "metadata": {},
   "outputs": [
    {
     "data": {
      "text/plain": [
       "KMeans(algorithm='auto', copy_x=True, init='k-means++', max_iter=300,\n",
       "    n_clusters=6, n_init=10, n_jobs=-1, precompute_distances='auto',\n",
       "    random_state=None, tol=0.0001, verbose=0)"
      ]
     },
     "execution_count": 23,
     "metadata": {},
     "output_type": "execute_result"
    }
   ],
   "source": [
    "n_clusters = 6\n",
    "kmeans = KMeans(n_clusters=n_clusters,n_jobs=-1)\n",
    "kmeans.fit(X)"
   ]
  },
  {
   "cell_type": "code",
   "execution_count": 25,
   "metadata": {},
   "outputs": [
    {
     "name": "stdout",
     "output_type": "stream",
     "text": [
      "4    107720\n",
      "0     73493\n",
      "1     49118\n",
      "5     32989\n",
      "2     25832\n",
      "3      5436\n",
      "Name: label, dtype: int64\n"
     ]
    }
   ],
   "source": [
    "X2d['label'] = kmeans.labels_\n",
    "print (X2d.label.value_counts())"
   ]
  },
  {
   "cell_type": "markdown",
   "metadata": {},
   "source": [
    "above result also show a good sign, cluster 3 has apparently fewer transcations compared with others. This makes senses, because fraud activity, isn't that normal.\n",
    "\n",
    "then I plot the clusters in 2D, to check their distribution."
   ]
  },
  {
   "cell_type": "code",
   "execution_count": 27,
   "metadata": {},
   "outputs": [
    {
     "data": {
      "text/plain": [
       "<matplotlib.legend.Legend at 0x157f4501d30>"
      ]
     },
     "execution_count": 27,
     "metadata": {},
     "output_type": "execute_result"
    },
    {
     "data": {
      "image/png": "[encoded data removed]",
      "text/plain": [
       "<Figure size 720x432 with 1 Axes>"
      ]
     },
     "metadata": {
      "needs_background": "light"
     },
     "output_type": "display_data"
    }
   ],
   "source": [
    "colors = itertools.cycle( ['r','g','b','c','m','y','k'] )\n",
    "\n",
    "plt.rc('figure',figsize=(10,6))\n",
    "for label in  range(n_clusters) :\n",
    "    temp = X2d.loc[X2d.label == label,:]\n",
    "    plt.scatter(temp.pc1,temp.pc2,c=next(colors),label=label,alpha=0.3)\n",
    "\n",
    "plt.legend(loc='best')"
   ]
  },
  {
   "cell_type": "code",
   "execution_count": 28,
   "metadata": {},
   "outputs": [
    {
     "data": {
      "text/html": [
       "<div>\n",
       "<style scoped>\n",
       "    .dataframe tbody tr th:only-of-type {\n",
       "        vertical-align: middle;\n",
       "    }\n",
       "\n",
       "    .dataframe tbody tr th {\n",
       "        vertical-align: top;\n",
       "    }\n",
       "\n",
       "    .dataframe thead th {\n",
       "        text-align: right;\n",
       "    }\n",
       "</style>\n",
       "<table border=\"1\" class=\"dataframe\">\n",
       "  <thead>\n",
       "    <tr style=\"text-align: right;\">\n",
       "      <th></th>\n",
       "      <th>pc1</th>\n",
       "      <th>pc2</th>\n",
       "      <th>label</th>\n",
       "    </tr>\n",
       "  </thead>\n",
       "  <tbody>\n",
       "    <tr>\n",
       "      <th>0</th>\n",
       "      <td>1.184559</td>\n",
       "      <td>-0.583757</td>\n",
       "      <td>1</td>\n",
       "    </tr>\n",
       "    <tr>\n",
       "      <th>1</th>\n",
       "      <td>1.277856</td>\n",
       "      <td>-0.117918</td>\n",
       "      <td>1</td>\n",
       "    </tr>\n",
       "    <tr>\n",
       "      <th>2</th>\n",
       "      <td>1.192055</td>\n",
       "      <td>-0.546330</td>\n",
       "      <td>1</td>\n",
       "    </tr>\n",
       "    <tr>\n",
       "      <th>3</th>\n",
       "      <td>1.329760</td>\n",
       "      <td>0.141247</td>\n",
       "      <td>1</td>\n",
       "    </tr>\n",
       "    <tr>\n",
       "      <th>4</th>\n",
       "      <td>1.228622</td>\n",
       "      <td>-0.363745</td>\n",
       "      <td>1</td>\n",
       "    </tr>\n",
       "  </tbody>\n",
       "</table>\n",
       "</div>"
      ],
      "text/plain": [
       "        pc1       pc2  label\n",
       "0  1.184559 -0.583757      1\n",
       "1  1.277856 -0.117918      1\n",
       "2  1.192055 -0.546330      1\n",
       "3  1.329760  0.141247      1\n",
       "4  1.228622 -0.363745      1"
      ]
     },
     "execution_count": 28,
     "metadata": {},
     "output_type": "execute_result"
    }
   ],
   "source": [
    "X2d.head()"
   ]
  },
  {
   "cell_type": "code",
   "execution_count": 29,
   "metadata": {},
   "outputs": [
    {
     "data": {
      "image/png": "[encoded data removed]",
      "text/plain": [
       "<Figure size 262.6x216 with 1 Axes>"
      ]
     },
     "metadata": {
      "needs_background": "light"
     },
     "output_type": "display_data"
    }
   ],
   "source": [
    "g = sns.FacetGrid(X2d, hue=\"label\")\n",
    "g.map(plt.scatter, \"pc1\", \"pc2\", alpha=0.3)\n",
    "g.add_legend();"
   ]
  },
  {
   "cell_type": "markdown",
   "metadata": {},
   "source": [
    "### Check the result\n",
    "the cyan points represents the suspicious transactions. Let's pick those transactions out, and check whether they make sense or not."
   ]
  },
  {
   "cell_type": "code",
   "execution_count": 33,
   "metadata": {},
   "outputs": [
    {
     "data": {
      "text/plain": [
       "3"
      ]
     },
     "execution_count": 33,
     "metadata": {},
     "output_type": "execute_result"
    }
   ],
   "source": [
    "suspicious_label = X2d.label.value_counts().idxmin()\n",
    "suspicious_label"
   ]
  },
  {
   "cell_type": "code",
   "execution_count": 34,
   "metadata": {},
   "outputs": [],
   "source": [
    "suspect = transactions.loc[X2d.label==suspicious_label,['credit_card','amount','25%','50%','75%','credit_limit','date']]\n",
    "suspect.to_csv('suspect.csv',index=False)"
   ]
  },
  {
   "cell_type": "code",
   "execution_count": 35,
   "metadata": {},
   "outputs": [
    {
     "data": {
      "text/html": [
       "<div>\n",
       "<style scoped>\n",
       "    .dataframe tbody tr th:only-of-type {\n",
       "        vertical-align: middle;\n",
       "    }\n",
       "\n",
       "    .dataframe tbody tr th {\n",
       "        vertical-align: top;\n",
       "    }\n",
       "\n",
       "    .dataframe thead th {\n",
       "        text-align: right;\n",
       "    }\n",
       "</style>\n",
       "<table border=\"1\" class=\"dataframe\">\n",
       "  <thead>\n",
       "    <tr style=\"text-align: right;\">\n",
       "      <th></th>\n",
       "      <th>credit_card</th>\n",
       "      <th>amount</th>\n",
       "      <th>25%</th>\n",
       "      <th>50%</th>\n",
       "      <th>75%</th>\n",
       "      <th>credit_limit</th>\n",
       "      <th>date</th>\n",
       "    </tr>\n",
       "  </thead>\n",
       "  <tbody>\n",
       "    <tr>\n",
       "      <th>53061</th>\n",
       "      <td>2620704021218241</td>\n",
       "      <td>816.00</td>\n",
       "      <td>107.7750</td>\n",
       "      <td>177.025</td>\n",
       "      <td>255.8275</td>\n",
       "      <td>20000</td>\n",
       "      <td>2015-10-11 21:21:53</td>\n",
       "    </tr>\n",
       "    <tr>\n",
       "      <th>50904</th>\n",
       "      <td>2544794177165766</td>\n",
       "      <td>879.36</td>\n",
       "      <td>42.7000</td>\n",
       "      <td>64.180</td>\n",
       "      <td>94.8000</td>\n",
       "      <td>18000</td>\n",
       "      <td>2015-08-23 17:37:36</td>\n",
       "    </tr>\n",
       "    <tr>\n",
       "      <th>28268</th>\n",
       "      <td>1818161941088271</td>\n",
       "      <td>899.61</td>\n",
       "      <td>26.2600</td>\n",
       "      <td>37.430</td>\n",
       "      <td>52.4700</td>\n",
       "      <td>6000</td>\n",
       "      <td>2015-09-11 01:21:02</td>\n",
       "    </tr>\n",
       "    <tr>\n",
       "      <th>209716</th>\n",
       "      <td>7253140926151893</td>\n",
       "      <td>861.23</td>\n",
       "      <td>12.7100</td>\n",
       "      <td>17.610</td>\n",
       "      <td>24.8600</td>\n",
       "      <td>9000</td>\n",
       "      <td>2015-10-22 17:06:06</td>\n",
       "    </tr>\n",
       "    <tr>\n",
       "      <th>195565</th>\n",
       "      <td>6873200773836131</td>\n",
       "      <td>803.03</td>\n",
       "      <td>23.6600</td>\n",
       "      <td>37.000</td>\n",
       "      <td>51.0750</td>\n",
       "      <td>14000</td>\n",
       "      <td>2015-08-11 23:05:35</td>\n",
       "    </tr>\n",
       "    <tr>\n",
       "      <th>209220</th>\n",
       "      <td>7246108290515977</td>\n",
       "      <td>871.44</td>\n",
       "      <td>45.5850</td>\n",
       "      <td>69.580</td>\n",
       "      <td>101.3750</td>\n",
       "      <td>16000</td>\n",
       "      <td>2015-10-14 21:28:06</td>\n",
       "    </tr>\n",
       "    <tr>\n",
       "      <th>63388</th>\n",
       "      <td>3053439628501145</td>\n",
       "      <td>980.36</td>\n",
       "      <td>32.0700</td>\n",
       "      <td>51.390</td>\n",
       "      <td>72.4300</td>\n",
       "      <td>15000</td>\n",
       "      <td>2015-10-07 20:36:47</td>\n",
       "    </tr>\n",
       "    <tr>\n",
       "      <th>103602</th>\n",
       "      <td>4140252840629305</td>\n",
       "      <td>875.57</td>\n",
       "      <td>91.0950</td>\n",
       "      <td>151.020</td>\n",
       "      <td>218.0825</td>\n",
       "      <td>40000</td>\n",
       "      <td>2015-10-02 23:20:09</td>\n",
       "    </tr>\n",
       "    <tr>\n",
       "      <th>239880</th>\n",
       "      <td>8152578549627680</td>\n",
       "      <td>883.60</td>\n",
       "      <td>13.9075</td>\n",
       "      <td>21.505</td>\n",
       "      <td>29.8125</td>\n",
       "      <td>14000</td>\n",
       "      <td>2015-08-06 19:57:07</td>\n",
       "    </tr>\n",
       "    <tr>\n",
       "      <th>176343</th>\n",
       "      <td>6201975636402458</td>\n",
       "      <td>889.36</td>\n",
       "      <td>15.8400</td>\n",
       "      <td>22.730</td>\n",
       "      <td>28.9850</td>\n",
       "      <td>4000</td>\n",
       "      <td>2015-10-04 17:58:35</td>\n",
       "    </tr>\n",
       "  </tbody>\n",
       "</table>\n",
       "</div>"
      ],
      "text/plain": [
       "             credit_card  amount       25%      50%       75%  credit_limit  \\\n",
       "53061   2620704021218241  816.00  107.7750  177.025  255.8275         20000   \n",
       "50904   2544794177165766  879.36   42.7000   64.180   94.8000         18000   \n",
       "28268   1818161941088271  899.61   26.2600   37.430   52.4700          6000   \n",
       "209716  7253140926151893  861.23   12.7100   17.610   24.8600          9000   \n",
       "195565  6873200773836131  803.03   23.6600   37.000   51.0750         14000   \n",
       "209220  7246108290515977  871.44   45.5850   69.580  101.3750         16000   \n",
       "63388   3053439628501145  980.36   32.0700   51.390   72.4300         15000   \n",
       "103602  4140252840629305  875.57   91.0950  151.020  218.0825         40000   \n",
       "239880  8152578549627680  883.60   13.9075   21.505   29.8125         14000   \n",
       "176343  6201975636402458  889.36   15.8400   22.730   28.9850          4000   \n",
       "\n",
       "                      date  \n",
       "53061  2015-10-11 21:21:53  \n",
       "50904  2015-08-23 17:37:36  \n",
       "28268  2015-09-11 01:21:02  \n",
       "209716 2015-10-22 17:06:06  \n",
       "195565 2015-08-11 23:05:35  \n",
       "209220 2015-10-14 21:28:06  \n",
       "63388  2015-10-07 20:36:47  \n",
       "103602 2015-10-02 23:20:09  \n",
       "239880 2015-08-06 19:57:07  \n",
       "176343 2015-10-04 17:58:35  "
      ]
     },
     "execution_count": 35,
     "metadata": {},
     "output_type": "execute_result"
    }
   ],
   "source": [
    "suspect.sample(10)"
   ]
  },
  {
   "cell_type": "markdown",
   "metadata": {},
   "source": [
    "open 'suspect.csv' or see the randomly sampled suspicious transactions list above, we can find <span style='color:orange;font-weight:bold;font-size:1.5em'>their amount is much higher than that user's 75th percentile in his previous consumption history.</span>\n",
    "\n",
    "for example, in 12697-th transaction, that user's 75th percentile is 89.04, then suddenly it comes a transaction with 977.38, which is very suspicious and need further investigation. "
   ]
  },
  {
   "cell_type": "code",
   "execution_count": 36,
   "metadata": {},
   "outputs": [
    {
     "data": {
      "text/plain": [
       "<matplotlib.legend.Legend at 0x1578148a668>"
      ]
     },
     "execution_count": 36,
     "metadata": {},
     "output_type": "execute_result"
    },
    {
     "data": {
      "image/png": "[encoded data removed]",
      "text/plain": [
       "<Figure size 720x432 with 1 Axes>"
      ]
     },
     "metadata": {
      "needs_background": "light"
     },
     "output_type": "display_data"
    }
   ],
   "source": [
    "labels = [\"amount\",'75%']\n",
    "plt.hist(suspect.loc[:,labels].values,bins=50,label=labels)\n",
    "plt.legend(loc='best')"
   ]
  },
  {
   "cell_type": "markdown",
   "metadata": {},
   "source": [
    "histogram of the \"consumption amount\" and that user's 75th percentile of consumption records, also shows, <span style='color:orange;font-weight:bold;font-size:1.5em'>selected transaction has 'amount' much higher than '75th percentile', which is very suspicious and worth further investigation.</span>"
   ]
  },
  {
   "cell_type": "code",
   "execution_count": null,
   "metadata": {
    "collapsed": true
   },
   "outputs": [],
   "source": []
  }
 ],
 "metadata": {
  "anaconda-cloud": {},
  "kernelspec": {
   "display_name": "Python 3",
   "language": "python",
   "name": "python3"
  },
  "language_info": {
   "codemirror_mode": {
    "name": "ipython",
    "version": 3
   },
   "file_extension": ".py",
   "mimetype": "text/x-python",
   "name": "python",
   "nbconvert_exporter": "python",
   "pygments_lexer": "ipython3",
   "version": "3.7.4"
  }
 },
 "nbformat": 4,
 "nbformat_minor": 1
}
