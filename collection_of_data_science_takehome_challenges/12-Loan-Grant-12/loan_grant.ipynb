{
 "cells": [
  {
   "cell_type": "code",
   "execution_count": 2,
   "metadata": {},
   "outputs": [],
   "source": [
    "import itertools\n",
    "import numpy as np\n",
    "import pandas as pd\n",
    "\n",
    "from sklearn.model_selection import train_test_split\n",
    "from sklearn.metrics import classification_report,accuracy_score\n",
    "from sklearn.metrics import roc_curve\n",
    "import xgboost as xgb\n",
    "\n",
    "import matplotlib.pyplot as plt\n",
    "plt.style.use('ggplot')\n",
    "%matplotlib inline"
   ]
  },
  {
   "cell_type": "code",
   "execution_count": 3,
   "metadata": {},
   "outputs": [],
   "source": [
    "seed = 999 # seed to generate random numbers"
   ]
  },
  {
   "cell_type": "markdown",
   "metadata": {},
   "source": [
    "# Index\n",
    "* [Load the data](#Load-the-data)\n",
    "* [Generate target](#Generate-target)\n",
    "* [Feature Engineering](#Feature-Engineering)\n",
    "    * [Dealing previous loan history](#Dealing-previous-loan-history)\n",
    "    * [Employment information](#Employment-status-and-salary)\n",
    "    * [One-Hot-Encoding features](#One-Hot-Encoding-purpose)\n",
    "* [Train the model](#Train-the-model)\n",
    "* [Choose best probability cutoff](#Choose-best-probablity-cutoff)\n",
    "* [Re-train the model with all training data](#Re-train-the-model-with-all-training-data)\n",
    "* [Test](#Test)\n",
    "* [Feature importance](#Feature-importance)\n",
    "* [Extra useful features](#Extra-useful-features)\n",
    "* Answer Questions\n",
    "    * [Answer question 2](#Test)\n",
    "    * [Answer question 3](#q3)\n",
    "    * [Answer question 4](#Extra-useful-features)"
   ]
  },
  {
   "cell_type": "markdown",
   "metadata": {},
   "source": [
    "## Load the data"
   ]
  },
  {
   "cell_type": "code",
   "execution_count": 4,
   "metadata": {},
   "outputs": [],
   "source": [
    "loan = pd.read_csv(\"loan_table.csv\",index_col='loan_id')\n",
    "# rename columns to short name, which is easier to visualize\n",
    "loan.rename(columns={'loan_purpose':'purpose',\n",
    "                     'loan_granted':'granted',\n",
    "                     'loan_repaid':'repaid'},inplace=True)\n",
    "loan['date'] = pd.to_datetime(loan.date)"
   ]
  },
  {
   "cell_type": "code",
   "execution_count": 5,
   "metadata": {},
   "outputs": [],
   "source": [
    "borrower = pd.read_csv(\"borrower_table.csv\",index_col='loan_id')\n",
    "# rename columns to short name, which is easier to visualize\n",
    "borrower.rename(columns={'is_first_loan':'is_first',\n",
    "                         'fully_repaid_previous_loans':'repay_prev',\n",
    "                         'currently_repaying_other_loans':'paying_others',\n",
    "                         'total_credit_card_limit':'credit_limit',\n",
    "                         'avg_percentage_credit_card_limit_used_last_year':'credit_used',\n",
    "                         'saving_amount':'saving',\n",
    "                         'checking_amount':'checking',\n",
    "                         'yearly_salary':'salary',\n",
    "                         'dependent_number':'n_depends'},inplace=True)"
   ]
  },
  {
   "cell_type": "code",
   "execution_count": 6,
   "metadata": {},
   "outputs": [],
   "source": [
    "# merge loan information and borrow information together\n",
    "loan = borrower.join(loan)"
   ]
  },
  {
   "cell_type": "code",
   "execution_count": 7,
   "metadata": {},
   "outputs": [
    {
     "data": {
      "text/html": [
       "<div>\n",
       "<style scoped>\n",
       "    .dataframe tbody tr th:only-of-type {\n",
       "        vertical-align: middle;\n",
       "    }\n",
       "\n",
       "    .dataframe tbody tr th {\n",
       "        vertical-align: top;\n",
       "    }\n",
       "\n",
       "    .dataframe thead th {\n",
       "        text-align: right;\n",
       "    }\n",
       "</style>\n",
       "<table border=\"1\" class=\"dataframe\">\n",
       "  <thead>\n",
       "    <tr style=\"text-align: right;\">\n",
       "      <th></th>\n",
       "      <th>is_first</th>\n",
       "      <th>repay_prev</th>\n",
       "      <th>paying_others</th>\n",
       "      <th>credit_limit</th>\n",
       "      <th>credit_used</th>\n",
       "      <th>saving</th>\n",
       "      <th>checking</th>\n",
       "      <th>is_employed</th>\n",
       "      <th>salary</th>\n",
       "      <th>age</th>\n",
       "      <th>n_depends</th>\n",
       "      <th>purpose</th>\n",
       "      <th>date</th>\n",
       "      <th>granted</th>\n",
       "      <th>repaid</th>\n",
       "    </tr>\n",
       "    <tr>\n",
       "      <th>loan_id</th>\n",
       "      <th></th>\n",
       "      <th></th>\n",
       "      <th></th>\n",
       "      <th></th>\n",
       "      <th></th>\n",
       "      <th></th>\n",
       "      <th></th>\n",
       "      <th></th>\n",
       "      <th></th>\n",
       "      <th></th>\n",
       "      <th></th>\n",
       "      <th></th>\n",
       "      <th></th>\n",
       "      <th></th>\n",
       "      <th></th>\n",
       "    </tr>\n",
       "  </thead>\n",
       "  <tbody>\n",
       "    <tr>\n",
       "      <th>773800</th>\n",
       "      <td>0</td>\n",
       "      <td>1.0</td>\n",
       "      <td>0.0</td>\n",
       "      <td>5000</td>\n",
       "      <td>0.74</td>\n",
       "      <td>1467</td>\n",
       "      <td>1946</td>\n",
       "      <td>0</td>\n",
       "      <td>0</td>\n",
       "      <td>55</td>\n",
       "      <td>1</td>\n",
       "      <td>home</td>\n",
       "      <td>2012-04-09</td>\n",
       "      <td>0</td>\n",
       "      <td>NaN</td>\n",
       "    </tr>\n",
       "    <tr>\n",
       "      <th>420677</th>\n",
       "      <td>1</td>\n",
       "      <td>NaN</td>\n",
       "      <td>NaN</td>\n",
       "      <td>7500</td>\n",
       "      <td>0.71</td>\n",
       "      <td>2625</td>\n",
       "      <td>6144</td>\n",
       "      <td>1</td>\n",
       "      <td>39900</td>\n",
       "      <td>35</td>\n",
       "      <td>6</td>\n",
       "      <td>home</td>\n",
       "      <td>2012-02-15</td>\n",
       "      <td>1</td>\n",
       "      <td>1.0</td>\n",
       "    </tr>\n",
       "    <tr>\n",
       "      <th>23056</th>\n",
       "      <td>0</td>\n",
       "      <td>1.0</td>\n",
       "      <td>0.0</td>\n",
       "      <td>0</td>\n",
       "      <td>NaN</td>\n",
       "      <td>850</td>\n",
       "      <td>2820</td>\n",
       "      <td>1</td>\n",
       "      <td>17100</td>\n",
       "      <td>30</td>\n",
       "      <td>3</td>\n",
       "      <td>emergency_funds</td>\n",
       "      <td>2012-02-21</td>\n",
       "      <td>0</td>\n",
       "      <td>NaN</td>\n",
       "    </tr>\n",
       "    <tr>\n",
       "      <th>964618</th>\n",
       "      <td>0</td>\n",
       "      <td>1.0</td>\n",
       "      <td>0.0</td>\n",
       "      <td>4800</td>\n",
       "      <td>0.56</td>\n",
       "      <td>4477</td>\n",
       "      <td>1395</td>\n",
       "      <td>0</td>\n",
       "      <td>0</td>\n",
       "      <td>33</td>\n",
       "      <td>8</td>\n",
       "      <td>emergency_funds</td>\n",
       "      <td>2012-07-16</td>\n",
       "      <td>0</td>\n",
       "      <td>NaN</td>\n",
       "    </tr>\n",
       "    <tr>\n",
       "      <th>528958</th>\n",
       "      <td>1</td>\n",
       "      <td>NaN</td>\n",
       "      <td>NaN</td>\n",
       "      <td>3300</td>\n",
       "      <td>0.61</td>\n",
       "      <td>1662</td>\n",
       "      <td>2216</td>\n",
       "      <td>1</td>\n",
       "      <td>10400</td>\n",
       "      <td>29</td>\n",
       "      <td>3</td>\n",
       "      <td>emergency_funds</td>\n",
       "      <td>2012-10-30</td>\n",
       "      <td>1</td>\n",
       "      <td>0.0</td>\n",
       "    </tr>\n",
       "  </tbody>\n",
       "</table>\n",
       "</div>"
      ],
      "text/plain": [
       "         is_first  repay_prev  paying_others  credit_limit  credit_used  \\\n",
       "loan_id                                                                   \n",
       "773800          0         1.0            0.0          5000         0.74   \n",
       "420677          1         NaN            NaN          7500         0.71   \n",
       "23056           0         1.0            0.0             0          NaN   \n",
       "964618          0         1.0            0.0          4800         0.56   \n",
       "528958          1         NaN            NaN          3300         0.61   \n",
       "\n",
       "         saving  checking  is_employed  salary  age  n_depends  \\\n",
       "loan_id                                                          \n",
       "773800     1467      1946            0       0   55          1   \n",
       "420677     2625      6144            1   39900   35          6   \n",
       "23056       850      2820            1   17100   30          3   \n",
       "964618     4477      1395            0       0   33          8   \n",
       "528958     1662      2216            1   10400   29          3   \n",
       "\n",
       "                 purpose       date  granted  repaid  \n",
       "loan_id                                               \n",
       "773800              home 2012-04-09        0     NaN  \n",
       "420677              home 2012-02-15        1     1.0  \n",
       "23056    emergency_funds 2012-02-21        0     NaN  \n",
       "964618   emergency_funds 2012-07-16        0     NaN  \n",
       "528958   emergency_funds 2012-10-30        1     0.0  "
      ]
     },
     "execution_count": 7,
     "metadata": {},
     "output_type": "execute_result"
    }
   ],
   "source": [
    "loan.sample(5)# get a feeling about the data"
   ]
  },
  {
   "cell_type": "markdown",
   "metadata": {},
   "source": [
    "## Generate target"
   ]
  },
  {
   "cell_type": "code",
   "execution_count": 8,
   "metadata": {},
   "outputs": [],
   "source": [
    "def calc_profit_and_should_grant(row):\n",
    "    \"\"\"\n",
    "    generate 'profit' and 'should_grant' target column according to rule:\n",
    "    1. if not granted, profit=0, should_grant=0\n",
    "    2. if granted and repaid, profit=1, should_grant=1\n",
    "    3. if granted and not repaid, profit=-1, should_grant=0\n",
    "    \"\"\"\n",
    "    granted = row['granted']\n",
    "    repaid = row['repaid']\n",
    "\n",
    "    profit = 0\n",
    "    should_grant = 0\n",
    "\n",
    "    if granted == 0:\n",
    "        profit = 0\n",
    "        should_grant = 0\n",
    "    else: # granted == 1\n",
    "        assert pd.notnull(repaid)\n",
    "        profit = 1 if repaid == 1 else -1\n",
    "        should_grant = 1 if repaid == 1 else 0\n",
    "\n",
    "    return pd.Series({'profit':profit,'should_grant':should_grant})"
   ]
  },
  {
   "cell_type": "code",
   "execution_count": 9,
   "metadata": {},
   "outputs": [],
   "source": [
    "profits = loan.apply(calc_profit_and_should_grant,axis=1)"
   ]
  },
  {
   "cell_type": "code",
   "execution_count": 10,
   "metadata": {},
   "outputs": [],
   "source": [
    "loan = loan.join(profits)# merget together"
   ]
  },
  {
   "cell_type": "code",
   "execution_count": 11,
   "metadata": {},
   "outputs": [
    {
     "data": {
      "text/html": [
       "<div>\n",
       "<style scoped>\n",
       "    .dataframe tbody tr th:only-of-type {\n",
       "        vertical-align: middle;\n",
       "    }\n",
       "\n",
       "    .dataframe tbody tr th {\n",
       "        vertical-align: top;\n",
       "    }\n",
       "\n",
       "    .dataframe thead th {\n",
       "        text-align: right;\n",
       "    }\n",
       "</style>\n",
       "<table border=\"1\" class=\"dataframe\">\n",
       "  <thead>\n",
       "    <tr style=\"text-align: right;\">\n",
       "      <th></th>\n",
       "      <th>is_first</th>\n",
       "      <th>repay_prev</th>\n",
       "      <th>paying_others</th>\n",
       "      <th>credit_limit</th>\n",
       "      <th>credit_used</th>\n",
       "      <th>saving</th>\n",
       "      <th>checking</th>\n",
       "      <th>is_employed</th>\n",
       "      <th>salary</th>\n",
       "      <th>age</th>\n",
       "      <th>n_depends</th>\n",
       "      <th>purpose</th>\n",
       "      <th>date</th>\n",
       "      <th>granted</th>\n",
       "      <th>repaid</th>\n",
       "      <th>profit</th>\n",
       "      <th>should_grant</th>\n",
       "    </tr>\n",
       "    <tr>\n",
       "      <th>loan_id</th>\n",
       "      <th></th>\n",
       "      <th></th>\n",
       "      <th></th>\n",
       "      <th></th>\n",
       "      <th></th>\n",
       "      <th></th>\n",
       "      <th></th>\n",
       "      <th></th>\n",
       "      <th></th>\n",
       "      <th></th>\n",
       "      <th></th>\n",
       "      <th></th>\n",
       "      <th></th>\n",
       "      <th></th>\n",
       "      <th></th>\n",
       "      <th></th>\n",
       "      <th></th>\n",
       "    </tr>\n",
       "  </thead>\n",
       "  <tbody>\n",
       "    <tr>\n",
       "      <th>319226</th>\n",
       "      <td>1</td>\n",
       "      <td>NaN</td>\n",
       "      <td>NaN</td>\n",
       "      <td>3700</td>\n",
       "      <td>0.98</td>\n",
       "      <td>534</td>\n",
       "      <td>2428</td>\n",
       "      <td>0</td>\n",
       "      <td>0</td>\n",
       "      <td>23</td>\n",
       "      <td>7</td>\n",
       "      <td>home</td>\n",
       "      <td>2012-11-06</td>\n",
       "      <td>0</td>\n",
       "      <td>NaN</td>\n",
       "      <td>0</td>\n",
       "      <td>0</td>\n",
       "    </tr>\n",
       "    <tr>\n",
       "      <th>856836</th>\n",
       "      <td>1</td>\n",
       "      <td>NaN</td>\n",
       "      <td>NaN</td>\n",
       "      <td>6000</td>\n",
       "      <td>0.39</td>\n",
       "      <td>2016</td>\n",
       "      <td>2517</td>\n",
       "      <td>1</td>\n",
       "      <td>21500</td>\n",
       "      <td>33</td>\n",
       "      <td>2</td>\n",
       "      <td>investment</td>\n",
       "      <td>2012-09-07</td>\n",
       "      <td>1</td>\n",
       "      <td>1.0</td>\n",
       "      <td>1</td>\n",
       "      <td>1</td>\n",
       "    </tr>\n",
       "    <tr>\n",
       "      <th>764012</th>\n",
       "      <td>1</td>\n",
       "      <td>NaN</td>\n",
       "      <td>NaN</td>\n",
       "      <td>1700</td>\n",
       "      <td>0.74</td>\n",
       "      <td>1110</td>\n",
       "      <td>2267</td>\n",
       "      <td>1</td>\n",
       "      <td>28500</td>\n",
       "      <td>67</td>\n",
       "      <td>3</td>\n",
       "      <td>home</td>\n",
       "      <td>2012-04-09</td>\n",
       "      <td>1</td>\n",
       "      <td>0.0</td>\n",
       "      <td>-1</td>\n",
       "      <td>0</td>\n",
       "    </tr>\n",
       "    <tr>\n",
       "      <th>829531</th>\n",
       "      <td>0</td>\n",
       "      <td>0.0</td>\n",
       "      <td>0.0</td>\n",
       "      <td>2000</td>\n",
       "      <td>0.77</td>\n",
       "      <td>1137</td>\n",
       "      <td>1190</td>\n",
       "      <td>0</td>\n",
       "      <td>0</td>\n",
       "      <td>25</td>\n",
       "      <td>2</td>\n",
       "      <td>business</td>\n",
       "      <td>2012-11-20</td>\n",
       "      <td>0</td>\n",
       "      <td>NaN</td>\n",
       "      <td>0</td>\n",
       "      <td>0</td>\n",
       "    </tr>\n",
       "    <tr>\n",
       "      <th>217901</th>\n",
       "      <td>0</td>\n",
       "      <td>1.0</td>\n",
       "      <td>0.0</td>\n",
       "      <td>2500</td>\n",
       "      <td>0.96</td>\n",
       "      <td>1155</td>\n",
       "      <td>1797</td>\n",
       "      <td>0</td>\n",
       "      <td>0</td>\n",
       "      <td>33</td>\n",
       "      <td>1</td>\n",
       "      <td>home</td>\n",
       "      <td>2012-08-27</td>\n",
       "      <td>0</td>\n",
       "      <td>NaN</td>\n",
       "      <td>0</td>\n",
       "      <td>0</td>\n",
       "    </tr>\n",
       "  </tbody>\n",
       "</table>\n",
       "</div>"
      ],
      "text/plain": [
       "         is_first  repay_prev  paying_others  credit_limit  credit_used  \\\n",
       "loan_id                                                                   \n",
       "319226          1         NaN            NaN          3700         0.98   \n",
       "856836          1         NaN            NaN          6000         0.39   \n",
       "764012          1         NaN            NaN          1700         0.74   \n",
       "829531          0         0.0            0.0          2000         0.77   \n",
       "217901          0         1.0            0.0          2500         0.96   \n",
       "\n",
       "         saving  checking  is_employed  salary  age  n_depends     purpose  \\\n",
       "loan_id                                                                      \n",
       "319226      534      2428            0       0   23          7        home   \n",
       "856836     2016      2517            1   21500   33          2  investment   \n",
       "764012     1110      2267            1   28500   67          3        home   \n",
       "829531     1137      1190            0       0   25          2    business   \n",
       "217901     1155      1797            0       0   33          1        home   \n",
       "\n",
       "              date  granted  repaid  profit  should_grant  \n",
       "loan_id                                                    \n",
       "319226  2012-11-06        0     NaN       0             0  \n",
       "856836  2012-09-07        1     1.0       1             1  \n",
       "764012  2012-04-09        1     0.0      -1             0  \n",
       "829531  2012-11-20        0     NaN       0             0  \n",
       "217901  2012-08-27        0     NaN       0             0  "
      ]
     },
     "execution_count": 11,
     "metadata": {},
     "output_type": "execute_result"
    }
   ],
   "source": [
    "loan.sample(5)# browse the data, get a feeling about the data"
   ]
  },
  {
   "cell_type": "markdown",
   "metadata": {},
   "source": [
    "## Feature Engineering"
   ]
  },
  {
   "cell_type": "code",
   "execution_count": 12,
   "metadata": {},
   "outputs": [],
   "source": [
    "X = loan.copy()"
   ]
  },
  {
   "cell_type": "markdown",
   "metadata": {},
   "source": [
    "### Dealing previous loan history\n",
    "there is some redundacy between 'is_first', 'repay_prev' and 'paying_other' features. if 'is_first'==1, then 'repay_prev' and 'paying_others' are both NaN for sure. \n",
    "\n",
    "since I am going to use tree model, which is good at dealing with 'categorical feature', so I will treat the tree features like below:\n",
    "1. set 'NaN' in 'reay_prev' and 'paying_others' as -1, which indicates the brower is asking for loan the first time\n",
    "2. discard 'is_first' feature, since its information has already been included in '-1' in 'repay_prev' and 'paying_others'\n",
    "\n",
    "in other words, <span style='color:orange;font-size:1.5em'>I treat 'repay_others' and 'paying_others' as categorical feature, and just use ordinary Ordinal Encoding other than more-often used One-Hot-Encoding</span>. why? because ** tree model looks for cutoff in numeric feature other than calculating the distance **, and there is only 3 unique values in the feature (-1,0,1), which is very easy to find cutoff to distinguish each category."
   ]
  },
  {
   "cell_type": "code",
   "execution_count": 13,
   "metadata": {},
   "outputs": [],
   "source": [
    "X.fillna({'repay_prev':-1,'paying_others':-1},inplace=True)\n",
    "del X['is_first'] # redundant after filling missing in 'repay_prev' and 'paying_others'"
   ]
  },
  {
   "cell_type": "markdown",
   "metadata": {},
   "source": [
    "### Employment status and salary"
   ]
  },
  {
   "cell_type": "code",
   "execution_count": 14,
   "metadata": {},
   "outputs": [
    {
     "data": {
      "text/plain": [
       "0    34508\n",
       "Name: salary, dtype: int64"
      ]
     },
     "execution_count": 14,
     "metadata": {},
     "output_type": "execute_result"
    }
   ],
   "source": [
    "X.loc[X.is_employed==0,'salary'].value_counts()"
   ]
  },
  {
   "cell_type": "code",
   "execution_count": 15,
   "metadata": {},
   "outputs": [
    {
     "data": {
      "text/plain": [
       "0    34508\n",
       "1       13\n",
       "Name: is_employed, dtype: int64"
      ]
     },
     "execution_count": 15,
     "metadata": {},
     "output_type": "execute_result"
    }
   ],
   "source": [
    "X.loc[X.salary==0,'is_employed'].value_counts()"
   ]
  },
  {
   "cell_type": "markdown",
   "metadata": {},
   "source": [
    "from above result, we can know that:\n",
    "1. all unemployed has 0 salary\n",
    "2. most of the brower who doesn't have salary are unemployed\n",
    "\n",
    "<span style='color:orange;font-size:1.5em'>so there is redundancy between 'is_employed' and 'salary ==0 or not'. more features, more easier to get over-fitting. so I keep 'salary' and decide to drop 'is_employed'</span>"
   ]
  },
  {
   "cell_type": "code",
   "execution_count": 16,
   "metadata": {},
   "outputs": [],
   "source": [
    "# redudant, since 'not employed' has salary=0\n",
    "# and, most employed has salary>0\n",
    "del X['is_employed'] "
   ]
  },
  {
   "cell_type": "markdown",
   "metadata": {},
   "source": [
    "### One-Hot-Encoding purpose\n",
    "\n",
    "since I am going to use train model, which can accept Ordinal Encoding of the categorical feature. However, since 'purpose' has 5 unique values, I think OHE can reduce the burden of tree."
   ]
  },
  {
   "cell_type": "code",
   "execution_count": 17,
   "metadata": {},
   "outputs": [
    {
     "data": {
      "text/plain": [
       "home               24314\n",
       "business           21707\n",
       "investment         21484\n",
       "emergency_funds    18091\n",
       "other              15504\n",
       "Name: purpose, dtype: int64"
      ]
     },
     "execution_count": 17,
     "metadata": {},
     "output_type": "execute_result"
    }
   ],
   "source": [
    "X.purpose.value_counts()"
   ]
  },
  {
   "cell_type": "code",
   "execution_count": 18,
   "metadata": {},
   "outputs": [],
   "source": [
    "# since 'purpose' is the only text column, get_dummies only OHE 'purpose'\n",
    "X = pd.get_dummies(X)\n",
    "\n",
    "# K unique values, only need K-1 features, so remove one redundant feature\n",
    "del X['purpose_other'] # redudant\n",
    "\n",
    "# rename to short names, which is easier to read\n",
    "X.rename(columns={'purpose_emergency_funds':'purpose_emergency'},inplace=True)"
   ]
  },
  {
   "cell_type": "code",
   "execution_count": 19,
   "metadata": {},
   "outputs": [
    {
     "data": {
      "text/html": [
       "<div>\n",
       "<style scoped>\n",
       "    .dataframe tbody tr th:only-of-type {\n",
       "        vertical-align: middle;\n",
       "    }\n",
       "\n",
       "    .dataframe tbody tr th {\n",
       "        vertical-align: top;\n",
       "    }\n",
       "\n",
       "    .dataframe thead th {\n",
       "        text-align: right;\n",
       "    }\n",
       "</style>\n",
       "<table border=\"1\" class=\"dataframe\">\n",
       "  <thead>\n",
       "    <tr style=\"text-align: right;\">\n",
       "      <th></th>\n",
       "      <th>repay_prev</th>\n",
       "      <th>paying_others</th>\n",
       "      <th>credit_limit</th>\n",
       "      <th>credit_used</th>\n",
       "      <th>saving</th>\n",
       "      <th>checking</th>\n",
       "      <th>salary</th>\n",
       "      <th>age</th>\n",
       "      <th>n_depends</th>\n",
       "      <th>date</th>\n",
       "      <th>granted</th>\n",
       "      <th>repaid</th>\n",
       "      <th>profit</th>\n",
       "      <th>should_grant</th>\n",
       "      <th>purpose_business</th>\n",
       "      <th>purpose_emergency</th>\n",
       "      <th>purpose_home</th>\n",
       "      <th>purpose_investment</th>\n",
       "    </tr>\n",
       "    <tr>\n",
       "      <th>loan_id</th>\n",
       "      <th></th>\n",
       "      <th></th>\n",
       "      <th></th>\n",
       "      <th></th>\n",
       "      <th></th>\n",
       "      <th></th>\n",
       "      <th></th>\n",
       "      <th></th>\n",
       "      <th></th>\n",
       "      <th></th>\n",
       "      <th></th>\n",
       "      <th></th>\n",
       "      <th></th>\n",
       "      <th></th>\n",
       "      <th></th>\n",
       "      <th></th>\n",
       "      <th></th>\n",
       "      <th></th>\n",
       "    </tr>\n",
       "  </thead>\n",
       "  <tbody>\n",
       "    <tr>\n",
       "      <th>762323</th>\n",
       "      <td>1.0</td>\n",
       "      <td>0.0</td>\n",
       "      <td>4700</td>\n",
       "      <td>0.56</td>\n",
       "      <td>2483</td>\n",
       "      <td>6679</td>\n",
       "      <td>0</td>\n",
       "      <td>69</td>\n",
       "      <td>0</td>\n",
       "      <td>2012-08-28</td>\n",
       "      <td>0</td>\n",
       "      <td>NaN</td>\n",
       "      <td>0</td>\n",
       "      <td>0</td>\n",
       "      <td>1</td>\n",
       "      <td>0</td>\n",
       "      <td>0</td>\n",
       "      <td>0</td>\n",
       "    </tr>\n",
       "    <tr>\n",
       "      <th>982167</th>\n",
       "      <td>-1.0</td>\n",
       "      <td>-1.0</td>\n",
       "      <td>900</td>\n",
       "      <td>0.96</td>\n",
       "      <td>710</td>\n",
       "      <td>1619</td>\n",
       "      <td>28600</td>\n",
       "      <td>50</td>\n",
       "      <td>6</td>\n",
       "      <td>2012-07-31</td>\n",
       "      <td>1</td>\n",
       "      <td>0.0</td>\n",
       "      <td>-1</td>\n",
       "      <td>0</td>\n",
       "      <td>0</td>\n",
       "      <td>1</td>\n",
       "      <td>0</td>\n",
       "      <td>0</td>\n",
       "    </tr>\n",
       "    <tr>\n",
       "      <th>696956</th>\n",
       "      <td>-1.0</td>\n",
       "      <td>-1.0</td>\n",
       "      <td>4000</td>\n",
       "      <td>0.76</td>\n",
       "      <td>3567</td>\n",
       "      <td>3188</td>\n",
       "      <td>30800</td>\n",
       "      <td>25</td>\n",
       "      <td>8</td>\n",
       "      <td>2012-03-29</td>\n",
       "      <td>1</td>\n",
       "      <td>1.0</td>\n",
       "      <td>1</td>\n",
       "      <td>1</td>\n",
       "      <td>1</td>\n",
       "      <td>0</td>\n",
       "      <td>0</td>\n",
       "      <td>0</td>\n",
       "    </tr>\n",
       "    <tr>\n",
       "      <th>987111</th>\n",
       "      <td>-1.0</td>\n",
       "      <td>-1.0</td>\n",
       "      <td>4800</td>\n",
       "      <td>1.05</td>\n",
       "      <td>738</td>\n",
       "      <td>2643</td>\n",
       "      <td>0</td>\n",
       "      <td>25</td>\n",
       "      <td>1</td>\n",
       "      <td>2012-11-30</td>\n",
       "      <td>0</td>\n",
       "      <td>NaN</td>\n",
       "      <td>0</td>\n",
       "      <td>0</td>\n",
       "      <td>0</td>\n",
       "      <td>0</td>\n",
       "      <td>1</td>\n",
       "      <td>0</td>\n",
       "    </tr>\n",
       "    <tr>\n",
       "      <th>819436</th>\n",
       "      <td>-1.0</td>\n",
       "      <td>-1.0</td>\n",
       "      <td>5400</td>\n",
       "      <td>0.81</td>\n",
       "      <td>1059</td>\n",
       "      <td>918</td>\n",
       "      <td>14200</td>\n",
       "      <td>48</td>\n",
       "      <td>3</td>\n",
       "      <td>2012-09-05</td>\n",
       "      <td>1</td>\n",
       "      <td>0.0</td>\n",
       "      <td>-1</td>\n",
       "      <td>0</td>\n",
       "      <td>0</td>\n",
       "      <td>0</td>\n",
       "      <td>1</td>\n",
       "      <td>0</td>\n",
       "    </tr>\n",
       "  </tbody>\n",
       "</table>\n",
       "</div>"
      ],
      "text/plain": [
       "         repay_prev  paying_others  credit_limit  credit_used  saving  \\\n",
       "loan_id                                                                 \n",
       "762323          1.0            0.0          4700         0.56    2483   \n",
       "982167         -1.0           -1.0           900         0.96     710   \n",
       "696956         -1.0           -1.0          4000         0.76    3567   \n",
       "987111         -1.0           -1.0          4800         1.05     738   \n",
       "819436         -1.0           -1.0          5400         0.81    1059   \n",
       "\n",
       "         checking  salary  age  n_depends       date  granted  repaid  profit  \\\n",
       "loan_id                                                                         \n",
       "762323       6679       0   69          0 2012-08-28        0     NaN       0   \n",
       "982167       1619   28600   50          6 2012-07-31        1     0.0      -1   \n",
       "696956       3188   30800   25          8 2012-03-29        1     1.0       1   \n",
       "987111       2643       0   25          1 2012-11-30        0     NaN       0   \n",
       "819436        918   14200   48          3 2012-09-05        1     0.0      -1   \n",
       "\n",
       "         should_grant  purpose_business  purpose_emergency  purpose_home  \\\n",
       "loan_id                                                                    \n",
       "762323              0                 1                  0             0   \n",
       "982167              0                 0                  1             0   \n",
       "696956              1                 1                  0             0   \n",
       "987111              0                 0                  0             1   \n",
       "819436              0                 0                  0             1   \n",
       "\n",
       "         purpose_investment  \n",
       "loan_id                      \n",
       "762323                    0  \n",
       "982167                    0  \n",
       "696956                    0  \n",
       "987111                    0  \n",
       "819436                    0  "
      ]
     },
     "execution_count": 19,
     "metadata": {},
     "output_type": "execute_result"
    }
   ],
   "source": [
    "X.sample(5)# check the data"
   ]
  },
  {
   "cell_type": "code",
   "execution_count": 20,
   "metadata": {},
   "outputs": [],
   "source": [
    "X.to_csv(\"cleaned_loan.csv\",index_label='loan_id')"
   ]
  },
  {
   "cell_type": "markdown",
   "metadata": {},
   "source": [
    "## Train the model"
   ]
  },
  {
   "cell_type": "code",
   "execution_count": 21,
   "metadata": {},
   "outputs": [],
   "source": [
    "y = X.loc[:,'should_grant']\n",
    "\n",
    "feature_names = ['repay_prev', 'paying_others', 'credit_limit', 'credit_used',\n",
    "                 'saving', 'checking', 'salary', 'age', 'n_depends', \n",
    "                 'purpose_business','purpose_emergency', 'purpose_home', 'purpose_investment']\n",
    "X = X.loc[:,feature_names]"
   ]
  },
  {
   "cell_type": "code",
   "execution_count": 22,
   "metadata": {},
   "outputs": [
    {
     "data": {
      "text/plain": [
       "0    0.696281\n",
       "1    0.303719\n",
       "Name: should_grant, dtype: float64"
      ]
     },
     "execution_count": 22,
     "metadata": {},
     "output_type": "execute_result"
    }
   ],
   "source": [
    "y.value_counts(normalize=True)"
   ]
  },
  {
   "cell_type": "markdown",
   "metadata": {},
   "source": [
    "positive class 'should_grant=1' consists of about 30% of all examples, there is some imbalance in the dataset. so \n",
    "* ** we should use AUC other than accuracy when learning the model, and **\n",
    "* ** we need to choose a better 'probability cutoff' instead of using the default 0.5 **\n",
    "\n",
    "split the whole dataset into Training, Validation, Test three parts, and build DMatrix which will be used in xgboost"
   ]
  },
  {
   "cell_type": "code",
   "execution_count": 23,
   "metadata": {},
   "outputs": [],
   "source": [
    "# split as training and test\n",
    "Xtrain,Xtest,ytrain,ytest = train_test_split(X,y,test_size=0.3,random_state=seed)\n",
    "\n",
    "# split the training data as training and test\n",
    "Xtrain,Xvalid,ytrain,yvalid =  train_test_split(Xtrain,ytrain,test_size=0.3,random_state=seed)"
   ]
  },
  {
   "cell_type": "code",
   "execution_count": 27,
   "metadata": {},
   "outputs": [],
   "source": [
    "train_matrix = xgb.DMatrix(Xtrain,ytrain)\n",
    "valid_matrix = xgb.DMatrix(Xvalid,yvalid)\n",
    "test_matrix = xgb.DMatrix(Xtest,ytest)"
   ]
  },
  {
   "cell_type": "code",
   "execution_count": 28,
   "metadata": {},
   "outputs": [],
   "source": [
    "def train(params):\n",
    "    params['silent'] = 1\n",
    "    params['objective'] = 'binary:logistic'  # output probabilities\n",
    "    params['eval_metric'] = 'auc'\n",
    "\n",
    "    num_rounds = params[\"num_rounds\"]\n",
    "    early_stopping_rounds = params[\"early_stop_rounds\"]\n",
    "\n",
    "    # early stop will check on the last dataset\n",
    "    watchlist = [(train_matrix, 'train'), (valid_matrix, 'validate')]\n",
    "    bst = xgb.train(params, train_matrix, num_rounds, watchlist, early_stopping_rounds=early_stopping_rounds)\n",
    "\n",
    "    print( \"parameters: {}\".format(params))\n",
    "    print( \"best {}: {:.2f}\".format(params[\"eval_metric\"], bst.best_score))\n",
    "    print( \"best #trees: %d\" % (bst.best_ntree_limit))\n",
    "\n",
    "    return bst"
   ]
  },
  {
   "cell_type": "code",
   "execution_count": 29,
   "metadata": {},
   "outputs": [
    {
     "name": "stdout",
     "output_type": "stream",
     "text": [
      "[0]\ttrain-auc:0.888739\tvalidate-auc:0.886229\n",
      "Multiple eval metrics have been passed: 'validate-auc' will be used for early stopping.\n",
      "\n",
      "Will train until validate-auc hasn't improved in 30 rounds.\n",
      "[1]\ttrain-auc:0.888199\tvalidate-auc:0.887179\n",
      "[2]\ttrain-auc:0.890342\tvalidate-auc:0.889529\n",
      "[3]\ttrain-auc:0.893875\tvalidate-auc:0.891527\n",
      "[4]\ttrain-auc:0.896326\tvalidate-auc:0.893274\n",
      "[5]\ttrain-auc:0.896324\tvalidate-auc:0.894179\n",
      "[6]\ttrain-auc:0.897659\tvalidate-auc:0.895089\n",
      "[7]\ttrain-auc:0.898168\tvalidate-auc:0.894464\n",
      "[8]\ttrain-auc:0.898668\tvalidate-auc:0.895054\n",
      "[9]\ttrain-auc:0.898986\tvalidate-auc:0.894748\n",
      "[10]\ttrain-auc:0.899547\tvalidate-auc:0.895002\n",
      "[11]\ttrain-auc:0.899851\tvalidate-auc:0.894446\n",
      "[12]\ttrain-auc:0.899856\tvalidate-auc:0.893932\n",
      "[13]\ttrain-auc:0.899969\tvalidate-auc:0.893319\n",
      "[14]\ttrain-auc:0.900951\tvalidate-auc:0.894116\n",
      "[15]\ttrain-auc:0.901471\tvalidate-auc:0.894605\n",
      "[16]\ttrain-auc:0.902092\tvalidate-auc:0.895134\n",
      "[17]\ttrain-auc:0.902534\tvalidate-auc:0.895262\n",
      "[18]\ttrain-auc:0.902977\tvalidate-auc:0.895657\n",
      "[19]\ttrain-auc:0.903147\tvalidate-auc:0.895749\n",
      "[20]\ttrain-auc:0.903476\tvalidate-auc:0.895666\n",
      "[21]\ttrain-auc:0.904188\tvalidate-auc:0.896109\n",
      "[22]\ttrain-auc:0.904617\tvalidate-auc:0.896185\n",
      "[23]\ttrain-auc:0.905013\tvalidate-auc:0.896267\n",
      "[24]\ttrain-auc:0.90529\tvalidate-auc:0.896318\n",
      "[25]\ttrain-auc:0.905723\tvalidate-auc:0.89632\n",
      "[26]\ttrain-auc:0.906236\tvalidate-auc:0.896535\n",
      "[27]\ttrain-auc:0.90658\tvalidate-auc:0.896609\n",
      "[28]\ttrain-auc:0.906883\tvalidate-auc:0.896458\n",
      "[29]\ttrain-auc:0.907287\tvalidate-auc:0.896503\n",
      "[30]\ttrain-auc:0.907541\tvalidate-auc:0.89654\n",
      "[31]\ttrain-auc:0.907783\tvalidate-auc:0.896561\n",
      "[32]\ttrain-auc:0.908127\tvalidate-auc:0.896527\n",
      "[33]\ttrain-auc:0.908573\tvalidate-auc:0.896457\n",
      "[34]\ttrain-auc:0.90934\tvalidate-auc:0.896718\n",
      "[35]\ttrain-auc:0.909595\tvalidate-auc:0.896806\n",
      "[36]\ttrain-auc:0.909895\tvalidate-auc:0.896859\n",
      "[37]\ttrain-auc:0.909998\tvalidate-auc:0.896874\n",
      "[38]\ttrain-auc:0.910692\tvalidate-auc:0.896969\n",
      "[39]\ttrain-auc:0.910839\tvalidate-auc:0.896962\n",
      "[40]\ttrain-auc:0.911137\tvalidate-auc:0.89704\n",
      "[41]\ttrain-auc:0.911558\tvalidate-auc:0.897149\n",
      "[42]\ttrain-auc:0.911912\tvalidate-auc:0.897251\n",
      "[43]\ttrain-auc:0.912503\tvalidate-auc:0.897358\n",
      "[44]\ttrain-auc:0.912689\tvalidate-auc:0.897269\n",
      "[45]\ttrain-auc:0.912983\tvalidate-auc:0.897374\n",
      "[46]\ttrain-auc:0.913163\tvalidate-auc:0.897417\n",
      "[47]\ttrain-auc:0.913322\tvalidate-auc:0.897475\n",
      "[48]\ttrain-auc:0.913644\tvalidate-auc:0.897433\n",
      "[49]\ttrain-auc:0.913875\tvalidate-auc:0.897418\n",
      "[50]\ttrain-auc:0.914144\tvalidate-auc:0.89744\n",
      "[51]\ttrain-auc:0.914341\tvalidate-auc:0.897445\n",
      "[52]\ttrain-auc:0.914631\tvalidate-auc:0.897486\n",
      "[53]\ttrain-auc:0.915209\tvalidate-auc:0.897327\n",
      "[54]\ttrain-auc:0.915416\tvalidate-auc:0.897389\n",
      "[55]\ttrain-auc:0.915623\tvalidate-auc:0.897429\n",
      "[56]\ttrain-auc:0.915897\tvalidate-auc:0.897425\n",
      "[57]\ttrain-auc:0.916077\tvalidate-auc:0.897405\n",
      "[58]\ttrain-auc:0.916255\tvalidate-auc:0.897289\n",
      "[59]\ttrain-auc:0.916649\tvalidate-auc:0.89744\n",
      "[60]\ttrain-auc:0.916931\tvalidate-auc:0.897379\n",
      "[61]\ttrain-auc:0.91724\tvalidate-auc:0.897549\n",
      "[62]\ttrain-auc:0.917498\tvalidate-auc:0.897591\n",
      "[63]\ttrain-auc:0.91757\tvalidate-auc:0.897624\n",
      "[64]\ttrain-auc:0.917808\tvalidate-auc:0.897647\n",
      "[65]\ttrain-auc:0.9181\tvalidate-auc:0.897705\n",
      "[66]\ttrain-auc:0.918538\tvalidate-auc:0.897547\n",
      "[67]\ttrain-auc:0.918939\tvalidate-auc:0.897544\n",
      "[68]\ttrain-auc:0.919108\tvalidate-auc:0.897482\n",
      "[69]\ttrain-auc:0.919454\tvalidate-auc:0.897477\n",
      "[70]\ttrain-auc:0.919734\tvalidate-auc:0.897462\n",
      "[71]\ttrain-auc:0.920124\tvalidate-auc:0.897399\n",
      "[72]\ttrain-auc:0.92055\tvalidate-auc:0.897501\n",
      "[73]\ttrain-auc:0.92106\tvalidate-auc:0.89774\n",
      "[74]\ttrain-auc:0.92165\tvalidate-auc:0.897724\n",
      "[75]\ttrain-auc:0.921939\tvalidate-auc:0.897709\n",
      "[76]\ttrain-auc:0.922063\tvalidate-auc:0.897716\n",
      "[77]\ttrain-auc:0.922265\tvalidate-auc:0.897716\n",
      "[78]\ttrain-auc:0.922661\tvalidate-auc:0.897801\n",
      "[79]\ttrain-auc:0.923071\tvalidate-auc:0.897927\n",
      "[80]\ttrain-auc:0.923376\tvalidate-auc:0.897978\n",
      "[81]\ttrain-auc:0.923656\tvalidate-auc:0.897972\n",
      "[82]\ttrain-auc:0.924115\tvalidate-auc:0.897943\n",
      "[83]\ttrain-auc:0.92466\tvalidate-auc:0.897923\n",
      "[84]\ttrain-auc:0.924721\tvalidate-auc:0.897924\n",
      "[85]\ttrain-auc:0.92526\tvalidate-auc:0.897836\n",
      "[86]\ttrain-auc:0.925515\tvalidate-auc:0.897787\n",
      "[87]\ttrain-auc:0.925721\tvalidate-auc:0.897724\n",
      "[88]\ttrain-auc:0.926344\tvalidate-auc:0.897794\n",
      "[89]\ttrain-auc:0.926438\tvalidate-auc:0.897766\n",
      "[90]\ttrain-auc:0.926731\tvalidate-auc:0.897841\n",
      "[91]\ttrain-auc:0.927162\tvalidate-auc:0.897755\n",
      "[92]\ttrain-auc:0.927467\tvalidate-auc:0.897654\n",
      "[93]\ttrain-auc:0.927549\tvalidate-auc:0.897628\n",
      "[94]\ttrain-auc:0.927659\tvalidate-auc:0.897644\n",
      "[95]\ttrain-auc:0.927951\tvalidate-auc:0.897675\n",
      "[96]\ttrain-auc:0.928152\tvalidate-auc:0.897685\n",
      "[97]\ttrain-auc:0.928433\tvalidate-auc:0.897591\n",
      "[98]\ttrain-auc:0.928644\tvalidate-auc:0.897619\n",
      "[99]\ttrain-auc:0.92883\tvalidate-auc:0.897539\n",
      "[100]\ttrain-auc:0.929229\tvalidate-auc:0.897538\n",
      "[101]\ttrain-auc:0.929603\tvalidate-auc:0.897534\n",
      "[102]\ttrain-auc:0.929753\tvalidate-auc:0.89757\n",
      "[103]\ttrain-auc:0.929841\tvalidate-auc:0.897561\n",
      "[104]\ttrain-auc:0.929918\tvalidate-auc:0.89762\n",
      "[105]\ttrain-auc:0.930053\tvalidate-auc:0.897605\n",
      "[106]\ttrain-auc:0.930182\tvalidate-auc:0.897663\n",
      "[107]\ttrain-auc:0.93024\tvalidate-auc:0.897664\n",
      "[108]\ttrain-auc:0.930598\tvalidate-auc:0.89763\n",
      "[109]\ttrain-auc:0.930897\tvalidate-auc:0.897573\n",
      "[110]\ttrain-auc:0.931141\tvalidate-auc:0.897562\n",
      "Stopping. Best iteration:\n",
      "[80]\ttrain-auc:0.923376\tvalidate-auc:0.897978\n",
      "\n",
      "parameters: {'num_rounds': 300, 'objective': 'binary:logistic', 'early_stop_rounds': 30, 'subsample': 0.8, 'colsample_bytree': 0.8, 'eval_metric': 'auc', 'max_depth': 6, 'eta': 0.1, 'silent': 1}\n",
      "best auc: 0.90\n",
      "best #trees: 81\n"
     ]
    }
   ],
   "source": [
    "# ------------- prepare parameters\n",
    "params = {}\n",
    "params[\"num_rounds\"] = 300\n",
    "params[\"early_stop_rounds\"] = 30\n",
    "# params['min_child_weight'] = 2\n",
    "params['max_depth'] = 6\n",
    "params['eta'] = 0.1\n",
    "params[\"subsample\"] = 0.8\n",
    "params[\"colsample_bytree\"] = 0.8\n",
    "\n",
    "# ------------- train with xgboost\n",
    "bst = train(params)"
   ]
  },
  {
   "cell_type": "code",
   "execution_count": 30,
   "metadata": {},
   "outputs": [
    {
     "data": {
      "text/plain": [
       "81"
      ]
     },
     "execution_count": 30,
     "metadata": {},
     "output_type": "execute_result"
    }
   ],
   "source": [
    "n_trees = bst.best_ntree_limit\n",
    "n_trees"
   ]
  },
  {
   "cell_type": "markdown",
   "metadata": {},
   "source": [
    "## Choose best probablity cutoff\n",
    "\n",
    "I am going to find best 'probability cutoff' on validation set's ROC curve."
   ]
  },
  {
   "cell_type": "code",
   "execution_count": 31,
   "metadata": {},
   "outputs": [],
   "source": [
    "yvalid_true = valid_matrix.get_label()\n",
    "yvalid_pred_probas = bst.predict(valid_matrix, ntree_limit=bst.best_ntree_limit)\n",
    "\n",
    "fpr,tpr,thresholds = roc_curve(yvalid_true,yvalid_pred_probas)\n",
    "roc = pd.DataFrame({'FPR':fpr,'TPR':tpr,'Thresholds':thresholds})"
   ]
  },
  {
   "cell_type": "markdown",
   "metadata": {},
   "source": [
    "I am going to loop every possible threshold, and find the one which returns the highest profit."
   ]
  },
  {
   "cell_type": "code",
   "execution_count": 34,
   "metadata": {},
   "outputs": [],
   "source": [
    "def calc_profits(repaids,probas,threshold):\n",
    "    total_profit = 0\n",
    "    for (repaid,proba) in zip(repaids,probas):\n",
    "        if proba > threshold:\n",
    "            # it is possible for repaid=NaN\n",
    "            # which means, my model grant loan to a borrower whose application was rejected under old model\n",
    "            # the question doesn't clarify how to calculate profit for such case.\n",
    "            # however, since most 'rejected borrowers' were considered unlikely to repay by old model\n",
    "            # so I also think such people are very unlikely to repay even were granted\n",
    "            # so their profit are also -1, the same as 'granted but unable to repay'\n",
    "            total_profit += (1 if repaid == 1 else -1)\n",
    "    return total_profit"
   ]
  },
  {
   "cell_type": "code",
   "execution_count": 35,
   "metadata": {},
   "outputs": [],
   "source": [
    "# all examples in validation sets\n",
    "loan_valid = loan.loc[yvalid.index,:]\n",
    "\n",
    "# calculate profits under each candidate cutoff\n",
    "valid_profits = [ calc_profits(loan_valid.repaid,yvalid_pred_probas,threshold) for threshold in roc.Thresholds]"
   ]
  },
  {
   "cell_type": "code",
   "execution_count": 37,
   "metadata": {},
   "outputs": [
    {
     "data": {
      "image/png": "[encoded data removed]",
      "text/plain": [
       "<Figure size 432x288 with 1 Axes>"
      ]
     },
     "metadata": {
      "needs_background": "light"
     },
     "output_type": "display_data"
    }
   ],
   "source": [
    "plt.plot(roc.Thresholds,valid_profits)\n",
    "plt.yticks(range(-10000,4000,1000))\n",
    "_ = plt.xticks(np.linspace(0,1,11))\n",
    "plt.rc('figure',figsize=(5,5))"
   ]
  },
  {
   "cell_type": "markdown",
   "metadata": {},
   "source": [
    "from above plot, we know that, the best probability cutoff should be around 0.4, which can proved by following codes"
   ]
  },
  {
   "cell_type": "code",
   "execution_count": 39,
   "metadata": {},
   "outputs": [
    {
     "data": {
      "text/plain": [
       "profit       3143.000000\n",
       "threshold       0.404506\n",
       "Name: 3411, dtype: float64"
      ]
     },
     "execution_count": 39,
     "metadata": {},
     "output_type": "execute_result"
    }
   ],
   "source": [
    "valid_threshold_profits = pd.DataFrame({'threshold':roc.Thresholds,'profit':valid_profits})\n",
    "temp = valid_threshold_profits.loc[  valid_threshold_profits.profit.idxmax()   ,:]\n",
    "temp"
   ]
  },
  {
   "cell_type": "code",
   "execution_count": 40,
   "metadata": {},
   "outputs": [
    {
     "data": {
      "text/plain": [
       "0.4045059084892273"
      ]
     },
     "execution_count": 40,
     "metadata": {},
     "output_type": "execute_result"
    }
   ],
   "source": [
    "proba_threshold = temp['threshold']\n",
    "proba_threshold"
   ]
  },
  {
   "cell_type": "code",
   "execution_count": 41,
   "metadata": {},
   "outputs": [
    {
     "data": {
      "text/plain": [
       "<matplotlib.legend.Legend at 0x2135ff58cf8>"
      ]
     },
     "execution_count": 41,
     "metadata": {},
     "output_type": "execute_result"
    },
    {
     "data": {
      "image/png": "[encoded data removed]",
      "text/plain": [
       "<Figure size 360x360 with 1 Axes>"
      ]
     },
     "metadata": {
      "needs_background": "light"
     },
     "output_type": "display_data"
    }
   ],
   "source": [
    "# plot ROC\n",
    "plt.plot(roc.FPR,roc.TPR,label='ROC')\n",
    "plt.xlabel(\"FPR\")\n",
    "plt.ylabel('TPR')\n",
    "\n",
    "ticks = np.linspace(0,1,11)\n",
    "plt.yticks(ticks)\n",
    "plt.xticks(ticks)\n",
    "\n",
    "# plot best thresholds\n",
    "best_cutoffs = roc.loc[ (roc.Thresholds > 0.43) & (roc.Thresholds < 0.44),:]\n",
    "plt.scatter(best_cutoffs.FPR,best_cutoffs.TPR,c='k',s=50,label='best cutoff')\n",
    "\n",
    "plt.rc('figure',figsize=(10,5))\n",
    "plt.legend(loc='best')"
   ]
  },
  {
   "cell_type": "markdown",
   "metadata": {},
   "source": [
    "## Re-train the model with all training data\n",
    "\n",
    "combine training data and validation set together, train with the best parameters found. this can improve the model."
   ]
  },
  {
   "cell_type": "code",
   "execution_count": 42,
   "metadata": {},
   "outputs": [],
   "source": [
    "# combine training set and validation set together\n",
    "Xalltrain = pd.concat([Xtrain,Xvalid],axis=0)\n",
    "yalltrain = pd.concat([ytrain,yvalid],axis=0)\n",
    "alltrain_matrix = xgb.DMatrix(Xalltrain,yalltrain)"
   ]
  },
  {
   "cell_type": "code",
   "execution_count": 43,
   "metadata": {},
   "outputs": [
    {
     "data": {
      "text/plain": [
       "{'colsample_bytree': 0.8,\n",
       " 'early_stop_rounds': 30,\n",
       " 'eta': 0.1,\n",
       " 'eval_metric': 'auc',\n",
       " 'max_depth': 6,\n",
       " 'num_rounds': 300,\n",
       " 'objective': 'binary:logistic',\n",
       " 'silent': 1,\n",
       " 'subsample': 0.8}"
      ]
     },
     "execution_count": 43,
     "metadata": {},
     "output_type": "execute_result"
    }
   ],
   "source": [
    "# check the parameters\n",
    "params"
   ]
  },
  {
   "cell_type": "code",
   "execution_count": 44,
   "metadata": {},
   "outputs": [
    {
     "data": {
      "text/plain": [
       "81"
      ]
     },
     "execution_count": 44,
     "metadata": {},
     "output_type": "execute_result"
    }
   ],
   "source": [
    "# best number of trees\n",
    "n_trees"
   ]
  },
  {
   "cell_type": "code",
   "execution_count": 45,
   "metadata": {},
   "outputs": [
    {
     "name": "stdout",
     "output_type": "stream",
     "text": [
      "[0]\ttrain-auc:0.888382\n",
      "[1]\ttrain-auc:0.88946\n",
      "[2]\ttrain-auc:0.894307\n",
      "[3]\ttrain-auc:0.895248\n",
      "[4]\ttrain-auc:0.897195\n",
      "[5]\ttrain-auc:0.898178\n",
      "[6]\ttrain-auc:0.898439\n",
      "[7]\ttrain-auc:0.89882\n",
      "[8]\ttrain-auc:0.898823\n",
      "[9]\ttrain-auc:0.898845\n",
      "[10]\ttrain-auc:0.899069\n",
      "[11]\ttrain-auc:0.899075\n",
      "[12]\ttrain-auc:0.899502\n",
      "[13]\ttrain-auc:0.899817\n",
      "[14]\ttrain-auc:0.899853\n",
      "[15]\ttrain-auc:0.900579\n",
      "[16]\ttrain-auc:0.900807\n",
      "[17]\ttrain-auc:0.900849\n",
      "[18]\ttrain-auc:0.900973\n",
      "[19]\ttrain-auc:0.90137\n",
      "[20]\ttrain-auc:0.901663\n",
      "[21]\ttrain-auc:0.901912\n",
      "[22]\ttrain-auc:0.90203\n",
      "[23]\ttrain-auc:0.902079\n",
      "[24]\ttrain-auc:0.90234\n",
      "[25]\ttrain-auc:0.902528\n",
      "[26]\ttrain-auc:0.902644\n",
      "[27]\ttrain-auc:0.902743\n",
      "[28]\ttrain-auc:0.902737\n",
      "[29]\ttrain-auc:0.903119\n",
      "[30]\ttrain-auc:0.90355\n",
      "[31]\ttrain-auc:0.903989\n",
      "[32]\ttrain-auc:0.904154\n",
      "[33]\ttrain-auc:0.904345\n",
      "[34]\ttrain-auc:0.904467\n",
      "[35]\ttrain-auc:0.904726\n",
      "[36]\ttrain-auc:0.905022\n",
      "[37]\ttrain-auc:0.905198\n",
      "[38]\ttrain-auc:0.905419\n",
      "[39]\ttrain-auc:0.905752\n",
      "[40]\ttrain-auc:0.906099\n",
      "[41]\ttrain-auc:0.90624\n",
      "[42]\ttrain-auc:0.906424\n",
      "[43]\ttrain-auc:0.906972\n",
      "[44]\ttrain-auc:0.907175\n",
      "[45]\ttrain-auc:0.907385\n",
      "[46]\ttrain-auc:0.907556\n",
      "[47]\ttrain-auc:0.90797\n",
      "[48]\ttrain-auc:0.908363\n",
      "[49]\ttrain-auc:0.908532\n",
      "[50]\ttrain-auc:0.908798\n",
      "[51]\ttrain-auc:0.909267\n",
      "[52]\ttrain-auc:0.909635\n",
      "[53]\ttrain-auc:0.909852\n",
      "[54]\ttrain-auc:0.909997\n",
      "[55]\ttrain-auc:0.9103\n",
      "[56]\ttrain-auc:0.910643\n",
      "[57]\ttrain-auc:0.910887\n",
      "[58]\ttrain-auc:0.911305\n",
      "[59]\ttrain-auc:0.911472\n",
      "[60]\ttrain-auc:0.911839\n",
      "[61]\ttrain-auc:0.912262\n",
      "[62]\ttrain-auc:0.912555\n",
      "[63]\ttrain-auc:0.912924\n",
      "[64]\ttrain-auc:0.913027\n",
      "[65]\ttrain-auc:0.913208\n",
      "[66]\ttrain-auc:0.913616\n",
      "[67]\ttrain-auc:0.914229\n",
      "[68]\ttrain-auc:0.914603\n",
      "[69]\ttrain-auc:0.914774\n",
      "[70]\ttrain-auc:0.915372\n",
      "[71]\ttrain-auc:0.915738\n",
      "[72]\ttrain-auc:0.916057\n",
      "[73]\ttrain-auc:0.916572\n",
      "[74]\ttrain-auc:0.916633\n",
      "[75]\ttrain-auc:0.917123\n",
      "[76]\ttrain-auc:0.917438\n",
      "[77]\ttrain-auc:0.917731\n",
      "[78]\ttrain-auc:0.918021\n",
      "[79]\ttrain-auc:0.918112\n",
      "[80]\ttrain-auc:0.918242\n"
     ]
    }
   ],
   "source": [
    "watchlist = [(alltrain_matrix, 'train')]\n",
    "all_bst = xgb.train(params, alltrain_matrix, n_trees,watchlist)"
   ]
  },
  {
   "cell_type": "markdown",
   "metadata": {},
   "source": [
    "## Test"
   ]
  },
  {
   "cell_type": "code",
   "execution_count": 46,
   "metadata": {},
   "outputs": [],
   "source": [
    "ytest_pred_probas = all_bst.predict(test_matrix, ntree_limit=n_trees)\n",
    "ytest_pred = (ytest_pred_probas > proba_threshold).astype(int)"
   ]
  },
  {
   "cell_type": "code",
   "execution_count": 48,
   "metadata": {},
   "outputs": [
    {
     "name": "stdout",
     "output_type": "stream",
     "text": [
      "test accuracy:  0.8434882954170788\n"
     ]
    }
   ],
   "source": [
    "print( \"test accuracy: \",accuracy_score(ytest,ytest_pred))"
   ]
  },
  {
   "cell_type": "code",
   "execution_count": 49,
   "metadata": {},
   "outputs": [
    {
     "name": "stdout",
     "output_type": "stream",
     "text": [
      "              precision    recall  f1-score   support\n",
      "\n",
      "           0       0.94      0.83      0.88     21161\n",
      "           1       0.69      0.88      0.77      9169\n",
      "\n",
      "   micro avg       0.84      0.84      0.84     30330\n",
      "   macro avg       0.81      0.85      0.83     30330\n",
      "weighted avg       0.86      0.84      0.85     30330\n",
      "\n"
     ]
    }
   ],
   "source": [
    "print( classification_report(ytest,ytest_pred))"
   ]
  },
  {
   "cell_type": "code",
   "execution_count": 50,
   "metadata": {},
   "outputs": [
    {
     "data": {
      "text/plain": [
       "4130"
      ]
     },
     "execution_count": 50,
     "metadata": {},
     "output_type": "execute_result"
    }
   ],
   "source": [
    "# profit under old model\n",
    "loan_test = loan.loc[ytest.index,:]\n",
    "old_profit = loan_test.profit.sum()\n",
    "old_profit"
   ]
  },
  {
   "cell_type": "code",
   "execution_count": 51,
   "metadata": {},
   "outputs": [
    {
     "data": {
      "text/plain": [
       "4422"
      ]
     },
     "execution_count": 51,
     "metadata": {},
     "output_type": "execute_result"
    }
   ],
   "source": [
    "# profit under new model\n",
    "new_profit = calc_profits(loan_test.repaid,ytest_pred_probas,proba_threshold)\n",
    "new_profit"
   ]
  },
  {
   "cell_type": "markdown",
   "metadata": {},
   "source": [
    "from above result, <span style='color:orange;font-weight:bold;font-size:1.5em'>the model yields a profit as 4130, while my new model can yield a profit as 4400, improved 6.5%.</span>"
   ]
  },
  {
   "cell_type": "markdown",
   "metadata": {},
   "source": [
    "## Feature importance"
   ]
  },
  {
   "cell_type": "code",
   "execution_count": 52,
   "metadata": {},
   "outputs": [
    {
     "data": {
      "text/plain": [
       "<matplotlib.axes._subplots.AxesSubplot at 0x2135ff6fdd8>"
      ]
     },
     "execution_count": 52,
     "metadata": {},
     "output_type": "execute_result"
    },
    {
     "data": {
      "image/png": "[encoded data removed]",
      "text/plain": [
       "<Figure size 720x360 with 1 Axes>"
      ]
     },
     "metadata": {
      "needs_background": "light"
     },
     "output_type": "display_data"
    }
   ],
   "source": [
    "xgb.plot_importance(all_bst,title='Feature Importance')"
   ]
  },
  {
   "cell_type": "markdown",
   "metadata": {},
   "source": [
    "<a id='q3'></a>** Answer Question 3 **, *\"Describe the impact of the most important variables on the prediction. Also, focus on the variable \"is_employed\", which describes whether the borrower is employed when she asks for the loan. How does this variable impact the model? Explain why\"*\n",
    "\n",
    "according to above plot, the most important feature is 'saving amount'. This makes perfect sense. Money in the saving account, meaure a person's ability to control his financial situation. More money in the saving account, more likely the borrower can repay.\n",
    "\n",
    "as I mentioned, in my model, 'is_employed' is merged into feature 'salary', which correspond to the case 'salary=0'. according to above plot, salary is also a strong feature. \n",
    "* if not employed, then salary=0, which will impact negatively on 'grant decision'. that is very easy to understand, a person without any financial input, will be very unlikely to repay.\n",
    "* but even the person is employed, whether grant the loan or not, depends on his salary. higher salary indicates strong ability to repay."
   ]
  },
  {
   "cell_type": "markdown",
   "metadata": {},
   "source": [
    "## Extra useful features\n",
    "** Answer Question 4: ** * \"Are there any other variables, not in the data provided, that you'd have liked to include in the model?\" *\n",
    "\n",
    "some useful feature which may include:\n",
    "1. marriage status. \n",
    "    * Because even a borrow cannot repay, if he/she is married, his/her spouse can help to repay.\n",
    "2. housing status, has his/her own house, or rent appartments? if renting, how much is monthly rent?\n",
    "    * Because even the borrower cannot repay, if he/she has house, the house can be sold to repay the debt\n",
    "3. educational level\n",
    "    * normally a person who received higher education, has stronger capability to earn money to repay, and has higher moral standard to repay."
   ]
  },
  {
   "cell_type": "code",
   "execution_count": null,
   "metadata": {
    "collapsed": true
   },
   "outputs": [],
   "source": []
  }
 ],
 "metadata": {
  "anaconda-cloud": {},
  "kernelspec": {
   "display_name": "Python 3",
   "language": "python",
   "name": "python3"
  },
  "language_info": {
   "codemirror_mode": {
    "name": "ipython",
    "version": 3
   },
   "file_extension": ".py",
   "mimetype": "text/x-python",
   "name": "python",
   "nbconvert_exporter": "python",
   "pygments_lexer": "ipython3",
   "version": "3.5.6"
  }
 },
 "nbformat": 4,
 "nbformat_minor": 1
}
