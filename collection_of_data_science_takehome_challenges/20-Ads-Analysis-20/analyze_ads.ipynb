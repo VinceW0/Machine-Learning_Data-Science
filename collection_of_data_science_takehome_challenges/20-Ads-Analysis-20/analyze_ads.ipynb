{
 "cells": [
  {
   "cell_type": "code",
   "execution_count": 1,
   "metadata": {},
   "outputs": [],
   "source": [
    "import itertools\n",
    "import pandas as pd\n",
    "import numpy as np\n",
    "import matplotlib.pyplot as plt\n",
    "plt.style.use('ggplot')\n",
    "import scipy.linalg as slin\n",
    "from sklearn.linear_model import LinearRegression"
   ]
  },
  {
   "cell_type": "code",
   "execution_count": 2,
   "metadata": {},
   "outputs": [],
   "source": [
    "ads = pd.read_csv(\"ad_table.csv\")\n",
    "ads['date'] = pd.to_datetime(ads.date)\n",
    "ads.rename(columns={\"avg_cost_per_click\":\"cost\",'total_revenue':'revenue'},inplace=True)"
   ]
  },
  {
   "cell_type": "code",
   "execution_count": 3,
   "metadata": {},
   "outputs": [
    {
     "data": {
      "text/html": [
       "<div>\n",
       "<style scoped>\n",
       "    .dataframe tbody tr th:only-of-type {\n",
       "        vertical-align: middle;\n",
       "    }\n",
       "\n",
       "    .dataframe tbody tr th {\n",
       "        vertical-align: top;\n",
       "    }\n",
       "\n",
       "    .dataframe thead th {\n",
       "        text-align: right;\n",
       "    }\n",
       "</style>\n",
       "<table border=\"1\" class=\"dataframe\">\n",
       "  <thead>\n",
       "    <tr style=\"text-align: right;\">\n",
       "      <th></th>\n",
       "      <th>date</th>\n",
       "      <th>shown</th>\n",
       "      <th>clicked</th>\n",
       "      <th>converted</th>\n",
       "      <th>cost</th>\n",
       "      <th>revenue</th>\n",
       "      <th>ad</th>\n",
       "    </tr>\n",
       "  </thead>\n",
       "  <tbody>\n",
       "    <tr>\n",
       "      <th>0</th>\n",
       "      <td>2015-10-01</td>\n",
       "      <td>65877</td>\n",
       "      <td>2339</td>\n",
       "      <td>43</td>\n",
       "      <td>0.90</td>\n",
       "      <td>641.62</td>\n",
       "      <td>ad_group_1</td>\n",
       "    </tr>\n",
       "    <tr>\n",
       "      <th>1</th>\n",
       "      <td>2015-10-02</td>\n",
       "      <td>65100</td>\n",
       "      <td>2498</td>\n",
       "      <td>38</td>\n",
       "      <td>0.94</td>\n",
       "      <td>756.37</td>\n",
       "      <td>ad_group_1</td>\n",
       "    </tr>\n",
       "    <tr>\n",
       "      <th>2</th>\n",
       "      <td>2015-10-03</td>\n",
       "      <td>70658</td>\n",
       "      <td>2313</td>\n",
       "      <td>49</td>\n",
       "      <td>0.86</td>\n",
       "      <td>970.90</td>\n",
       "      <td>ad_group_1</td>\n",
       "    </tr>\n",
       "    <tr>\n",
       "      <th>3</th>\n",
       "      <td>2015-10-04</td>\n",
       "      <td>69809</td>\n",
       "      <td>2833</td>\n",
       "      <td>51</td>\n",
       "      <td>1.01</td>\n",
       "      <td>907.39</td>\n",
       "      <td>ad_group_1</td>\n",
       "    </tr>\n",
       "    <tr>\n",
       "      <th>4</th>\n",
       "      <td>2015-10-05</td>\n",
       "      <td>68186</td>\n",
       "      <td>2696</td>\n",
       "      <td>41</td>\n",
       "      <td>1.00</td>\n",
       "      <td>879.45</td>\n",
       "      <td>ad_group_1</td>\n",
       "    </tr>\n",
       "  </tbody>\n",
       "</table>\n",
       "</div>"
      ],
      "text/plain": [
       "        date  shown  clicked  converted  cost  revenue          ad\n",
       "0 2015-10-01  65877     2339         43  0.90   641.62  ad_group_1\n",
       "1 2015-10-02  65100     2498         38  0.94   756.37  ad_group_1\n",
       "2 2015-10-03  70658     2313         49  0.86   970.90  ad_group_1\n",
       "3 2015-10-04  69809     2833         51  1.01   907.39  ad_group_1\n",
       "4 2015-10-05  68186     2696         41  1.00   879.45  ad_group_1"
      ]
     },
     "execution_count": 3,
     "metadata": {},
     "output_type": "execute_result"
    }
   ],
   "source": [
    "ads.head()"
   ]
  },
  {
   "cell_type": "code",
   "execution_count": 4,
   "metadata": {},
   "outputs": [
    {
     "name": "stderr",
     "output_type": "stream",
     "text": [
      "C:\\Users\\Vin\\Anaconda3\\lib\\site-packages\\ipykernel_launcher.py:4: FutureWarning: `weekday_name` is deprecated and will be removed in a future version. Use `day_name` instead\n",
      "  after removing the cwd from sys.path.\n"
     ]
    }
   ],
   "source": [
    "X = ads.loc[:,['ad','date','shown']]\n",
    "firstday = X.date.min()\n",
    "X['days'] = X.date.map(lambda dt: (dt - firstday).days)\n",
    "X['weekday'] = X.date.map(lambda dt: dt.weekday_name)\n",
    "\n",
    "X = pd.get_dummies(X,columns=['weekday'],prefix='',prefix_sep='')\n",
    "del X['Sunday']"
   ]
  },
  {
   "cell_type": "code",
   "execution_count": 9,
   "metadata": {
    "scrolled": true
   },
   "outputs": [
    {
     "data": {
      "text/html": [
       "<div>\n",
       "<style scoped>\n",
       "    .dataframe tbody tr th:only-of-type {\n",
       "        vertical-align: middle;\n",
       "    }\n",
       "\n",
       "    .dataframe tbody tr th {\n",
       "        vertical-align: top;\n",
       "    }\n",
       "\n",
       "    .dataframe thead th {\n",
       "        text-align: right;\n",
       "    }\n",
       "</style>\n",
       "<table border=\"1\" class=\"dataframe\">\n",
       "  <thead>\n",
       "    <tr style=\"text-align: right;\">\n",
       "      <th></th>\n",
       "      <th>ad</th>\n",
       "      <th>date</th>\n",
       "      <th>shown</th>\n",
       "      <th>days</th>\n",
       "      <th>Friday</th>\n",
       "      <th>Monday</th>\n",
       "      <th>Saturday</th>\n",
       "      <th>Thursday</th>\n",
       "      <th>Tuesday</th>\n",
       "      <th>Wednesday</th>\n",
       "    </tr>\n",
       "  </thead>\n",
       "  <tbody>\n",
       "    <tr>\n",
       "      <th>0</th>\n",
       "      <td>ad_group_1</td>\n",
       "      <td>2015-10-01</td>\n",
       "      <td>65877</td>\n",
       "      <td>0</td>\n",
       "      <td>0</td>\n",
       "      <td>0</td>\n",
       "      <td>0</td>\n",
       "      <td>1</td>\n",
       "      <td>0</td>\n",
       "      <td>0</td>\n",
       "    </tr>\n",
       "    <tr>\n",
       "      <th>1</th>\n",
       "      <td>ad_group_1</td>\n",
       "      <td>2015-10-02</td>\n",
       "      <td>65100</td>\n",
       "      <td>1</td>\n",
       "      <td>1</td>\n",
       "      <td>0</td>\n",
       "      <td>0</td>\n",
       "      <td>0</td>\n",
       "      <td>0</td>\n",
       "      <td>0</td>\n",
       "    </tr>\n",
       "    <tr>\n",
       "      <th>2</th>\n",
       "      <td>ad_group_1</td>\n",
       "      <td>2015-10-03</td>\n",
       "      <td>70658</td>\n",
       "      <td>2</td>\n",
       "      <td>0</td>\n",
       "      <td>0</td>\n",
       "      <td>1</td>\n",
       "      <td>0</td>\n",
       "      <td>0</td>\n",
       "      <td>0</td>\n",
       "    </tr>\n",
       "    <tr>\n",
       "      <th>3</th>\n",
       "      <td>ad_group_1</td>\n",
       "      <td>2015-10-04</td>\n",
       "      <td>69809</td>\n",
       "      <td>3</td>\n",
       "      <td>0</td>\n",
       "      <td>0</td>\n",
       "      <td>0</td>\n",
       "      <td>0</td>\n",
       "      <td>0</td>\n",
       "      <td>0</td>\n",
       "    </tr>\n",
       "    <tr>\n",
       "      <th>4</th>\n",
       "      <td>ad_group_1</td>\n",
       "      <td>2015-10-05</td>\n",
       "      <td>68186</td>\n",
       "      <td>4</td>\n",
       "      <td>0</td>\n",
       "      <td>1</td>\n",
       "      <td>0</td>\n",
       "      <td>0</td>\n",
       "      <td>0</td>\n",
       "      <td>0</td>\n",
       "    </tr>\n",
       "  </tbody>\n",
       "</table>\n",
       "</div>"
      ],
      "text/plain": [
       "           ad       date  shown  days  Friday  Monday  Saturday  Thursday  \\\n",
       "0  ad_group_1 2015-10-01  65877     0       0       0         0         1   \n",
       "1  ad_group_1 2015-10-02  65100     1       1       0         0         0   \n",
       "2  ad_group_1 2015-10-03  70658     2       0       0         1         0   \n",
       "3  ad_group_1 2015-10-04  69809     3       0       0         0         0   \n",
       "4  ad_group_1 2015-10-05  68186     4       0       1         0         0   \n",
       "\n",
       "   Tuesday  Wednesday  \n",
       "0        0          0  \n",
       "1        0          0  \n",
       "2        0          0  \n",
       "3        0          0  \n",
       "4        0          0  "
      ]
     },
     "execution_count": 9,
     "metadata": {},
     "output_type": "execute_result"
    }
   ],
   "source": [
    "X.head()"
   ]
  },
  {
   "cell_type": "code",
   "execution_count": 16,
   "metadata": {},
   "outputs": [
    {
     "data": {
      "text/plain": [
       "40"
      ]
     },
     "execution_count": 16,
     "metadata": {},
     "output_type": "execute_result"
    }
   ],
   "source": [
    "X.ad.nunique()"
   ]
  },
  {
   "cell_type": "code",
   "execution_count": 18,
   "metadata": {},
   "outputs": [],
   "source": [
    "time_features = [u'days', u'Friday', u'Monday', u'Saturday',u'Thursday', u'Tuesday', u'Wednesday']\n",
    "def fit_linear_regression(df):\n",
    "    features = df.loc[:,time_features]\n",
    "    target = df['shown']\n",
    "\n",
    "    lr = LinearRegression()\n",
    "    lr.fit(features,target)\n",
    "\n",
    "    return lr"
   ]
  },
  {
   "cell_type": "code",
   "execution_count": 19,
   "metadata": {},
   "outputs": [],
   "source": [
    "lrmodels = X.groupby(by='ad').apply(fit_linear_regression)"
   ]
  },
  {
   "cell_type": "code",
   "execution_count": 20,
   "metadata": {},
   "outputs": [
    {
     "data": {
      "text/plain": [
       "[<matplotlib.lines.Line2D at 0x18a1ffbdcc0>]"
      ]
     },
     "execution_count": 20,
     "metadata": {},
     "output_type": "execute_result"
    },
    {
     "data": {
      "image/png": "[encoded data removed]",
      "text/plain": [
       "<Figure size 432x288 with 1 Axes>"
      ]
     },
     "metadata": {
      "needs_background": "light"
     },
     "output_type": "display_data"
    }
   ],
   "source": [
    "adname = 'ad_group_15'\n",
    "data = X.loc[X.ad == adname,time_features]\n",
    "ytrue = X.loc[X.ad == adname,'shown']\n",
    "\n",
    "model = lrmodels.loc[adname]\n",
    "ypred = model.predict(data)\n",
    "\n",
    "plt.plot(data.days,ytrue,marker='o')\n",
    "plt.plot(data.days,ypred,marker='*')"
   ]
  },
  {
   "cell_type": "code",
   "execution_count": 22,
   "metadata": {},
   "outputs": [
    {
     "data": {
      "text/html": [
       "<div>\n",
       "<style scoped>\n",
       "    .dataframe tbody tr th:only-of-type {\n",
       "        vertical-align: middle;\n",
       "    }\n",
       "\n",
       "    .dataframe tbody tr th {\n",
       "        vertical-align: top;\n",
       "    }\n",
       "\n",
       "    .dataframe thead th {\n",
       "        text-align: right;\n",
       "    }\n",
       "</style>\n",
       "<table border=\"1\" class=\"dataframe\">\n",
       "  <thead>\n",
       "    <tr style=\"text-align: right;\">\n",
       "      <th></th>\n",
       "      <th>date</th>\n",
       "      <th>shown</th>\n",
       "      <th>clicked</th>\n",
       "      <th>converted</th>\n",
       "      <th>cost</th>\n",
       "      <th>revenue</th>\n",
       "      <th>ad</th>\n",
       "    </tr>\n",
       "  </thead>\n",
       "  <tbody>\n",
       "    <tr>\n",
       "      <th>0</th>\n",
       "      <td>2015-10-01</td>\n",
       "      <td>65877</td>\n",
       "      <td>2339</td>\n",
       "      <td>43</td>\n",
       "      <td>0.90</td>\n",
       "      <td>641.62</td>\n",
       "      <td>ad_group_1</td>\n",
       "    </tr>\n",
       "    <tr>\n",
       "      <th>1</th>\n",
       "      <td>2015-10-02</td>\n",
       "      <td>65100</td>\n",
       "      <td>2498</td>\n",
       "      <td>38</td>\n",
       "      <td>0.94</td>\n",
       "      <td>756.37</td>\n",
       "      <td>ad_group_1</td>\n",
       "    </tr>\n",
       "    <tr>\n",
       "      <th>2</th>\n",
       "      <td>2015-10-03</td>\n",
       "      <td>70658</td>\n",
       "      <td>2313</td>\n",
       "      <td>49</td>\n",
       "      <td>0.86</td>\n",
       "      <td>970.90</td>\n",
       "      <td>ad_group_1</td>\n",
       "    </tr>\n",
       "    <tr>\n",
       "      <th>3</th>\n",
       "      <td>2015-10-04</td>\n",
       "      <td>69809</td>\n",
       "      <td>2833</td>\n",
       "      <td>51</td>\n",
       "      <td>1.01</td>\n",
       "      <td>907.39</td>\n",
       "      <td>ad_group_1</td>\n",
       "    </tr>\n",
       "    <tr>\n",
       "      <th>4</th>\n",
       "      <td>2015-10-05</td>\n",
       "      <td>68186</td>\n",
       "      <td>2696</td>\n",
       "      <td>41</td>\n",
       "      <td>1.00</td>\n",
       "      <td>879.45</td>\n",
       "      <td>ad_group_1</td>\n",
       "    </tr>\n",
       "  </tbody>\n",
       "</table>\n",
       "</div>"
      ],
      "text/plain": [
       "        date  shown  clicked  converted  cost  revenue          ad\n",
       "0 2015-10-01  65877     2339         43  0.90   641.62  ad_group_1\n",
       "1 2015-10-02  65100     2498         38  0.94   756.37  ad_group_1\n",
       "2 2015-10-03  70658     2313         49  0.86   970.90  ad_group_1\n",
       "3 2015-10-04  69809     2833         51  1.01   907.39  ad_group_1\n",
       "4 2015-10-05  68186     2696         41  1.00   879.45  ad_group_1"
      ]
     },
     "execution_count": 22,
     "metadata": {},
     "output_type": "execute_result"
    }
   ],
   "source": [
    "ads.head()"
   ]
  },
  {
   "cell_type": "code",
   "execution_count": 23,
   "metadata": {},
   "outputs": [],
   "source": [
    "def avg_net_revenue_per_show(df):\n",
    "    total_net_revenue = df.revenue.sum()\n",
    "    total_shown = df.shown.sum()\n",
    "    return total_net_revenue / total_shown\n",
    "\n",
    "net_revenue_per_show_grps = ads.groupby(\"ad\").apply(avg_net_revenue_per_show).sort_values(ascending=False)\n"
   ]
  },
  {
   "cell_type": "code",
   "execution_count": 24,
   "metadata": {},
   "outputs": [],
   "source": [
    "def __statistics(values,suffix,d):\n",
    "    d['mean_{}'.format(suffix)] = values.mean()\n",
    "\n",
    "    qs = [25, 50, 75]\n",
    "    percentiles = np.percentile(values, qs)\n",
    "    for q, p in zip(qs, percentiles):\n",
    "        d['{}p_{}'.format(q,suffix)] = p"
   ]
  },
  {
   "cell_type": "code",
   "execution_count": 25,
   "metadata": {},
   "outputs": [],
   "source": [
    "def statistics_changes(df):\n",
    "    costs = df.sort_values(by='date')['cost'].values\n",
    "    prev_cost = costs[:-1]\n",
    "    curr_cost = costs[1:]\n",
    "\n",
    "    d = {}\n",
    "    __statistics(curr_cost / prev_cost,'chrate',d)\n",
    "    __statistics(curr_cost - prev_cost,'abschg',d)\n",
    "\n",
    "    return pd.Series(d)"
   ]
  },
  {
   "cell_type": "code",
   "execution_count": 26,
   "metadata": {},
   "outputs": [
    {
     "name": "stderr",
     "output_type": "stream",
     "text": [
      "C:\\Users\\Vin\\Anaconda3\\lib\\site-packages\\ipykernel_launcher.py:7: RuntimeWarning: divide by zero encountered in true_divide\n",
      "  import sys\n"
     ]
    },
    {
     "data": {
      "text/plain": [
       "array([[<matplotlib.axes._subplots.AxesSubplot object at 0x0000018A20355470>,\n",
       "        <matplotlib.axes._subplots.AxesSubplot object at 0x0000018A2036D6A0>,\n",
       "        <matplotlib.axes._subplots.AxesSubplot object at 0x0000018A20384860>],\n",
       "       [<matplotlib.axes._subplots.AxesSubplot object at 0x0000018A2039CAC8>,\n",
       "        <matplotlib.axes._subplots.AxesSubplot object at 0x0000018A203B5D30>,\n",
       "        <matplotlib.axes._subplots.AxesSubplot object at 0x0000018A203CCF98>],\n",
       "       [<matplotlib.axes._subplots.AxesSubplot object at 0x0000018A213BC240>,\n",
       "        <matplotlib.axes._subplots.AxesSubplot object at 0x0000018A213D44A8>,\n",
       "        <matplotlib.axes._subplots.AxesSubplot object at 0x0000018A213EB710>]],\n",
       "      dtype=object)"
      ]
     },
     "execution_count": 26,
     "metadata": {},
     "output_type": "execute_result"
    },
    {
     "data": {
      "image/png": "[encoded data removed]",
      "text/plain": [
       "<Figure size 432x288 with 1 Axes>"
      ]
     },
     "metadata": {
      "needs_background": "light"
     },
     "output_type": "display_data"
    },
    {
     "data": {
      "image/png": "[encoded data removed]",
      "text/plain": [
       "<Figure size 432x288 with 9 Axes>"
      ]
     },
     "metadata": {
      "needs_background": "light"
     },
     "output_type": "display_data"
    }
   ],
   "source": [
    "change_statistics = ads.groupby('ad').apply(statistics_changes)\n",
    "\n",
    "change_statistics['mean_abschg'].hist(bins=50)\n",
    "\n",
    "change_statistics.loc[:,[u'25p_abschg', u'25p_chrate', u'50p_abschg', u'50p_chrate',u'75p_abschg', u'75p_chrate', u'mean_abschg']].hist(bins=50)"
   ]
  },
  {
   "cell_type": "code",
   "execution_count": null,
   "metadata": {},
   "outputs": [],
   "source": []
  },
  {
   "cell_type": "code",
   "execution_count": null,
   "metadata": {},
   "outputs": [],
   "source": []
  },
  {
   "cell_type": "code",
   "execution_count": null,
   "metadata": {},
   "outputs": [],
   "source": []
  },
  {
   "cell_type": "code",
   "execution_count": null,
   "metadata": {},
   "outputs": [],
   "source": []
  },
  {
   "cell_type": "code",
   "execution_count": null,
   "metadata": {},
   "outputs": [],
   "source": []
  },
  {
   "cell_type": "code",
   "execution_count": null,
   "metadata": {},
   "outputs": [],
   "source": []
  },
  {
   "cell_type": "code",
   "execution_count": null,
   "metadata": {},
   "outputs": [],
   "source": []
  },
  {
   "cell_type": "code",
   "execution_count": null,
   "metadata": {},
   "outputs": [],
   "source": []
  },
  {
   "cell_type": "code",
   "execution_count": null,
   "metadata": {},
   "outputs": [],
   "source": []
  },
  {
   "cell_type": "code",
   "execution_count": null,
   "metadata": {},
   "outputs": [],
   "source": []
  },
  {
   "cell_type": "code",
   "execution_count": null,
   "metadata": {},
   "outputs": [],
   "source": []
  },
  {
   "cell_type": "code",
   "execution_count": null,
   "metadata": {},
   "outputs": [],
   "source": []
  },
  {
   "cell_type": "code",
   "execution_count": null,
   "metadata": {},
   "outputs": [],
   "source": []
  },
  {
   "cell_type": "code",
   "execution_count": null,
   "metadata": {},
   "outputs": [],
   "source": []
  },
  {
   "cell_type": "code",
   "execution_count": null,
   "metadata": {},
   "outputs": [],
   "source": []
  },
  {
   "cell_type": "code",
   "execution_count": null,
   "metadata": {},
   "outputs": [],
   "source": []
  },
  {
   "cell_type": "code",
   "execution_count": null,
   "metadata": {},
   "outputs": [],
   "source": []
  },
  {
   "cell_type": "code",
   "execution_count": null,
   "metadata": {},
   "outputs": [],
   "source": []
  },
  {
   "cell_type": "code",
   "execution_count": null,
   "metadata": {},
   "outputs": [],
   "source": []
  },
  {
   "cell_type": "code",
   "execution_count": null,
   "metadata": {},
   "outputs": [],
   "source": []
  },
  {
   "cell_type": "code",
   "execution_count": null,
   "metadata": {},
   "outputs": [],
   "source": []
  },
  {
   "cell_type": "code",
   "execution_count": null,
   "metadata": {},
   "outputs": [],
   "source": []
  },
  {
   "cell_type": "code",
   "execution_count": null,
   "metadata": {},
   "outputs": [],
   "source": []
  },
  {
   "cell_type": "code",
   "execution_count": null,
   "metadata": {},
   "outputs": [],
   "source": []
  },
  {
   "cell_type": "code",
   "execution_count": null,
   "metadata": {},
   "outputs": [],
   "source": []
  }
 ],
 "metadata": {
  "kernelspec": {
   "display_name": "Python 3",
   "language": "python",
   "name": "python3"
  },
  "language_info": {
   "codemirror_mode": {
    "name": "ipython",
    "version": 3
   },
   "file_extension": ".py",
   "mimetype": "text/x-python",
   "name": "python",
   "nbconvert_exporter": "python",
   "pygments_lexer": "ipython3",
   "version": "3.5.6"
  }
 },
 "nbformat": 4,
 "nbformat_minor": 2
}
