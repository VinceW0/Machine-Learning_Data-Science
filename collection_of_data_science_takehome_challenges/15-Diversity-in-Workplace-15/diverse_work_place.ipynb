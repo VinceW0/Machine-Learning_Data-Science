{
 "cells": [
  {
   "cell_type": "markdown",
   "metadata": {},
   "source": [
    "There has been lots of talking about diversity in the workplace, especially in technology. The Head of HR at your company is very concerned about that and has asked you to analyze internal data about employees and see whether results suggest that the company is treating its employees fairly."
   ]
  },
  {
   "cell_type": "code",
   "execution_count": 1,
   "metadata": {},
   "outputs": [],
   "source": [
    "import numpy as np\n",
    "import pandas as pd\n",
    "import scipy.stats as ss\n",
    "from sklearn.preprocessing import LabelEncoder\n",
    "from sklearn.model_selection import  train_test_split\n",
    "from sklearn.metrics import mean_squared_error,mean_absolute_error,r2_score\n",
    "from sklearn.ensemble import RandomForestRegressor\n",
    "from sklearn.feature_selection import chi2\n",
    "import xgboost as xgb\n",
    "\n",
    "import matplotlib.pyplot as plt\n",
    "plt.style.use('ggplot')\n",
    "%matplotlib inline"
   ]
  },
  {
   "cell_type": "markdown",
   "metadata": {},
   "source": [
    "# Index\n",
    "* [Answer question 1](#Answer-question-1)\n",
    "* [Answer question 2](#Answer-question-2)\n",
    "* [Answer-question 3](#Answer-question-3)\n",
    "    * [Load all the data](#Load-all-the-data)\n",
    "    * [Feature Enginnering](#Feature-Enginnering)\n",
    "    * [Remove outliers](#Remove-outliers)\n",
    "    * [Train](#Train)\n",
    "    * [Evaluate](#Evaluate)\n",
    "* [Answer question 4](#Answer-question-4)\n",
    "    * [Main factors impacting salaries](#Main-factors-impacting-salaries)\n",
    "    * [Residuals Analysis](#Residuals-Analysis)\n",
    "    * [Is it fair? Any bias?](#Is-it-fair?-Any-bias?)\n",
    "    * [Suggestions to HR header](#Suggestions-to-HR-header)\n",
    "\n",
    "# Answer question 1\n",
    "<span style='color:blue'>In the company there are 6 levels (described below). Identify, for each employee, her corresponding level.</span>\n",
    "* <span style='color:blue'>Individual Contributors (IC) - they don't manage anyone</span> \n",
    "* <span style='color:blue'>Middle Managers (MM) - they are the direct bosses of IC</span>  \n",
    "* <span style='color:blue'>Directors (D) - they are the direct bosses of MM</span>  \n",
    "* <span style='color:blue'>VP - D direct bosses</span>  \n",
    "* <span style='color:blue'>Executives (E) - VP direct bosses</span>  \n",
    "* <span style='color:blue'>CEO - The direct boss of E.</span> "
   ]
  },
  {
   "cell_type": "code",
   "execution_count": 2,
   "metadata": {},
   "outputs": [],
   "source": [
    "hierarchy = pd.read_csv(\"company_hierarchy.csv\",index_col='employee_id')\n",
    "hierarchy['level'] = None # initialize \n",
    "\n",
    "# starting point\n",
    "hierarchy.loc[hierarchy.dept == 'CEO','level'] = 'CEO'\n",
    "\n",
    "# change all boss_id to integer\n",
    "hierarchy.loc[hierarchy.level == 'CEO','boss_id'] = -1\n",
    "hierarchy['boss_id'] = hierarchy.boss_id.astype(int)\n",
    "\n",
    "def set_level(boss_level,level):\n",
    "    boss_ids = hierarchy.loc[hierarchy.level == boss_level,:].index\n",
    "    is_subordinate = np.in1d(hierarchy.boss_id,boss_ids)\n",
    "    hierarchy.loc[is_subordinate,'level'] = level\n",
    "\n",
    "set_level('CEO','E')\n",
    "set_level('E','VP')\n",
    "set_level('VP','D')\n",
    "set_level('D','MM')\n",
    "set_level('MM','IC')"
   ]
  },
  {
   "cell_type": "code",
   "execution_count": 3,
   "metadata": {},
   "outputs": [
    {
     "data": {
      "text/plain": [
       "IC     9000\n",
       "MM      800\n",
       "D       160\n",
       "VP       35\n",
       "E         4\n",
       "CEO       1\n",
       "Name: level, dtype: int64"
      ]
     },
     "execution_count": 3,
     "metadata": {},
     "output_type": "execute_result"
    }
   ],
   "source": [
    "hierarchy.level.value_counts()"
   ]
  },
  {
   "cell_type": "markdown",
   "metadata": {},
   "source": [
    "# Answer question 2\n",
    "<span style='color:blue'>How many people each employee manages? You should have a table with employee ids and the number of people managed. Consider that if John directly manages 2 people and these two people manage 5 people each, then we conclude that John manages 12 people.</span>"
   ]
  },
  {
   "cell_type": "code",
   "execution_count": 4,
   "metadata": {},
   "outputs": [],
   "source": [
    "hierarchy['n_subordinates'] = 0 # initialize\n",
    "\n",
    "def __count_subordinates(s):\n",
    "    \"\"\"\n",
    "    s: stands for subordinates, it is a series\n",
    "    its value represents #subordinates that subordinate has\n",
    "    \"\"\"\n",
    "    n_direct_subordinates = s.shape[0]\n",
    "    n_indirect_subordinates = s.sum()\n",
    "    return n_direct_subordinates + n_indirect_subordinates\n",
    "\n",
    "def count_subordinates(subordinate_level):\n",
    "    num_subordinates = hierarchy.loc[hierarchy.level == subordinate_level,:].groupby('boss_id')['n_subordinates'].agg(__count_subordinates)\n",
    "    hierarchy.loc[num_subordinates.index,'n_subordinates'] = num_subordinates\n",
    "\n",
    "count_subordinates(subordinate_level=\"IC\")\n",
    "count_subordinates(subordinate_level=\"MM\")\n",
    "count_subordinates(subordinate_level=\"D\")\n",
    "count_subordinates(subordinate_level=\"VP\")\n",
    "count_subordinates(subordinate_level=\"E\")"
   ]
  },
  {
   "cell_type": "code",
   "execution_count": 5,
   "metadata": {},
   "outputs": [
    {
     "data": {
      "text/plain": [
       "employee_id\n",
       "61554    9999\n",
       "Name: n_subordinates, dtype: int64"
      ]
     },
     "execution_count": 5,
     "metadata": {},
     "output_type": "execute_result"
    }
   ],
   "source": [
    "# CEO's n_subordinates is all employees but himself\n",
    "hierarchy.loc[hierarchy.level =='CEO','n_subordinates'] "
   ]
  },
  {
   "cell_type": "markdown",
   "metadata": {},
   "source": [
    "# Answer question 3\n",
    "<span style='color:blue'>Build a model to predict the salary of each employee.</span>"
   ]
  },
  {
   "cell_type": "markdown",
   "metadata": {},
   "source": [
    "## Load all the data"
   ]
  },
  {
   "cell_type": "code",
   "execution_count": 6,
   "metadata": {},
   "outputs": [],
   "source": [
    "employees = pd.read_csv(\"employee.csv\",index_col=\"employee_id\")\n",
    "\n",
    "# make the salary \"N k\", where k represents $1000, which is easier to display\n",
    "employees[\"salary\"] /= 1000"
   ]
  },
  {
   "cell_type": "code",
   "execution_count": 7,
   "metadata": {},
   "outputs": [],
   "source": [
    "# join all features together\n",
    "employees = employees.join(hierarchy)"
   ]
  },
  {
   "cell_type": "code",
   "execution_count": 8,
   "metadata": {},
   "outputs": [],
   "source": [
    "employees.to_csv(\"all_employees.csv\",index_label=\"employee_id\")"
   ]
  },
  {
   "cell_type": "markdown",
   "metadata": {},
   "source": [
    "## Feature Enginnering"
   ]
  },
  {
   "cell_type": "code",
   "execution_count": 9,
   "metadata": {},
   "outputs": [],
   "source": [
    "X = employees.copy()\n",
    "\n",
    "X[\"is_male\"] = (X.sex == \"M\").astype(int)\n",
    "del X[\"sex\"]\n",
    "\n",
    "del X['boss_id']# I assume boss_id won't affect salary"
   ]
  },
  {
   "cell_type": "code",
   "execution_count": 10,
   "metadata": {},
   "outputs": [],
   "source": [
    "# transform 'level' into numbers\n",
    "# !!! ORDER matters\n",
    "index2level = ['IC','MM',\"D\",\"VP\",\"E\",\"CEO\"]\n",
    "level2index = {l:index for index,l in enumerate(index2level)}\n",
    "X['level'] = X.level.map(level2index)"
   ]
  },
  {
   "cell_type": "code",
   "execution_count": 11,
   "metadata": {},
   "outputs": [],
   "source": [
    "# transform 'educational degree' into numbers\n",
    "# !!! ORDER matters\n",
    "index2degree = ['High_School','Bachelor','Master','PhD']\n",
    "degree2index = {d:index for index,d in enumerate(index2degree)}\n",
    "X['degree'] = X.degree_level.map(degree2index)\n",
    "del X['degree_level']"
   ]
  },
  {
   "cell_type": "code",
   "execution_count": 12,
   "metadata": {},
   "outputs": [],
   "source": [
    "# OHE department\n",
    "X = pd.get_dummies(X)\n",
    "del X['dept_CEO']"
   ]
  },
  {
   "cell_type": "code",
   "execution_count": 13,
   "metadata": {},
   "outputs": [
    {
     "data": {
      "text/plain": [
       "<matplotlib.axes._subplots.AxesSubplot at 0x26803598710>"
      ]
     },
     "execution_count": 13,
     "metadata": {},
     "output_type": "execute_result"
    },
    {
     "data": {
      "image/png": "[encoded data removed]",
      "text/plain": [
       "<Figure size 432x288 with 1 Axes>"
      ]
     },
     "metadata": {
      "needs_background": "light"
     },
     "output_type": "display_data"
    }
   ],
   "source": [
    "X.salary.hist(bins=50)"
   ]
  },
  {
   "cell_type": "markdown",
   "metadata": {},
   "source": [
    "from above plot, we can see that, salary's distribution is  ** highly skewed **, which increase difficulty on regression. so I need ** log transform on the target value **."
   ]
  },
  {
   "cell_type": "code",
   "execution_count": 14,
   "metadata": {},
   "outputs": [
    {
     "data": {
      "text/plain": [
       "<matplotlib.axes._subplots.AxesSubplot at 0x268036dc898>"
      ]
     },
     "execution_count": 14,
     "metadata": {},
     "output_type": "execute_result"
    },
    {
     "data": {
      "image/png": "[encoded data removed]",
      "text/plain": [
       "<Figure size 432x288 with 1 Axes>"
      ]
     },
     "metadata": {
      "needs_background": "light"
     },
     "output_type": "display_data"
    }
   ],
   "source": [
    "X['salary'] = np.log(X.salary)\n",
    "X.salary.hist(bins=50)"
   ]
  },
  {
   "cell_type": "markdown",
   "metadata": {},
   "source": [
    "we can see after log transformation, salary's distribution is ** more balanced **."
   ]
  },
  {
   "cell_type": "code",
   "execution_count": 15,
   "metadata": {},
   "outputs": [
    {
     "data": {
      "text/html": [
       "<div>\n",
       "<style scoped>\n",
       "    .dataframe tbody tr th:only-of-type {\n",
       "        vertical-align: middle;\n",
       "    }\n",
       "\n",
       "    .dataframe tbody tr th {\n",
       "        vertical-align: top;\n",
       "    }\n",
       "\n",
       "    .dataframe thead th {\n",
       "        text-align: right;\n",
       "    }\n",
       "</style>\n",
       "<table border=\"1\" class=\"dataframe\">\n",
       "  <thead>\n",
       "    <tr style=\"text-align: right;\">\n",
       "      <th></th>\n",
       "      <th>signing_bonus</th>\n",
       "      <th>salary</th>\n",
       "      <th>yrs_experience</th>\n",
       "      <th>level</th>\n",
       "      <th>n_subordinates</th>\n",
       "      <th>is_male</th>\n",
       "      <th>degree</th>\n",
       "      <th>dept_HR</th>\n",
       "      <th>dept_engineering</th>\n",
       "      <th>dept_marketing</th>\n",
       "      <th>dept_sales</th>\n",
       "    </tr>\n",
       "    <tr>\n",
       "      <th>employee_id</th>\n",
       "      <th></th>\n",
       "      <th></th>\n",
       "      <th></th>\n",
       "      <th></th>\n",
       "      <th></th>\n",
       "      <th></th>\n",
       "      <th></th>\n",
       "      <th></th>\n",
       "      <th></th>\n",
       "      <th></th>\n",
       "      <th></th>\n",
       "    </tr>\n",
       "  </thead>\n",
       "  <tbody>\n",
       "    <tr>\n",
       "      <th>138719</th>\n",
       "      <td>0</td>\n",
       "      <td>5.609472</td>\n",
       "      <td>2</td>\n",
       "      <td>0</td>\n",
       "      <td>0</td>\n",
       "      <td>1</td>\n",
       "      <td>2</td>\n",
       "      <td>0</td>\n",
       "      <td>1</td>\n",
       "      <td>0</td>\n",
       "      <td>0</td>\n",
       "    </tr>\n",
       "    <tr>\n",
       "      <th>3192</th>\n",
       "      <td>0</td>\n",
       "      <td>5.707110</td>\n",
       "      <td>1</td>\n",
       "      <td>0</td>\n",
       "      <td>0</td>\n",
       "      <td>0</td>\n",
       "      <td>1</td>\n",
       "      <td>0</td>\n",
       "      <td>0</td>\n",
       "      <td>0</td>\n",
       "      <td>1</td>\n",
       "    </tr>\n",
       "    <tr>\n",
       "      <th>114657</th>\n",
       "      <td>0</td>\n",
       "      <td>5.564520</td>\n",
       "      <td>2</td>\n",
       "      <td>0</td>\n",
       "      <td>0</td>\n",
       "      <td>0</td>\n",
       "      <td>2</td>\n",
       "      <td>0</td>\n",
       "      <td>0</td>\n",
       "      <td>0</td>\n",
       "      <td>1</td>\n",
       "    </tr>\n",
       "    <tr>\n",
       "      <th>29039</th>\n",
       "      <td>0</td>\n",
       "      <td>4.454347</td>\n",
       "      <td>4</td>\n",
       "      <td>0</td>\n",
       "      <td>0</td>\n",
       "      <td>0</td>\n",
       "      <td>0</td>\n",
       "      <td>1</td>\n",
       "      <td>0</td>\n",
       "      <td>0</td>\n",
       "      <td>0</td>\n",
       "    </tr>\n",
       "    <tr>\n",
       "      <th>118607</th>\n",
       "      <td>0</td>\n",
       "      <td>4.836282</td>\n",
       "      <td>3</td>\n",
       "      <td>0</td>\n",
       "      <td>0</td>\n",
       "      <td>0</td>\n",
       "      <td>1</td>\n",
       "      <td>0</td>\n",
       "      <td>0</td>\n",
       "      <td>0</td>\n",
       "      <td>1</td>\n",
       "    </tr>\n",
       "  </tbody>\n",
       "</table>\n",
       "</div>"
      ],
      "text/plain": [
       "             signing_bonus    salary  yrs_experience  level  n_subordinates  \\\n",
       "employee_id                                                                   \n",
       "138719                   0  5.609472               2      0               0   \n",
       "3192                     0  5.707110               1      0               0   \n",
       "114657                   0  5.564520               2      0               0   \n",
       "29039                    0  4.454347               4      0               0   \n",
       "118607                   0  4.836282               3      0               0   \n",
       "\n",
       "             is_male  degree  dept_HR  dept_engineering  dept_marketing  \\\n",
       "employee_id                                                               \n",
       "138719             1       2        0                 1               0   \n",
       "3192               0       1        0                 0               0   \n",
       "114657             0       2        0                 0               0   \n",
       "29039              0       0        1                 0               0   \n",
       "118607             0       1        0                 0               0   \n",
       "\n",
       "             dept_sales  \n",
       "employee_id              \n",
       "138719                0  \n",
       "3192                  1  \n",
       "114657                1  \n",
       "29039                 0  \n",
       "118607                1  "
      ]
     },
     "execution_count": 15,
     "metadata": {},
     "output_type": "execute_result"
    }
   ],
   "source": [
    "X.head()# glance the data"
   ]
  },
  {
   "cell_type": "markdown",
   "metadata": {},
   "source": [
    "## Remove outliers"
   ]
  },
  {
   "cell_type": "code",
   "execution_count": 16,
   "metadata": {},
   "outputs": [
    {
     "data": {
      "text/html": [
       "<div>\n",
       "<style scoped>\n",
       "    .dataframe tbody tr th:only-of-type {\n",
       "        vertical-align: middle;\n",
       "    }\n",
       "\n",
       "    .dataframe tbody tr th {\n",
       "        vertical-align: top;\n",
       "    }\n",
       "\n",
       "    .dataframe thead th {\n",
       "        text-align: right;\n",
       "    }\n",
       "</style>\n",
       "<table border=\"1\" class=\"dataframe\">\n",
       "  <thead>\n",
       "    <tr style=\"text-align: right;\">\n",
       "      <th></th>\n",
       "      <th>count</th>\n",
       "      <th>mean</th>\n",
       "    </tr>\n",
       "    <tr>\n",
       "      <th>level</th>\n",
       "      <th></th>\n",
       "      <th></th>\n",
       "    </tr>\n",
       "  </thead>\n",
       "  <tbody>\n",
       "    <tr>\n",
       "      <th>0</th>\n",
       "      <td>9000</td>\n",
       "      <td>5.112835</td>\n",
       "    </tr>\n",
       "    <tr>\n",
       "      <th>1</th>\n",
       "      <td>800</td>\n",
       "      <td>5.136089</td>\n",
       "    </tr>\n",
       "    <tr>\n",
       "      <th>2</th>\n",
       "      <td>160</td>\n",
       "      <td>5.256181</td>\n",
       "    </tr>\n",
       "    <tr>\n",
       "      <th>3</th>\n",
       "      <td>35</td>\n",
       "      <td>5.496709</td>\n",
       "    </tr>\n",
       "    <tr>\n",
       "      <th>4</th>\n",
       "      <td>4</td>\n",
       "      <td>6.327854</td>\n",
       "    </tr>\n",
       "    <tr>\n",
       "      <th>5</th>\n",
       "      <td>1</td>\n",
       "      <td>6.551080</td>\n",
       "    </tr>\n",
       "  </tbody>\n",
       "</table>\n",
       "</div>"
      ],
      "text/plain": [
       "       count      mean\n",
       "level                 \n",
       "0       9000  5.112835\n",
       "1        800  5.136089\n",
       "2        160  5.256181\n",
       "3         35  5.496709\n",
       "4          4  6.327854\n",
       "5          1  6.551080"
      ]
     },
     "execution_count": 16,
     "metadata": {},
     "output_type": "execute_result"
    }
   ],
   "source": [
    "X.groupby('level')['salary'].agg(['count','mean'])"
   ]
  },
  {
   "cell_type": "markdown",
   "metadata": {},
   "source": [
    "from above result, we can see there is only one CEO, and his salary is much higher than any other employees in this company.\n",
    "\n",
    "<span style=\"color:orange;font-size:1.5em\">when I split the data into training/test sets, no matter which set contains CEO, his high salary will impact significantly the training or evaluation. so I consider CEO as outlier, and remove it from the data set.</span>"
   ]
  },
  {
   "cell_type": "code",
   "execution_count": 17,
   "metadata": {},
   "outputs": [],
   "source": [
    "X = X.loc[X.level !=5,:]"
   ]
  },
  {
   "cell_type": "markdown",
   "metadata": {},
   "source": [
    "## Train"
   ]
  },
  {
   "cell_type": "code",
   "execution_count": 18,
   "metadata": {},
   "outputs": [],
   "source": [
    "y = X['salary']\n",
    "del X['salary']"
   ]
  },
  {
   "cell_type": "code",
   "execution_count": 19,
   "metadata": {},
   "outputs": [],
   "source": [
    "seed = 999\n",
    "Xtrain,Xtest,ytrain,ytest = train_test_split(X,y,test_size=0.3,random_state=seed)"
   ]
  },
  {
   "cell_type": "code",
   "execution_count": 20,
   "metadata": {},
   "outputs": [
    {
     "data": {
      "text/plain": [
       "0    6321\n",
       "1     541\n",
       "2     110\n",
       "3      25\n",
       "4       2\n",
       "Name: level, dtype: int64"
      ]
     },
     "execution_count": 20,
     "metadata": {},
     "output_type": "execute_result"
    }
   ],
   "source": [
    "Xtrain.level.value_counts()"
   ]
  },
  {
   "cell_type": "code",
   "execution_count": 21,
   "metadata": {},
   "outputs": [
    {
     "data": {
      "text/plain": [
       "0    2679\n",
       "1     259\n",
       "2      50\n",
       "3      10\n",
       "4       2\n",
       "Name: level, dtype: int64"
      ]
     },
     "execution_count": 21,
     "metadata": {},
     "output_type": "execute_result"
    }
   ],
   "source": [
    "Xtest.level.value_counts()"
   ]
  },
  {
   "cell_type": "markdown",
   "metadata": {},
   "source": [
    "we can see that, after splitting, <span style='color:orange'>even the smallest group 'level=4' (i.e., Executive level), has representives in ** both ** groups</span>. Hence, the splitting is valid to be used to train and evaluate."
   ]
  },
  {
   "cell_type": "code",
   "execution_count": 22,
   "metadata": {},
   "outputs": [],
   "source": [
    "train_matrix = xgb.DMatrix(Xtrain,ytrain)\n",
    "test_matrix = xgb.DMatrix(Xtest)"
   ]
  },
  {
   "cell_type": "code",
   "execution_count": 23,
   "metadata": {},
   "outputs": [
    {
     "name": "stdout",
     "output_type": "stream",
     "text": [
      "[0]\ttrain-rmse:4.18653+0.00241733\ttest-rmse:4.18659+0.0102355\n",
      "[1]\ttrain-rmse:3.7722+0.00214059\ttest-rmse:3.77229+0.00976896\n",
      "[2]\ttrain-rmse:3.39948+0.00197378\ttest-rmse:3.39955+0.00929313\n",
      "[3]\ttrain-rmse:3.06492+0.00224481\ttest-rmse:3.06487+0.00861731\n",
      "[4]\ttrain-rmse:2.76414+0.00155484\ttest-rmse:2.76428+0.00924605\n",
      "[5]\ttrain-rmse:2.49364+0.00158305\ttest-rmse:2.49375+0.00867065\n",
      "[6]\ttrain-rmse:2.2512+0.00145032\ttest-rmse:2.2513+0.00842443\n",
      "[7]\ttrain-rmse:2.03338+0.00108163\ttest-rmse:2.03349+0.00837238\n",
      "[8]\ttrain-rmse:1.83802+0.000969325\ttest-rmse:1.8381+0.00821095\n",
      "[9]\ttrain-rmse:1.66307+0.00104349\ttest-rmse:1.66312+0.00793305\n",
      "[10]\ttrain-rmse:1.50644+0.000900167\ttest-rmse:1.50648+0.00780434\n",
      "[11]\ttrain-rmse:1.36662+0.000890655\ttest-rmse:1.36663+0.00772581\n",
      "[12]\ttrain-rmse:1.24196+0.000739049\ttest-rmse:1.24198+0.00768939\n",
      "[13]\ttrain-rmse:1.13063+0.000955588\ttest-rmse:1.13063+0.00752919\n",
      "[14]\ttrain-rmse:1.0319+0.00128606\ttest-rmse:1.03193+0.00737369\n",
      "[15]\ttrain-rmse:0.944077+0.00155409\ttest-rmse:0.944224+0.00732521\n",
      "[16]\ttrain-rmse:0.866507+0.00145162\ttest-rmse:0.866722+0.00722272\n",
      "[17]\ttrain-rmse:0.798113+0.00145721\ttest-rmse:0.798543+0.00720929\n",
      "[18]\ttrain-rmse:0.738042+0.00150537\ttest-rmse:0.73857+0.00732421\n",
      "[19]\ttrain-rmse:0.685523+0.0016947\ttest-rmse:0.686191+0.00727754\n",
      "[20]\ttrain-rmse:0.639701+0.00168962\ttest-rmse:0.640732+0.00744987\n",
      "[21]\ttrain-rmse:0.600034+0.0016536\ttest-rmse:0.601331+0.00750196\n",
      "[22]\ttrain-rmse:0.565805+0.00192966\ttest-rmse:0.567458+0.00735475\n",
      "[23]\ttrain-rmse:0.536405+0.00188538\ttest-rmse:0.538429+0.00759698\n",
      "[24]\ttrain-rmse:0.511351+0.00190367\ttest-rmse:0.513705+0.00770128\n",
      "[25]\ttrain-rmse:0.490022+0.00196637\ttest-rmse:0.492777+0.0078077\n",
      "[26]\ttrain-rmse:0.471982+0.0021507\ttest-rmse:0.475272+0.00792605\n",
      "[27]\ttrain-rmse:0.456688+0.00204685\ttest-rmse:0.460478+0.00815851\n",
      "[28]\ttrain-rmse:0.443872+0.00216723\ttest-rmse:0.448296+0.00839753\n",
      "[29]\ttrain-rmse:0.433188+0.00210485\ttest-rmse:0.438213+0.00861093\n",
      "[30]\ttrain-rmse:0.424293+0.00217673\ttest-rmse:0.429714+0.00885806\n",
      "[31]\ttrain-rmse:0.4169+0.00229464\ttest-rmse:0.422606+0.00893282\n",
      "[32]\ttrain-rmse:0.410652+0.00229599\ttest-rmse:0.416851+0.00898537\n",
      "[33]\ttrain-rmse:0.405557+0.00228002\ttest-rmse:0.412229+0.00916945\n",
      "[34]\ttrain-rmse:0.40122+0.00232393\ttest-rmse:0.408377+0.00930257\n",
      "[35]\ttrain-rmse:0.397673+0.00241934\ttest-rmse:0.405353+0.00950041\n",
      "[36]\ttrain-rmse:0.394776+0.00249799\ttest-rmse:0.40285+0.00956118\n",
      "[37]\ttrain-rmse:0.392333+0.00250149\ttest-rmse:0.400738+0.00974122\n",
      "[38]\ttrain-rmse:0.390103+0.00258175\ttest-rmse:0.39908+0.00990514\n",
      "[39]\ttrain-rmse:0.388344+0.00246971\ttest-rmse:0.397815+0.0100509\n",
      "[40]\ttrain-rmse:0.386931+0.00253417\ttest-rmse:0.396713+0.0101704\n",
      "[41]\ttrain-rmse:0.385621+0.00265573\ttest-rmse:0.39582+0.010336\n",
      "[42]\ttrain-rmse:0.384581+0.00270017\ttest-rmse:0.395091+0.010414\n",
      "[43]\ttrain-rmse:0.383604+0.00274941\ttest-rmse:0.394531+0.0104737\n",
      "[44]\ttrain-rmse:0.382833+0.00274961\ttest-rmse:0.394138+0.0104981\n",
      "[45]\ttrain-rmse:0.3821+0.00280316\ttest-rmse:0.39385+0.0106934\n",
      "[46]\ttrain-rmse:0.381505+0.00285039\ttest-rmse:0.393571+0.0107974\n",
      "[47]\ttrain-rmse:0.380993+0.00290474\ttest-rmse:0.393439+0.0109465\n",
      "[48]\ttrain-rmse:0.380445+0.00292754\ttest-rmse:0.393367+0.0109714\n",
      "[49]\ttrain-rmse:0.379898+0.00292159\ttest-rmse:0.393274+0.0109916\n",
      "[50]\ttrain-rmse:0.379538+0.00285523\ttest-rmse:0.393242+0.0110104\n",
      "[51]\ttrain-rmse:0.379116+0.00283497\ttest-rmse:0.393215+0.0111247\n",
      "[52]\ttrain-rmse:0.378715+0.00288274\ttest-rmse:0.393307+0.0112063\n",
      "[53]\ttrain-rmse:0.378306+0.00281301\ttest-rmse:0.39336+0.0112172\n",
      "[54]\ttrain-rmse:0.378006+0.00282115\ttest-rmse:0.393442+0.0111946\n",
      "[55]\ttrain-rmse:0.377708+0.00281122\ttest-rmse:0.393485+0.0111389\n",
      "[56]\ttrain-rmse:0.377394+0.00283237\ttest-rmse:0.393546+0.0110942\n",
      "[57]\ttrain-rmse:0.377124+0.0027484\ttest-rmse:0.393613+0.0109717\n",
      "[58]\ttrain-rmse:0.376836+0.00274045\ttest-rmse:0.393777+0.0110634\n",
      "[59]\ttrain-rmse:0.376577+0.00268471\ttest-rmse:0.393848+0.0109694\n",
      "[60]\ttrain-rmse:0.376272+0.00269052\ttest-rmse:0.393843+0.0109632\n",
      "[61]\ttrain-rmse:0.375941+0.00276033\ttest-rmse:0.393837+0.0109826\n",
      "[62]\ttrain-rmse:0.375637+0.0027479\ttest-rmse:0.393875+0.0109005\n",
      "[63]\ttrain-rmse:0.375322+0.00274266\ttest-rmse:0.393885+0.0109091\n",
      "[64]\ttrain-rmse:0.374972+0.00275202\ttest-rmse:0.393989+0.0109914\n",
      "[65]\ttrain-rmse:0.374636+0.00267603\ttest-rmse:0.394085+0.0110118\n",
      "[66]\ttrain-rmse:0.374289+0.00267564\ttest-rmse:0.394244+0.0109711\n",
      "[67]\ttrain-rmse:0.374028+0.00271188\ttest-rmse:0.394388+0.0110585\n",
      "[68]\ttrain-rmse:0.373831+0.00275136\ttest-rmse:0.394517+0.0110635\n",
      "[69]\ttrain-rmse:0.373613+0.00268391\ttest-rmse:0.394659+0.011084\n",
      "[70]\ttrain-rmse:0.373368+0.00268045\ttest-rmse:0.394798+0.0110463\n",
      "[71]\ttrain-rmse:0.373125+0.00273763\ttest-rmse:0.395011+0.011116\n",
      "[72]\ttrain-rmse:0.372859+0.00278372\ttest-rmse:0.395063+0.011176\n",
      "[73]\ttrain-rmse:0.372629+0.0028635\ttest-rmse:0.395161+0.0112352\n",
      "[74]\ttrain-rmse:0.372341+0.00285846\ttest-rmse:0.395341+0.011231\n",
      "[75]\ttrain-rmse:0.372079+0.00287943\ttest-rmse:0.395485+0.0112611\n",
      "[76]\ttrain-rmse:0.371847+0.00288289\ttest-rmse:0.395561+0.011354\n",
      "[77]\ttrain-rmse:0.371604+0.00288331\ttest-rmse:0.395621+0.0115314\n",
      "[78]\ttrain-rmse:0.371398+0.00290697\ttest-rmse:0.39572+0.0115224\n",
      "[79]\ttrain-rmse:0.371173+0.00294403\ttest-rmse:0.395795+0.011522\n",
      "[80]\ttrain-rmse:0.370899+0.00295961\ttest-rmse:0.395867+0.0114878\n"
     ]
    }
   ],
   "source": [
    "params = {}\n",
    "params['silent'] = 1\n",
    "params['objective'] = 'reg:linear'\n",
    "params['eval_metric'] = 'rmse'\n",
    "params[\"num_rounds\"] = 300\n",
    "params[\"early_stopping_rounds\"] = 30\n",
    "# params['min_child_weight'] = 2\n",
    "# params['max_depth'] = 6\n",
    "params['eta'] = 0.1\n",
    "params[\"subsample\"] = 0.8\n",
    "params[\"colsample_bytree\"] = 0.8\n",
    "\n",
    "cv_results = xgb.cv(params,train_matrix,\n",
    "                    num_boost_round = params[\"num_rounds\"],\n",
    "                    nfold = params.get('nfold',5),\n",
    "                    metrics = params['eval_metric'],\n",
    "                    early_stopping_rounds = params[\"early_stopping_rounds\"],\n",
    "                    verbose_eval = True,\n",
    "                    seed = seed)"
   ]
  },
  {
   "cell_type": "code",
   "execution_count": 24,
   "metadata": {},
   "outputs": [
    {
     "data": {
      "text/plain": [
       "52"
      ]
     },
     "execution_count": 24,
     "metadata": {},
     "output_type": "execute_result"
    }
   ],
   "source": [
    "n_best_trees = cv_results.shape[0]\n",
    "n_best_trees"
   ]
  },
  {
   "cell_type": "code",
   "execution_count": 25,
   "metadata": {},
   "outputs": [
    {
     "name": "stdout",
     "output_type": "stream",
     "text": [
      "[0]\ttrain-rmse:4.18652\n",
      "[1]\ttrain-rmse:3.77199\n",
      "[2]\ttrain-rmse:3.39923\n",
      "[3]\ttrain-rmse:3.06437\n",
      "[4]\ttrain-rmse:2.76366\n",
      "[5]\ttrain-rmse:2.49322\n",
      "[6]\ttrain-rmse:2.25028\n",
      "[7]\ttrain-rmse:2.03278\n",
      "[8]\ttrain-rmse:1.83774\n",
      "[9]\ttrain-rmse:1.66253\n",
      "[10]\ttrain-rmse:1.50592\n",
      "[11]\ttrain-rmse:1.36608\n",
      "[12]\ttrain-rmse:1.24122\n",
      "[13]\ttrain-rmse:1.13004\n",
      "[14]\ttrain-rmse:1.03149\n",
      "[15]\ttrain-rmse:0.944116\n",
      "[16]\ttrain-rmse:0.866692\n",
      "[17]\ttrain-rmse:0.798342\n",
      "[18]\ttrain-rmse:0.738243\n",
      "[19]\ttrain-rmse:0.685749\n",
      "[20]\ttrain-rmse:0.640332\n",
      "[21]\ttrain-rmse:0.600612\n",
      "[22]\ttrain-rmse:0.566475\n",
      "[23]\ttrain-rmse:0.53728\n",
      "[24]\ttrain-rmse:0.512077\n",
      "[25]\ttrain-rmse:0.490741\n",
      "[26]\ttrain-rmse:0.472767\n",
      "[27]\ttrain-rmse:0.457591\n",
      "[28]\ttrain-rmse:0.44505\n",
      "[29]\ttrain-rmse:0.4344\n",
      "[30]\ttrain-rmse:0.425457\n",
      "[31]\ttrain-rmse:0.417885\n",
      "[32]\ttrain-rmse:0.411928\n",
      "[33]\ttrain-rmse:0.406709\n",
      "[34]\ttrain-rmse:0.402561\n",
      "[35]\ttrain-rmse:0.399034\n",
      "[36]\ttrain-rmse:0.396196\n",
      "[37]\ttrain-rmse:0.393619\n",
      "[38]\ttrain-rmse:0.391575\n",
      "[39]\ttrain-rmse:0.389975\n",
      "[40]\ttrain-rmse:0.388617\n",
      "[41]\ttrain-rmse:0.387503\n",
      "[42]\ttrain-rmse:0.386437\n",
      "[43]\ttrain-rmse:0.385543\n",
      "[44]\ttrain-rmse:0.384885\n",
      "[45]\ttrain-rmse:0.384405\n",
      "[46]\ttrain-rmse:0.383728\n",
      "[47]\ttrain-rmse:0.382945\n",
      "[48]\ttrain-rmse:0.382282\n",
      "[49]\ttrain-rmse:0.381861\n",
      "[50]\ttrain-rmse:0.381374\n",
      "[51]\ttrain-rmse:0.380991\n"
     ]
    }
   ],
   "source": [
    "# re-train on all the data\n",
    "watchlist = [(train_matrix, 'train')]\n",
    "gbt = xgb.train(params, train_matrix, n_best_trees,watchlist)"
   ]
  },
  {
   "cell_type": "markdown",
   "metadata": {},
   "source": [
    "## Evaluate"
   ]
  },
  {
   "cell_type": "code",
   "execution_count": 26,
   "metadata": {},
   "outputs": [
    {
     "data": {
      "text/plain": [
       "0.3938603673049798"
      ]
     },
     "execution_count": 26,
     "metadata": {},
     "output_type": "execute_result"
    }
   ],
   "source": [
    "ytest_pred = gbt.predict(test_matrix, ntree_limit=n_best_trees)\n",
    "np.sqrt(mean_squared_error(ytest,ytest_pred))"
   ]
  },
  {
   "cell_type": "markdown",
   "metadata": {},
   "source": [
    "we can see that, <span style='color:orange;font-size:1.5em;font-weight:bold'>training RMSE is 0.38, and test set has RMSE 0.39, the difference isn't very high</span>. "
   ]
  },
  {
   "cell_type": "code",
   "execution_count": 27,
   "metadata": {},
   "outputs": [
    {
     "data": {
      "text/plain": [
       "<matplotlib.axes._subplots.AxesSubplot at 0x268049a2a20>"
      ]
     },
     "execution_count": 27,
     "metadata": {},
     "output_type": "execute_result"
    },
    {
     "data": {
      "image/png": "[encoded data removed]",
      "text/plain": [
       "<Figure size 432x288 with 1 Axes>"
      ]
     },
     "metadata": {
      "needs_background": "light"
     },
     "output_type": "display_data"
    }
   ],
   "source": [
    "# check residual's distribution\n",
    "(ytest - ytest_pred).hist(bins=60)"
   ]
  },
  {
   "cell_type": "markdown",
   "metadata": {},
   "source": [
    "from above plot, we can see residuals' distribution is <span style='color:orange;font-size:1.5em;font-weight:bold'>nearly normal, although a little skewed</span>. Hence, the trained model is acceptable."
   ]
  },
  {
   "cell_type": "code",
   "execution_count": 28,
   "metadata": {},
   "outputs": [],
   "source": [
    "gbt.save_model('gbt.model')"
   ]
  },
  {
   "cell_type": "markdown",
   "metadata": {},
   "source": [
    "# Answer question 4\n",
    "* <span style='color:blue'>Describe the main factors impacting employee salaries. </span>\n",
    "* <span style='color:blue'>Do you think the company has been treating its employees fairly? Do you see any bias?</span> \n",
    "* <span style='color:blue'>What are the next steps you would suggest to the Head of HR?</span>\n",
    "\n",
    "## Main factors impacting salaries"
   ]
  },
  {
   "cell_type": "code",
   "execution_count": 29,
   "metadata": {},
   "outputs": [
    {
     "data": {
      "text/plain": [
       "<matplotlib.axes._subplots.AxesSubplot at 0x26804a53c18>"
      ]
     },
     "execution_count": 29,
     "metadata": {},
     "output_type": "execute_result"
    },
    {
     "data": {
      "image/png": "[encoded data removed]",
      "text/plain": [
       "<Figure size 432x288 with 1 Axes>"
      ]
     },
     "metadata": {
      "needs_background": "light"
     },
     "output_type": "display_data"
    }
   ],
   "source": [
    "xgb.plot_importance(gbt)"
   ]
  },
  {
   "cell_type": "markdown",
   "metadata": {},
   "source": [
    "from above plot of feature importance, we can see the main factors impacting salaries includes:\n",
    "* \"years of experience\". this is fair, more experienced deserve high salary\n",
    "* 'n_subordinates'. #subordinates has some relationship with level. higher level, more subordinates, more salary"
   ]
  },
  {
   "cell_type": "markdown",
   "metadata": {},
   "source": [
    "## Residuals Analysis"
   ]
  },
  {
   "cell_type": "code",
   "execution_count": 30,
   "metadata": {},
   "outputs": [],
   "source": [
    "# predict on all data (except CEO) and calculate the bias\n",
    "whole_matrix = xgb.DMatrix(X)\n",
    "ypred = gbt.predict(whole_matrix)\n",
    "\n",
    "# since our prediction is log(salary), so we need to exp it to get the original salary (unit: k)\n",
    "predresult = pd.DataFrame({'ytrue': np.exp(y),'ypred': np.exp(ypred)})\n",
    "\n",
    "# if bias >0, means, that employee is over paid\n",
    "# otherwise, bias<0, means that employee is under paid\n",
    "predresult['bias'] = predresult.ytrue - predresult.ypred"
   ]
  },
  {
   "cell_type": "code",
   "execution_count": 31,
   "metadata": {},
   "outputs": [
    {
     "data": {
      "text/html": [
       "<div>\n",
       "<style scoped>\n",
       "    .dataframe tbody tr th:only-of-type {\n",
       "        vertical-align: middle;\n",
       "    }\n",
       "\n",
       "    .dataframe tbody tr th {\n",
       "        vertical-align: top;\n",
       "    }\n",
       "\n",
       "    .dataframe thead th {\n",
       "        text-align: right;\n",
       "    }\n",
       "</style>\n",
       "<table border=\"1\" class=\"dataframe\">\n",
       "  <thead>\n",
       "    <tr style=\"text-align: right;\">\n",
       "      <th></th>\n",
       "      <th>ypred</th>\n",
       "      <th>ytrue</th>\n",
       "      <th>bias</th>\n",
       "      <th>signing_bonus</th>\n",
       "      <th>salary</th>\n",
       "      <th>degree_level</th>\n",
       "      <th>sex</th>\n",
       "      <th>yrs_experience</th>\n",
       "      <th>boss_id</th>\n",
       "      <th>dept</th>\n",
       "      <th>level</th>\n",
       "      <th>n_subordinates</th>\n",
       "    </tr>\n",
       "    <tr>\n",
       "      <th>employee_id</th>\n",
       "      <th></th>\n",
       "      <th></th>\n",
       "      <th></th>\n",
       "      <th></th>\n",
       "      <th></th>\n",
       "      <th></th>\n",
       "      <th></th>\n",
       "      <th></th>\n",
       "      <th></th>\n",
       "      <th></th>\n",
       "      <th></th>\n",
       "      <th></th>\n",
       "    </tr>\n",
       "  </thead>\n",
       "  <tbody>\n",
       "    <tr>\n",
       "      <th>138719</th>\n",
       "      <td>221.237167</td>\n",
       "      <td>273.0</td>\n",
       "      <td>51.762833</td>\n",
       "      <td>0</td>\n",
       "      <td>273.0</td>\n",
       "      <td>Master</td>\n",
       "      <td>M</td>\n",
       "      <td>2</td>\n",
       "      <td>43602</td>\n",
       "      <td>engineering</td>\n",
       "      <td>IC</td>\n",
       "      <td>0</td>\n",
       "    </tr>\n",
       "    <tr>\n",
       "      <th>3192</th>\n",
       "      <td>169.912643</td>\n",
       "      <td>301.0</td>\n",
       "      <td>131.087357</td>\n",
       "      <td>0</td>\n",
       "      <td>301.0</td>\n",
       "      <td>Bachelor</td>\n",
       "      <td>F</td>\n",
       "      <td>1</td>\n",
       "      <td>87847</td>\n",
       "      <td>sales</td>\n",
       "      <td>IC</td>\n",
       "      <td>0</td>\n",
       "    </tr>\n",
       "    <tr>\n",
       "      <th>114657</th>\n",
       "      <td>171.471039</td>\n",
       "      <td>261.0</td>\n",
       "      <td>89.528961</td>\n",
       "      <td>0</td>\n",
       "      <td>261.0</td>\n",
       "      <td>Master</td>\n",
       "      <td>F</td>\n",
       "      <td>2</td>\n",
       "      <td>180854</td>\n",
       "      <td>sales</td>\n",
       "      <td>IC</td>\n",
       "      <td>0</td>\n",
       "    </tr>\n",
       "    <tr>\n",
       "      <th>29039</th>\n",
       "      <td>80.595932</td>\n",
       "      <td>86.0</td>\n",
       "      <td>5.404068</td>\n",
       "      <td>0</td>\n",
       "      <td>86.0</td>\n",
       "      <td>High_School</td>\n",
       "      <td>F</td>\n",
       "      <td>4</td>\n",
       "      <td>88370</td>\n",
       "      <td>HR</td>\n",
       "      <td>IC</td>\n",
       "      <td>0</td>\n",
       "    </tr>\n",
       "    <tr>\n",
       "      <th>118607</th>\n",
       "      <td>172.676453</td>\n",
       "      <td>126.0</td>\n",
       "      <td>-46.676453</td>\n",
       "      <td>0</td>\n",
       "      <td>126.0</td>\n",
       "      <td>Bachelor</td>\n",
       "      <td>F</td>\n",
       "      <td>3</td>\n",
       "      <td>23565</td>\n",
       "      <td>sales</td>\n",
       "      <td>IC</td>\n",
       "      <td>0</td>\n",
       "    </tr>\n",
       "  </tbody>\n",
       "</table>\n",
       "</div>"
      ],
      "text/plain": [
       "                  ypred  ytrue        bias  signing_bonus  salary  \\\n",
       "employee_id                                                         \n",
       "138719       221.237167  273.0   51.762833              0   273.0   \n",
       "3192         169.912643  301.0  131.087357              0   301.0   \n",
       "114657       171.471039  261.0   89.528961              0   261.0   \n",
       "29039         80.595932   86.0    5.404068              0    86.0   \n",
       "118607       172.676453  126.0  -46.676453              0   126.0   \n",
       "\n",
       "            degree_level sex  yrs_experience  boss_id         dept level  \\\n",
       "employee_id                                                                \n",
       "138719            Master   M               2    43602  engineering    IC   \n",
       "3192            Bachelor   F               1    87847        sales    IC   \n",
       "114657            Master   F               2   180854        sales    IC   \n",
       "29039        High_School   F               4    88370           HR    IC   \n",
       "118607          Bachelor   F               3    23565        sales    IC   \n",
       "\n",
       "             n_subordinates  \n",
       "employee_id                  \n",
       "138719                    0  \n",
       "3192                      0  \n",
       "114657                    0  \n",
       "29039                     0  \n",
       "118607                    0  "
      ]
     },
     "execution_count": 31,
     "metadata": {},
     "output_type": "execute_result"
    }
   ],
   "source": [
    "# join with employee's features\n",
    "predresult = predresult.join(employees)\n",
    "predresult.head() # glance"
   ]
  },
  {
   "cell_type": "code",
   "execution_count": 32,
   "metadata": {},
   "outputs": [],
   "source": [
    "del predresult['ytrue'] # redundant with salary"
   ]
  },
  {
   "cell_type": "code",
   "execution_count": 33,
   "metadata": {},
   "outputs": [
    {
     "data": {
      "text/plain": [
       "<matplotlib.axes._subplots.AxesSubplot at 0x26804aba0f0>"
      ]
     },
     "execution_count": 33,
     "metadata": {},
     "output_type": "execute_result"
    },
    {
     "data": {
      "image/png": "[encoded data removed]",
      "text/plain": [
       "<Figure size 432x288 with 1 Axes>"
      ]
     },
     "metadata": {
      "needs_background": "light"
     },
     "output_type": "display_data"
    }
   ],
   "source": [
    "predresult.bias.hist(bins=60)"
   ]
  },
  {
   "cell_type": "markdown",
   "metadata": {},
   "source": [
    "bias is nearly normal."
   ]
  },
  {
   "cell_type": "code",
   "execution_count": 34,
   "metadata": {},
   "outputs": [
    {
     "data": {
      "text/plain": [
       "Text(0, 0.5, 'bias')"
      ]
     },
     "execution_count": 34,
     "metadata": {},
     "output_type": "execute_result"
    },
    {
     "data": {
      "image/png": "[encoded data removed]",
      "text/plain": [
       "<Figure size 432x288 with 1 Axes>"
      ]
     },
     "metadata": {
      "needs_background": "light"
     },
     "output_type": "display_data"
    }
   ],
   "source": [
    "plt.scatter(predresult.salary,predresult.bias)\n",
    "plt.xlabel(\"true salary\")\n",
    "plt.ylabel(\"bias\")"
   ]
  },
  {
   "cell_type": "markdown",
   "metadata": {},
   "source": [
    "from above plot, we can see that, <span style='color:orange'>employee with high salary are more likely to be overpaid</span>."
   ]
  },
  {
   "cell_type": "code",
   "execution_count": 35,
   "metadata": {},
   "outputs": [],
   "source": [
    "def chisquare_test_on_bias():\n",
    "    X = predresult.copy()\n",
    "    del X['ypred']\n",
    "    del X['salary']\n",
    "    del X['boss_id']\n",
    "\n",
    "    X['degree_level'] = X.degree_level.map(degree2index)\n",
    "    X['level'] = X.level.map(level2index)\n",
    "\n",
    "    X['is_male'] = (X.sex == 'M').astype(int)\n",
    "    del X['sex']\n",
    "\n",
    "    dept_lb_encoder = LabelEncoder()\n",
    "    X['dept'] = dept_lb_encoder.fit_transform(X.dept)\n",
    "    \n",
    "    y = (X.bias > 0)\n",
    "    del X['bias']\n",
    "    \n",
    "    scores,pvalues = chi2(X,y)\n",
    "    return pd.DataFrame({'score': scores, 'pvalue': pvalues},index = X.columns).sort_values(by='pvalue')"
   ]
  },
  {
   "cell_type": "code",
   "execution_count": 36,
   "metadata": {},
   "outputs": [
    {
     "data": {
      "text/html": [
       "<div>\n",
       "<style scoped>\n",
       "    .dataframe tbody tr th:only-of-type {\n",
       "        vertical-align: middle;\n",
       "    }\n",
       "\n",
       "    .dataframe tbody tr th {\n",
       "        vertical-align: top;\n",
       "    }\n",
       "\n",
       "    .dataframe thead th {\n",
       "        text-align: right;\n",
       "    }\n",
       "</style>\n",
       "<table border=\"1\" class=\"dataframe\">\n",
       "  <thead>\n",
       "    <tr style=\"text-align: right;\">\n",
       "      <th></th>\n",
       "      <th>pvalue</th>\n",
       "      <th>score</th>\n",
       "    </tr>\n",
       "  </thead>\n",
       "  <tbody>\n",
       "    <tr>\n",
       "      <th>n_subordinates</th>\n",
       "      <td>0.000000</td>\n",
       "      <td>4578.987365</td>\n",
       "    </tr>\n",
       "    <tr>\n",
       "      <th>dept</th>\n",
       "      <td>0.000026</td>\n",
       "      <td>17.655410</td>\n",
       "    </tr>\n",
       "    <tr>\n",
       "      <th>level</th>\n",
       "      <td>0.043195</td>\n",
       "      <td>4.087737</td>\n",
       "    </tr>\n",
       "    <tr>\n",
       "      <th>yrs_experience</th>\n",
       "      <td>0.092700</td>\n",
       "      <td>2.826847</td>\n",
       "    </tr>\n",
       "    <tr>\n",
       "      <th>signing_bonus</th>\n",
       "      <td>0.185816</td>\n",
       "      <td>1.750487</td>\n",
       "    </tr>\n",
       "    <tr>\n",
       "      <th>is_male</th>\n",
       "      <td>0.278680</td>\n",
       "      <td>1.173516</td>\n",
       "    </tr>\n",
       "    <tr>\n",
       "      <th>degree_level</th>\n",
       "      <td>0.414249</td>\n",
       "      <td>0.666574</td>\n",
       "    </tr>\n",
       "  </tbody>\n",
       "</table>\n",
       "</div>"
      ],
      "text/plain": [
       "                  pvalue        score\n",
       "n_subordinates  0.000000  4578.987365\n",
       "dept            0.000026    17.655410\n",
       "level           0.043195     4.087737\n",
       "yrs_experience  0.092700     2.826847\n",
       "signing_bonus   0.185816     1.750487\n",
       "is_male         0.278680     1.173516\n",
       "degree_level    0.414249     0.666574"
      ]
     },
     "execution_count": 36,
     "metadata": {},
     "output_type": "execute_result"
    }
   ],
   "source": [
    "chisquare_test_on_bias()"
   ]
  },
  {
   "cell_type": "markdown",
   "metadata": {},
   "source": [
    "<span style='color:orange;font-size:1.5em'>n_subordinates, department, level</span> are three factors impacting whether the employee is overpaid or underpaid."
   ]
  },
  {
   "cell_type": "code",
   "execution_count": 37,
   "metadata": {},
   "outputs": [
    {
     "data": {
      "text/plain": [
       "Text(0, 0.5, 'bias')"
      ]
     },
     "execution_count": 37,
     "metadata": {},
     "output_type": "execute_result"
    },
    {
     "data": {
      "image/png": "[encoded data removed]",
      "text/plain": [
       "<Figure size 720x360 with 1 Axes>"
      ]
     },
     "metadata": {
      "needs_background": "light"
     },
     "output_type": "display_data"
    }
   ],
   "source": [
    "plt.figure(figsize=(10,5))\n",
    "plt.scatter(predresult.n_subordinates,predresult.bias)\n",
    "plt.xlabel(\"#subordinates\")\n",
    "plt.ylabel(\"bias\")"
   ]
  },
  {
   "cell_type": "markdown",
   "metadata": {},
   "source": [
    "from above plot, we can see that, <span style='color:orange'>more subordinates (i.e., higher level), more positive bias, means more likely to be overpaid.</span>"
   ]
  },
  {
   "cell_type": "markdown",
   "metadata": {},
   "source": [
    "## Is it fair? Any bias?\n",
    "I think, in large scope, the company treat its employee fairly. the difference among different sex and departments seems normal and fair enough. \n",
    "\n",
    "the only bias I can see is that, <span style='color:orange;font-size:1.5em'>the management level is likely to be overpaid. Higher the level, more likely to be overpaid.</span>"
   ]
  },
  {
   "cell_type": "markdown",
   "metadata": {},
   "source": [
    "## Suggestions to HR header"
   ]
  },
  {
   "cell_type": "markdown",
   "metadata": {},
   "source": [
    "I may suggest him/her considering ** lower down the salaries in high management level **, which may be more fair to the workforce."
   ]
  },
  {
   "cell_type": "code",
   "execution_count": null,
   "metadata": {
    "collapsed": true
   },
   "outputs": [],
   "source": []
  }
 ],
 "metadata": {
  "anaconda-cloud": {},
  "kernelspec": {
   "display_name": "Python 3",
   "language": "python",
   "name": "python3"
  },
  "language_info": {
   "codemirror_mode": {
    "name": "ipython",
    "version": 3
   },
   "file_extension": ".py",
   "mimetype": "text/x-python",
   "name": "python",
   "nbconvert_exporter": "python",
   "pygments_lexer": "ipython3",
   "version": "3.5.6"
  }
 },
 "nbformat": 4,
 "nbformat_minor": 1
}
