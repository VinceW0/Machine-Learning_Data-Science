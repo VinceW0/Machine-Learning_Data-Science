{
 "cells": [
  {
   "cell_type": "code",
   "execution_count": 1,
   "metadata": {},
   "outputs": [],
   "source": [
    "import re\n",
    "import csv\n",
    "from collections import Counter\n",
    "import numpy as np\n",
    "import pandas as pd\n",
    "import matplotlib.pyplot as plt\n",
    "plt.style.use('ggplot')"
   ]
  },
  {
   "cell_type": "code",
   "execution_count": 2,
   "metadata": {},
   "outputs": [],
   "source": [
    "pattern = re.compile(r\"(\\d+) (.+), (.+), CA (\\d+), USA\")"
   ]
  },
  {
   "cell_type": "code",
   "execution_count": 3,
   "metadata": {},
   "outputs": [],
   "source": [
    "class Employee(object):\n",
    "    def __init__(self,segments):\n",
    "        # address\n",
    "        matched = pattern.match(segments[0])\n",
    "        if matched is None:\n",
    "            raise Exception('format not supported')\n",
    "\n",
    "        self.building_no = int( matched.group(1) )\n",
    "        self.street = matched.group(2).lower()\n",
    "        self.city = matched.group(3)\n",
    "        self.zipcode = int( matched.group(4) )\n",
    "\n",
    "        # employee-id\n",
    "        self.id = int(segments[1])"
   ]
  },
  {
   "cell_type": "code",
   "execution_count": 4,
   "metadata": {},
   "outputs": [],
   "source": [
    "employees = []\n",
    "invalid_employees = []"
   ]
  },
  {
   "cell_type": "code",
   "execution_count": 5,
   "metadata": {},
   "outputs": [],
   "source": [
    "address_file = \"Employee_Addresses.csv\"\n",
    "with open(address_file,\"rt\") as inf:\n",
    "    reader = csv.reader(inf)\n",
    "    for segments in reader:\n",
    "        try:\n",
    "            employees.append(Employee(segments))\n",
    "        except:\n",
    "            invalid_employees.append(segments[0])"
   ]
  },
  {
   "cell_type": "code",
   "execution_count": 6,
   "metadata": {},
   "outputs": [
    {
     "data": {
      "text/plain": [
       "16th st                              61\n",
       "geneva ave                           50\n",
       "folsom st                            46\n",
       "alemany blvd                         46\n",
       "mission st                           42\n",
       "twin peaks blvd                      40\n",
       "silver ave                           36\n",
       "schwerin st                          36\n",
       "market st                            32\n",
       "15th st                              30\n",
       "harrison st                          28\n",
       "potrero ave                          27\n",
       "athens st                            26\n",
       "accacia st                           23\n",
       "san jose avenue                      23\n",
       "chenery st                           23\n",
       "14th st                              23\n",
       "bemis st                             22\n",
       "moscow st                            22\n",
       "oriente st                           21\n",
       "madrid st                            21\n",
       "naples st                            19\n",
       "bellevue ave                         18\n",
       "edinburgh st                         18\n",
       "persia ave                           18\n",
       "jackson st                           18\n",
       "hampshire st                         18\n",
       "s van ness ave                       17\n",
       "duboce ave                           17\n",
       "raymond ave                          17\n",
       "                                     ..\n",
       "thornton ave                          1\n",
       "trumbull st                           1\n",
       "tulane st                             1\n",
       "van ness avenue, 100 van ness ave     1\n",
       "rio verde st                          1\n",
       "park st                               1\n",
       "presidio blvd                         1\n",
       "plum st                               1\n",
       "cesar chavez st                       1\n",
       "ellsworth st                          1\n",
       "camellia ave                          1\n",
       "ervine st                             1\n",
       "gennessee st                          1\n",
       "burnside ave                          1\n",
       "brosnan st                            1\n",
       "brompton ave                          1\n",
       "hyde st                               1\n",
       "brazil ave                            1\n",
       "isis st                               1\n",
       "julian ave                            1\n",
       "lansing st                            1\n",
       "marsilly st                           1\n",
       "beacon st                             1\n",
       "monterey blvd                         1\n",
       "oneida ave                            1\n",
       "otsego ave                            1\n",
       "paradise ave                          1\n",
       "peabody st                            1\n",
       "perry st                              1\n",
       "york st                               1\n",
       "Length: 266, dtype: int64"
      ]
     },
     "execution_count": 6,
     "metadata": {},
     "output_type": "execute_result"
    }
   ],
   "source": [
    "streets_counter = Counter((e.street for e in employees))\n",
    "streets_counts = pd.Series(streets_counter)\n",
    "streets_counts.sort_values(ascending=False)"
   ]
  },
  {
   "cell_type": "code",
   "execution_count": null,
   "metadata": {},
   "outputs": [],
   "source": []
  },
  {
   "cell_type": "code",
   "execution_count": null,
   "metadata": {},
   "outputs": [],
   "source": []
  },
  {
   "cell_type": "code",
   "execution_count": null,
   "metadata": {},
   "outputs": [],
   "source": []
  }
 ],
 "metadata": {
  "kernelspec": {
   "display_name": "Python 3",
   "language": "python",
   "name": "python3"
  },
  "language_info": {
   "codemirror_mode": {
    "name": "ipython",
    "version": 3
   },
   "file_extension": ".py",
   "mimetype": "text/x-python",
   "name": "python",
   "nbconvert_exporter": "python",
   "pygments_lexer": "ipython3",
   "version": "3.5.6"
  }
 },
 "nbformat": 4,
 "nbformat_minor": 2
}
